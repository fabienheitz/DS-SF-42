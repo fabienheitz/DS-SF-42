{
 "cells": [
  {
   "cell_type": "markdown",
   "metadata": {},
   "source": [
    "# DS-SF-42 | 03 | Exploratory Data Analysis | Codealong | Answer Key"
   ]
  },
  {
   "cell_type": "code",
   "execution_count": 1,
   "metadata": {
    "collapsed": true
   },
   "outputs": [],
   "source": [
    "import os\n",
    "import math\n",
    "import numpy as np\n",
    "import pandas as pd\n",
    "import seaborn as sns\n",
    "import matplotlib.pyplot as plt\n",
    "%matplotlib inline\n",
    "plt.style.use('ggplot')"
   ]
  },
  {
   "cell_type": "markdown",
   "metadata": {},
   "source": [
    "## Part A | Activity | The _pandas_ Library"
   ]
  },
  {
   "cell_type": "code",
   "execution_count": 2,
   "metadata": {
    "collapsed": true
   },
   "outputs": [],
   "source": [
    "df = pd.DataFrame({'name': ['Alice', 'Bob', 'Carol', 'Dave', 'Eve', 'Frank'],\n",
    "    'gender': ['Female', 'Male', 'Female', 'Male', 'Female', 'Male'],\n",
    "    'age': [24, 34, 44, 41, 52, 43],\n",
    "    'marital_status': [0, 2, 1, 2, 0, 1]}).\\\n",
    "        set_index('name')"
   ]
  },
  {
   "cell_type": "code",
   "execution_count": 3,
   "metadata": {},
   "outputs": [
    {
     "data": {
      "text/html": [
       "<div>\n",
       "<style>\n",
       "    .dataframe thead tr:only-child th {\n",
       "        text-align: right;\n",
       "    }\n",
       "\n",
       "    .dataframe thead th {\n",
       "        text-align: left;\n",
       "    }\n",
       "\n",
       "    .dataframe tbody tr th {\n",
       "        vertical-align: top;\n",
       "    }\n",
       "</style>\n",
       "<table border=\"1\" class=\"dataframe\">\n",
       "  <thead>\n",
       "    <tr style=\"text-align: right;\">\n",
       "      <th></th>\n",
       "      <th>age</th>\n",
       "      <th>gender</th>\n",
       "      <th>marital_status</th>\n",
       "    </tr>\n",
       "    <tr>\n",
       "      <th>name</th>\n",
       "      <th></th>\n",
       "      <th></th>\n",
       "      <th></th>\n",
       "    </tr>\n",
       "  </thead>\n",
       "  <tbody>\n",
       "    <tr>\n",
       "      <th>Alice</th>\n",
       "      <td>24</td>\n",
       "      <td>Female</td>\n",
       "      <td>0</td>\n",
       "    </tr>\n",
       "    <tr>\n",
       "      <th>Bob</th>\n",
       "      <td>34</td>\n",
       "      <td>Male</td>\n",
       "      <td>2</td>\n",
       "    </tr>\n",
       "    <tr>\n",
       "      <th>Carol</th>\n",
       "      <td>44</td>\n",
       "      <td>Female</td>\n",
       "      <td>1</td>\n",
       "    </tr>\n",
       "    <tr>\n",
       "      <th>Dave</th>\n",
       "      <td>41</td>\n",
       "      <td>Male</td>\n",
       "      <td>2</td>\n",
       "    </tr>\n",
       "    <tr>\n",
       "      <th>Eve</th>\n",
       "      <td>52</td>\n",
       "      <td>Female</td>\n",
       "      <td>0</td>\n",
       "    </tr>\n",
       "    <tr>\n",
       "      <th>Frank</th>\n",
       "      <td>43</td>\n",
       "      <td>Male</td>\n",
       "      <td>1</td>\n",
       "    </tr>\n",
       "  </tbody>\n",
       "</table>\n",
       "</div>"
      ],
      "text/plain": [
       "       age  gender  marital_status\n",
       "name                              \n",
       "Alice   24  Female               0\n",
       "Bob     34    Male               2\n",
       "Carol   44  Female               1\n",
       "Dave    41    Male               2\n",
       "Eve     52  Female               0\n",
       "Frank   43    Male               1"
      ]
     },
     "execution_count": 3,
     "metadata": {},
     "output_type": "execute_result"
    }
   ],
   "source": [
    "df"
   ]
  },
  {
   "cell_type": "markdown",
   "metadata": {},
   "source": [
    "> ### Question 1.  Subset the dataframe on the age and gender columns"
   ]
  },
  {
   "cell_type": "code",
   "execution_count": 4,
   "metadata": {},
   "outputs": [
    {
     "data": {
      "text/html": [
       "<div>\n",
       "<style>\n",
       "    .dataframe thead tr:only-child th {\n",
       "        text-align: right;\n",
       "    }\n",
       "\n",
       "    .dataframe thead th {\n",
       "        text-align: left;\n",
       "    }\n",
       "\n",
       "    .dataframe tbody tr th {\n",
       "        vertical-align: top;\n",
       "    }\n",
       "</style>\n",
       "<table border=\"1\" class=\"dataframe\">\n",
       "  <thead>\n",
       "    <tr style=\"text-align: right;\">\n",
       "      <th></th>\n",
       "      <th>age</th>\n",
       "      <th>gender</th>\n",
       "    </tr>\n",
       "    <tr>\n",
       "      <th>name</th>\n",
       "      <th></th>\n",
       "      <th></th>\n",
       "    </tr>\n",
       "  </thead>\n",
       "  <tbody>\n",
       "    <tr>\n",
       "      <th>Alice</th>\n",
       "      <td>24</td>\n",
       "      <td>Female</td>\n",
       "    </tr>\n",
       "    <tr>\n",
       "      <th>Bob</th>\n",
       "      <td>34</td>\n",
       "      <td>Male</td>\n",
       "    </tr>\n",
       "    <tr>\n",
       "      <th>Carol</th>\n",
       "      <td>44</td>\n",
       "      <td>Female</td>\n",
       "    </tr>\n",
       "    <tr>\n",
       "      <th>Dave</th>\n",
       "      <td>41</td>\n",
       "      <td>Male</td>\n",
       "    </tr>\n",
       "    <tr>\n",
       "      <th>Eve</th>\n",
       "      <td>52</td>\n",
       "      <td>Female</td>\n",
       "    </tr>\n",
       "    <tr>\n",
       "      <th>Frank</th>\n",
       "      <td>43</td>\n",
       "      <td>Male</td>\n",
       "    </tr>\n",
       "  </tbody>\n",
       "</table>\n",
       "</div>"
      ],
      "text/plain": [
       "       age  gender\n",
       "name              \n",
       "Alice   24  Female\n",
       "Bob     34    Male\n",
       "Carol   44  Female\n",
       "Dave    41    Male\n",
       "Eve     52  Female\n",
       "Frank   43    Male"
      ]
     },
     "execution_count": 4,
     "metadata": {},
     "output_type": "execute_result"
    }
   ],
   "source": [
    "df[ ['age', 'gender'] ] # by column names; DataFrame"
   ]
  },
  {
   "cell_type": "markdown",
   "metadata": {},
   "source": [
    "> ### Question 2.  Subset the dataframe on the age column alone, first as a `DataFrame`, then as a `Series`"
   ]
  },
  {
   "cell_type": "code",
   "execution_count": 5,
   "metadata": {
    "scrolled": true
   },
   "outputs": [
    {
     "data": {
      "text/html": [
       "<div>\n",
       "<style>\n",
       "    .dataframe thead tr:only-child th {\n",
       "        text-align: right;\n",
       "    }\n",
       "\n",
       "    .dataframe thead th {\n",
       "        text-align: left;\n",
       "    }\n",
       "\n",
       "    .dataframe tbody tr th {\n",
       "        vertical-align: top;\n",
       "    }\n",
       "</style>\n",
       "<table border=\"1\" class=\"dataframe\">\n",
       "  <thead>\n",
       "    <tr style=\"text-align: right;\">\n",
       "      <th></th>\n",
       "      <th>age</th>\n",
       "    </tr>\n",
       "    <tr>\n",
       "      <th>name</th>\n",
       "      <th></th>\n",
       "    </tr>\n",
       "  </thead>\n",
       "  <tbody>\n",
       "    <tr>\n",
       "      <th>Alice</th>\n",
       "      <td>24</td>\n",
       "    </tr>\n",
       "    <tr>\n",
       "      <th>Bob</th>\n",
       "      <td>34</td>\n",
       "    </tr>\n",
       "    <tr>\n",
       "      <th>Carol</th>\n",
       "      <td>44</td>\n",
       "    </tr>\n",
       "    <tr>\n",
       "      <th>Dave</th>\n",
       "      <td>41</td>\n",
       "    </tr>\n",
       "    <tr>\n",
       "      <th>Eve</th>\n",
       "      <td>52</td>\n",
       "    </tr>\n",
       "    <tr>\n",
       "      <th>Frank</th>\n",
       "      <td>43</td>\n",
       "    </tr>\n",
       "  </tbody>\n",
       "</table>\n",
       "</div>"
      ],
      "text/plain": [
       "       age\n",
       "name      \n",
       "Alice   24\n",
       "Bob     34\n",
       "Carol   44\n",
       "Dave    41\n",
       "Eve     52\n",
       "Frank   43"
      ]
     },
     "execution_count": 5,
     "metadata": {},
     "output_type": "execute_result"
    }
   ],
   "source": [
    "df[['age']] # by column name; DataFrame"
   ]
  },
  {
   "cell_type": "markdown",
   "metadata": {},
   "source": [
    "(or)"
   ]
  },
  {
   "cell_type": "code",
   "execution_count": 6,
   "metadata": {},
   "outputs": [
    {
     "data": {
      "text/plain": [
       "name\n",
       "Alice    24\n",
       "Bob      34\n",
       "Carol    44\n",
       "Dave     41\n",
       "Eve      52\n",
       "Frank    43\n",
       "Name: age, dtype: int64"
      ]
     },
     "execution_count": 6,
     "metadata": {},
     "output_type": "execute_result"
    }
   ],
   "source": [
    "df['age'] # by column name; Series"
   ]
  },
  {
   "cell_type": "markdown",
   "metadata": {},
   "source": [
    "(or)"
   ]
  },
  {
   "cell_type": "code",
   "execution_count": 7,
   "metadata": {},
   "outputs": [
    {
     "data": {
      "text/plain": [
       "name\n",
       "Alice    24\n",
       "Bob      34\n",
       "Carol    44\n",
       "Dave     41\n",
       "Eve      52\n",
       "Frank    43\n",
       "Name: age, dtype: int64"
      ]
     },
     "execution_count": 7,
     "metadata": {},
     "output_type": "execute_result"
    }
   ],
   "source": [
    "df.age # by column name (property); Series"
   ]
  },
  {
   "cell_type": "markdown",
   "metadata": {},
   "source": [
    "> ### Question 3.  Subset the dataframe on the rows Bob and Carol"
   ]
  },
  {
   "cell_type": "code",
   "execution_count": 8,
   "metadata": {},
   "outputs": [
    {
     "data": {
      "text/html": [
       "<div>\n",
       "<style>\n",
       "    .dataframe thead tr:only-child th {\n",
       "        text-align: right;\n",
       "    }\n",
       "\n",
       "    .dataframe thead th {\n",
       "        text-align: left;\n",
       "    }\n",
       "\n",
       "    .dataframe tbody tr th {\n",
       "        vertical-align: top;\n",
       "    }\n",
       "</style>\n",
       "<table border=\"1\" class=\"dataframe\">\n",
       "  <thead>\n",
       "    <tr style=\"text-align: right;\">\n",
       "      <th></th>\n",
       "      <th>age</th>\n",
       "      <th>gender</th>\n",
       "      <th>marital_status</th>\n",
       "    </tr>\n",
       "    <tr>\n",
       "      <th>name</th>\n",
       "      <th></th>\n",
       "      <th></th>\n",
       "      <th></th>\n",
       "    </tr>\n",
       "  </thead>\n",
       "  <tbody>\n",
       "    <tr>\n",
       "      <th>Bob</th>\n",
       "      <td>34</td>\n",
       "      <td>Male</td>\n",
       "      <td>2</td>\n",
       "    </tr>\n",
       "    <tr>\n",
       "      <th>Carol</th>\n",
       "      <td>44</td>\n",
       "      <td>Female</td>\n",
       "      <td>1</td>\n",
       "    </tr>\n",
       "  </tbody>\n",
       "</table>\n",
       "</div>"
      ],
      "text/plain": [
       "       age  gender  marital_status\n",
       "name                              \n",
       "Bob     34    Male               2\n",
       "Carol   44  Female               1"
      ]
     },
     "execution_count": 8,
     "metadata": {},
     "output_type": "execute_result"
    }
   ],
   "source": [
    "df.loc[['Bob', 'Carol']] # by index labels; DataFrame"
   ]
  },
  {
   "cell_type": "markdown",
   "metadata": {},
   "source": [
    "(or)"
   ]
  },
  {
   "cell_type": "code",
   "execution_count": 9,
   "metadata": {},
   "outputs": [
    {
     "data": {
      "text/html": [
       "<div>\n",
       "<style>\n",
       "    .dataframe thead tr:only-child th {\n",
       "        text-align: right;\n",
       "    }\n",
       "\n",
       "    .dataframe thead th {\n",
       "        text-align: left;\n",
       "    }\n",
       "\n",
       "    .dataframe tbody tr th {\n",
       "        vertical-align: top;\n",
       "    }\n",
       "</style>\n",
       "<table border=\"1\" class=\"dataframe\">\n",
       "  <thead>\n",
       "    <tr style=\"text-align: right;\">\n",
       "      <th></th>\n",
       "      <th>age</th>\n",
       "      <th>gender</th>\n",
       "      <th>marital_status</th>\n",
       "    </tr>\n",
       "    <tr>\n",
       "      <th>name</th>\n",
       "      <th></th>\n",
       "      <th></th>\n",
       "      <th></th>\n",
       "    </tr>\n",
       "  </thead>\n",
       "  <tbody>\n",
       "    <tr>\n",
       "      <th>Bob</th>\n",
       "      <td>34</td>\n",
       "      <td>Male</td>\n",
       "      <td>2</td>\n",
       "    </tr>\n",
       "    <tr>\n",
       "      <th>Carol</th>\n",
       "      <td>44</td>\n",
       "      <td>Female</td>\n",
       "      <td>1</td>\n",
       "    </tr>\n",
       "  </tbody>\n",
       "</table>\n",
       "</div>"
      ],
      "text/plain": [
       "       age  gender  marital_status\n",
       "name                              \n",
       "Bob     34    Male               2\n",
       "Carol   44  Female               1"
      ]
     },
     "execution_count": 9,
     "metadata": {},
     "output_type": "execute_result"
    }
   ],
   "source": [
    "df.iloc[ [1, 2] ] # by location; DataFrame"
   ]
  },
  {
   "cell_type": "markdown",
   "metadata": {},
   "source": [
    "> ### Question 4.  Subset the dataframe on the row Eve alone, first as a `DataFrame`, then as a `Series`"
   ]
  },
  {
   "cell_type": "code",
   "execution_count": 10,
   "metadata": {},
   "outputs": [
    {
     "data": {
      "text/html": [
       "<div>\n",
       "<style>\n",
       "    .dataframe thead tr:only-child th {\n",
       "        text-align: right;\n",
       "    }\n",
       "\n",
       "    .dataframe thead th {\n",
       "        text-align: left;\n",
       "    }\n",
       "\n",
       "    .dataframe tbody tr th {\n",
       "        vertical-align: top;\n",
       "    }\n",
       "</style>\n",
       "<table border=\"1\" class=\"dataframe\">\n",
       "  <thead>\n",
       "    <tr style=\"text-align: right;\">\n",
       "      <th></th>\n",
       "      <th>age</th>\n",
       "      <th>gender</th>\n",
       "      <th>marital_status</th>\n",
       "    </tr>\n",
       "    <tr>\n",
       "      <th>name</th>\n",
       "      <th></th>\n",
       "      <th></th>\n",
       "      <th></th>\n",
       "    </tr>\n",
       "  </thead>\n",
       "  <tbody>\n",
       "    <tr>\n",
       "      <th>Eve</th>\n",
       "      <td>52</td>\n",
       "      <td>Female</td>\n",
       "      <td>0</td>\n",
       "    </tr>\n",
       "  </tbody>\n",
       "</table>\n",
       "</div>"
      ],
      "text/plain": [
       "      age  gender  marital_status\n",
       "name                             \n",
       "Eve    52  Female               0"
      ]
     },
     "execution_count": 10,
     "metadata": {},
     "output_type": "execute_result"
    }
   ],
   "source": [
    "df.loc[ ['Eve'] ] # by index label; DataFrame"
   ]
  },
  {
   "cell_type": "markdown",
   "metadata": {},
   "source": [
    "(or)"
   ]
  },
  {
   "cell_type": "code",
   "execution_count": 11,
   "metadata": {},
   "outputs": [
    {
     "data": {
      "text/html": [
       "<div>\n",
       "<style>\n",
       "    .dataframe thead tr:only-child th {\n",
       "        text-align: right;\n",
       "    }\n",
       "\n",
       "    .dataframe thead th {\n",
       "        text-align: left;\n",
       "    }\n",
       "\n",
       "    .dataframe tbody tr th {\n",
       "        vertical-align: top;\n",
       "    }\n",
       "</style>\n",
       "<table border=\"1\" class=\"dataframe\">\n",
       "  <thead>\n",
       "    <tr style=\"text-align: right;\">\n",
       "      <th></th>\n",
       "      <th>age</th>\n",
       "      <th>gender</th>\n",
       "      <th>marital_status</th>\n",
       "    </tr>\n",
       "    <tr>\n",
       "      <th>name</th>\n",
       "      <th></th>\n",
       "      <th></th>\n",
       "      <th></th>\n",
       "    </tr>\n",
       "  </thead>\n",
       "  <tbody>\n",
       "    <tr>\n",
       "      <th>Eve</th>\n",
       "      <td>52</td>\n",
       "      <td>Female</td>\n",
       "      <td>0</td>\n",
       "    </tr>\n",
       "  </tbody>\n",
       "</table>\n",
       "</div>"
      ],
      "text/plain": [
       "      age  gender  marital_status\n",
       "name                             \n",
       "Eve    52  Female               0"
      ]
     },
     "execution_count": 11,
     "metadata": {},
     "output_type": "execute_result"
    }
   ],
   "source": [
    "df.iloc[ [4] ] # by location; DataFrame"
   ]
  },
  {
   "cell_type": "code",
   "execution_count": 12,
   "metadata": {},
   "outputs": [
    {
     "data": {
      "text/plain": [
       "age                   52\n",
       "gender            Female\n",
       "marital_status         0\n",
       "Name: Eve, dtype: object"
      ]
     },
     "execution_count": 12,
     "metadata": {},
     "output_type": "execute_result"
    }
   ],
   "source": [
    "df.loc['Eve'] # by index label; Series"
   ]
  },
  {
   "cell_type": "markdown",
   "metadata": {},
   "source": [
    "(or)"
   ]
  },
  {
   "cell_type": "code",
   "execution_count": 13,
   "metadata": {},
   "outputs": [
    {
     "data": {
      "text/plain": [
       "age                   52\n",
       "gender            Female\n",
       "marital_status         0\n",
       "Name: Eve, dtype: object"
      ]
     },
     "execution_count": 13,
     "metadata": {},
     "output_type": "execute_result"
    }
   ],
   "source": [
    "df.iloc[4] # by location; Series"
   ]
  },
  {
   "cell_type": "markdown",
   "metadata": {},
   "source": [
    "> ### Question 5.  How old is Frank?"
   ]
  },
  {
   "cell_type": "code",
   "execution_count": 14,
   "metadata": {},
   "outputs": [
    {
     "data": {
      "text/plain": [
       "43"
      ]
     },
     "execution_count": 14,
     "metadata": {},
     "output_type": "execute_result"
    }
   ],
   "source": [
    "df.at['Frank', 'age'] # by index label, column name"
   ]
  },
  {
   "cell_type": "markdown",
   "metadata": {},
   "source": [
    "(or)"
   ]
  },
  {
   "cell_type": "code",
   "execution_count": 15,
   "metadata": {},
   "outputs": [
    {
     "data": {
      "text/plain": [
       "43"
      ]
     },
     "execution_count": 15,
     "metadata": {},
     "output_type": "execute_result"
    }
   ],
   "source": [
    "df.iat[5, 0] # by location"
   ]
  },
  {
   "cell_type": "markdown",
   "metadata": {},
   "source": [
    "(or)"
   ]
  },
  {
   "cell_type": "code",
   "execution_count": 16,
   "metadata": {},
   "outputs": [
    {
     "data": {
      "text/plain": [
       "43"
      ]
     },
     "execution_count": 16,
     "metadata": {},
     "output_type": "execute_result"
    }
   ],
   "source": [
    "df.loc['Frank']['age'] # subset by row then by column"
   ]
  },
  {
   "cell_type": "markdown",
   "metadata": {},
   "source": [
    "(or)"
   ]
  },
  {
   "cell_type": "code",
   "execution_count": 17,
   "metadata": {},
   "outputs": [
    {
     "data": {
      "text/plain": [
       "43"
      ]
     },
     "execution_count": 17,
     "metadata": {},
     "output_type": "execute_result"
    }
   ],
   "source": [
    "df.loc['Frank'].age"
   ]
  },
  {
   "cell_type": "markdown",
   "metadata": {},
   "source": [
    "(or)"
   ]
  },
  {
   "cell_type": "code",
   "execution_count": 18,
   "metadata": {},
   "outputs": [
    {
     "data": {
      "text/plain": [
       "43"
      ]
     },
     "execution_count": 18,
     "metadata": {},
     "output_type": "execute_result"
    }
   ],
   "source": [
    "df['age']['Frank'] # subset by column then by row"
   ]
  },
  {
   "cell_type": "markdown",
   "metadata": {},
   "source": [
    "(or)"
   ]
  },
  {
   "cell_type": "code",
   "execution_count": 19,
   "metadata": {},
   "outputs": [
    {
     "data": {
      "text/plain": [
       "43"
      ]
     },
     "execution_count": 19,
     "metadata": {},
     "output_type": "execute_result"
    }
   ],
   "source": [
    "df.age.Frank"
   ]
  },
  {
   "cell_type": "markdown",
   "metadata": {},
   "source": [
    "> ### Question 6.  What is the men’s mean age, the women’s median age?"
   ]
  },
  {
   "cell_type": "code",
   "execution_count": 20,
   "metadata": {},
   "outputs": [
    {
     "name": "stdout",
     "output_type": "stream",
     "text": [
      "Men's mean age = 39.3333333333\n",
      "Women's median age = 44.0\n"
     ]
    }
   ],
   "source": [
    "print \"Men's mean age =\", df[df.gender == 'Male'].age.mean()\n",
    "print \"Women's median age =\", df[df.gender == 'Female'].age.median()"
   ]
  },
  {
   "cell_type": "markdown",
   "metadata": {},
   "source": [
    "(or)"
   ]
  },
  {
   "cell_type": "code",
   "execution_count": 21,
   "metadata": {},
   "outputs": [
    {
     "name": "stdout",
     "output_type": "stream",
     "text": [
      "Men's mean age = 39.3333333333\n",
      "Women's median age = 44\n"
     ]
    }
   ],
   "source": [
    "print \"Men's mean age =\", df.groupby('gender').age.mean().Male\n",
    "print \"Women's median age =\", df.groupby('gender').age.median().Female"
   ]
  },
  {
   "cell_type": "markdown",
   "metadata": {},
   "source": [
    "## Part B"
   ]
  },
  {
   "cell_type": "markdown",
   "metadata": {},
   "source": [
    "- `.mean()`\n",
    "  - (http://pandas.pydata.org/pandas-docs/stable/generated/pandas.DataFrame.mean.html)\n",
    "  - (http://pandas.pydata.org/pandas-docs/stable/generated/pandas.Series.mean.html)\n",
    "- `.var()`, `.std()`\n",
    "  - (http://pandas.pydata.org/pandas-docs/stable/generated/pandas.DataFrame.var.html)\n",
    "  - (http://pandas.pydata.org/pandas-docs/stable/generated/pandas.Series.var.html)\n",
    "  - (http://pandas.pydata.org/pandas-docs/stable/generated/pandas.DataFrame.std.html)\n",
    "  - (http://pandas.pydata.org/pandas-docs/stable/generated/pandas.Series.std.html)"
   ]
  },
  {
   "cell_type": "code",
   "execution_count": 22,
   "metadata": {},
   "outputs": [],
   "source": [
    "df = pd.read_csv(os.path.join('..', 'datasets', 'dataset-04-zillow.csv'), index_col = 'ID')"
   ]
  },
  {
   "cell_type": "code",
   "execution_count": 23,
   "metadata": {},
   "outputs": [
    {
     "data": {
      "text/html": [
       "<div>\n",
       "<style>\n",
       "    .dataframe thead tr:only-child th {\n",
       "        text-align: right;\n",
       "    }\n",
       "\n",
       "    .dataframe thead th {\n",
       "        text-align: left;\n",
       "    }\n",
       "\n",
       "    .dataframe tbody tr th {\n",
       "        vertical-align: top;\n",
       "    }\n",
       "</style>\n",
       "<table border=\"1\" class=\"dataframe\">\n",
       "  <thead>\n",
       "    <tr style=\"text-align: right;\">\n",
       "      <th></th>\n",
       "      <th>Address</th>\n",
       "      <th>DateOfSale</th>\n",
       "      <th>SalePrice</th>\n",
       "      <th>IsAStudio</th>\n",
       "      <th>Beds</th>\n",
       "      <th>Baths</th>\n",
       "      <th>Size</th>\n",
       "      <th>LotSize</th>\n",
       "      <th>BuiltInYear</th>\n",
       "    </tr>\n",
       "    <tr>\n",
       "      <th>ID</th>\n",
       "      <th></th>\n",
       "      <th></th>\n",
       "      <th></th>\n",
       "      <th></th>\n",
       "      <th></th>\n",
       "      <th></th>\n",
       "      <th></th>\n",
       "      <th></th>\n",
       "      <th></th>\n",
       "    </tr>\n",
       "  </thead>\n",
       "  <tbody>\n",
       "    <tr>\n",
       "      <th>15063471</th>\n",
       "      <td>55 Vandewater St APT 9, San Francisco, CA</td>\n",
       "      <td>12/4/15</td>\n",
       "      <td>0.7100</td>\n",
       "      <td>0.0</td>\n",
       "      <td>1.0</td>\n",
       "      <td>NaN</td>\n",
       "      <td>550.0</td>\n",
       "      <td>NaN</td>\n",
       "      <td>1980.0</td>\n",
       "    </tr>\n",
       "    <tr>\n",
       "      <th>15063505</th>\n",
       "      <td>740 Francisco St, San Francisco, CA</td>\n",
       "      <td>11/30/15</td>\n",
       "      <td>2.1500</td>\n",
       "      <td>0.0</td>\n",
       "      <td>NaN</td>\n",
       "      <td>2.0</td>\n",
       "      <td>1430.0</td>\n",
       "      <td>2435.0</td>\n",
       "      <td>1948.0</td>\n",
       "    </tr>\n",
       "    <tr>\n",
       "      <th>15063609</th>\n",
       "      <td>819 Francisco St, San Francisco, CA</td>\n",
       "      <td>11/12/15</td>\n",
       "      <td>5.6000</td>\n",
       "      <td>0.0</td>\n",
       "      <td>2.0</td>\n",
       "      <td>3.5</td>\n",
       "      <td>2040.0</td>\n",
       "      <td>3920.0</td>\n",
       "      <td>1976.0</td>\n",
       "    </tr>\n",
       "    <tr>\n",
       "      <th>15064044</th>\n",
       "      <td>199 Chestnut St APT 5, San Francisco, CA</td>\n",
       "      <td>12/11/15</td>\n",
       "      <td>1.5000</td>\n",
       "      <td>0.0</td>\n",
       "      <td>1.0</td>\n",
       "      <td>1.0</td>\n",
       "      <td>1060.0</td>\n",
       "      <td>NaN</td>\n",
       "      <td>1930.0</td>\n",
       "    </tr>\n",
       "    <tr>\n",
       "      <th>15064257</th>\n",
       "      <td>111 Chestnut St APT 403, San Francisco, CA</td>\n",
       "      <td>1/15/16</td>\n",
       "      <td>0.9700</td>\n",
       "      <td>0.0</td>\n",
       "      <td>2.0</td>\n",
       "      <td>2.0</td>\n",
       "      <td>1299.0</td>\n",
       "      <td>NaN</td>\n",
       "      <td>1993.0</td>\n",
       "    </tr>\n",
       "    <tr>\n",
       "      <th>15064295</th>\n",
       "      <td>111 Chestnut St APT 702, San Francisco, CA</td>\n",
       "      <td>12/17/15</td>\n",
       "      <td>0.9400</td>\n",
       "      <td>0.0</td>\n",
       "      <td>2.0</td>\n",
       "      <td>2.0</td>\n",
       "      <td>1033.0</td>\n",
       "      <td>NaN</td>\n",
       "      <td>1993.0</td>\n",
       "    </tr>\n",
       "    <tr>\n",
       "      <th>15064391</th>\n",
       "      <td>1821 Grant Ave APT 101, San Francisco, CA</td>\n",
       "      <td>12/15/15</td>\n",
       "      <td>0.8350</td>\n",
       "      <td>0.0</td>\n",
       "      <td>1.0</td>\n",
       "      <td>1.0</td>\n",
       "      <td>1048.0</td>\n",
       "      <td>NaN</td>\n",
       "      <td>1975.0</td>\n",
       "    </tr>\n",
       "    <tr>\n",
       "      <th>15064536</th>\n",
       "      <td>2300 Leavenworth St, San Francisco, CA</td>\n",
       "      <td>12/4/15</td>\n",
       "      <td>2.8300</td>\n",
       "      <td>0.0</td>\n",
       "      <td>3.0</td>\n",
       "      <td>2.0</td>\n",
       "      <td>2115.0</td>\n",
       "      <td>1271.0</td>\n",
       "      <td>1913.0</td>\n",
       "    </tr>\n",
       "    <tr>\n",
       "      <th>15064640</th>\n",
       "      <td>1047-1049 Lombard St, San Francisco, CA</td>\n",
       "      <td>1/14/16</td>\n",
       "      <td>4.0500</td>\n",
       "      <td>1.0</td>\n",
       "      <td>NaN</td>\n",
       "      <td>NaN</td>\n",
       "      <td>4102.0</td>\n",
       "      <td>3049.0</td>\n",
       "      <td>1948.0</td>\n",
       "    </tr>\n",
       "    <tr>\n",
       "      <th>15064669</th>\n",
       "      <td>1055 Lombard St # C, San Francisco, CA</td>\n",
       "      <td>12/31/15</td>\n",
       "      <td>2.1900</td>\n",
       "      <td>0.0</td>\n",
       "      <td>2.0</td>\n",
       "      <td>3.0</td>\n",
       "      <td>1182.0</td>\n",
       "      <td>NaN</td>\n",
       "      <td>1986.0</td>\n",
       "    </tr>\n",
       "    <tr>\n",
       "      <th>15065032</th>\n",
       "      <td>101 Lombard St APT 116E, San Francisco, CA</td>\n",
       "      <td>12/7/15</td>\n",
       "      <td>0.8000</td>\n",
       "      <td>0.0</td>\n",
       "      <td>1.0</td>\n",
       "      <td>1.0</td>\n",
       "      <td>1000.0</td>\n",
       "      <td>NaN</td>\n",
       "      <td>1983.0</td>\n",
       "    </tr>\n",
       "    <tr>\n",
       "      <th>15065140</th>\n",
       "      <td>1407 Montgomery St APT 2, San Francisco, CA</td>\n",
       "      <td>1/28/16</td>\n",
       "      <td>0.9760</td>\n",
       "      <td>0.0</td>\n",
       "      <td>1.0</td>\n",
       "      <td>1.0</td>\n",
       "      <td>1000.0</td>\n",
       "      <td>NaN</td>\n",
       "      <td>1870.0</td>\n",
       "    </tr>\n",
       "    <tr>\n",
       "      <th>15065727</th>\n",
       "      <td>1360 Montgomery St APT 1, San Francisco, CA</td>\n",
       "      <td>11/16/15</td>\n",
       "      <td>0.7200</td>\n",
       "      <td>0.0</td>\n",
       "      <td>1.0</td>\n",
       "      <td>1.0</td>\n",
       "      <td>552.0</td>\n",
       "      <td>NaN</td>\n",
       "      <td>1937.0</td>\n",
       "    </tr>\n",
       "    <tr>\n",
       "      <th>15065810</th>\n",
       "      <td>1327-1329 Kearny St, San Francisco, CA</td>\n",
       "      <td>11/25/15</td>\n",
       "      <td>2.2500</td>\n",
       "      <td>0.0</td>\n",
       "      <td>NaN</td>\n",
       "      <td>4.0</td>\n",
       "      <td>2658.0</td>\n",
       "      <td>1600.0</td>\n",
       "      <td>1906.0</td>\n",
       "    </tr>\n",
       "    <tr>\n",
       "      <th>15065946</th>\n",
       "      <td>44 Macondray Ln APT 2E, San Francisco, CA</td>\n",
       "      <td>11/30/15</td>\n",
       "      <td>1.2900</td>\n",
       "      <td>0.0</td>\n",
       "      <td>2.0</td>\n",
       "      <td>2.0</td>\n",
       "      <td>1165.0</td>\n",
       "      <td>NaN</td>\n",
       "      <td>1980.0</td>\n",
       "    </tr>\n",
       "    <tr>\n",
       "      <th>15066001</th>\n",
       "      <td>1070 Green St APT 201, San Francisco, CA</td>\n",
       "      <td>11/18/15</td>\n",
       "      <td>2.9000</td>\n",
       "      <td>0.0</td>\n",
       "      <td>2.0</td>\n",
       "      <td>2.0</td>\n",
       "      <td>1465.0</td>\n",
       "      <td>NaN</td>\n",
       "      <td>1963.0</td>\n",
       "    </tr>\n",
       "    <tr>\n",
       "      <th>15066036</th>\n",
       "      <td>1070 Green St APT 1402, San Francisco, CA</td>\n",
       "      <td>12/31/15</td>\n",
       "      <td>2.6000</td>\n",
       "      <td>0.0</td>\n",
       "      <td>3.0</td>\n",
       "      <td>2.5</td>\n",
       "      <td>2017.0</td>\n",
       "      <td>NaN</td>\n",
       "      <td>1963.0</td>\n",
       "    </tr>\n",
       "    <tr>\n",
       "      <th>15066085</th>\n",
       "      <td>1907 Leavenworth St APT 8, San Francisco, CA</td>\n",
       "      <td>11/12/15</td>\n",
       "      <td>0.9080</td>\n",
       "      <td>0.0</td>\n",
       "      <td>2.0</td>\n",
       "      <td>1.0</td>\n",
       "      <td>956.0</td>\n",
       "      <td>NaN</td>\n",
       "      <td>1907.0</td>\n",
       "    </tr>\n",
       "    <tr>\n",
       "      <th>15066201</th>\n",
       "      <td>1101 Green St # 303, San Francisco, CA</td>\n",
       "      <td>11/16/15</td>\n",
       "      <td>1.2100</td>\n",
       "      <td>0.0</td>\n",
       "      <td>2.0</td>\n",
       "      <td>1.0</td>\n",
       "      <td>1003.0</td>\n",
       "      <td>NaN</td>\n",
       "      <td>1930.0</td>\n",
       "    </tr>\n",
       "    <tr>\n",
       "      <th>15066281</th>\n",
       "      <td>1807 Jones St, San Francisco, CA</td>\n",
       "      <td>12/15/15</td>\n",
       "      <td>1.7000</td>\n",
       "      <td>0.0</td>\n",
       "      <td>2.0</td>\n",
       "      <td>2.0</td>\n",
       "      <td>1467.0</td>\n",
       "      <td>3023.0</td>\n",
       "      <td>1922.0</td>\n",
       "    </tr>\n",
       "    <tr>\n",
       "      <th>15066344</th>\n",
       "      <td>999 Green St APT 905, San Francisco, CA</td>\n",
       "      <td>12/10/15</td>\n",
       "      <td>1.2800</td>\n",
       "      <td>0.0</td>\n",
       "      <td>1.0</td>\n",
       "      <td>1.0</td>\n",
       "      <td>986.0</td>\n",
       "      <td>NaN</td>\n",
       "      <td>1964.0</td>\n",
       "    </tr>\n",
       "    <tr>\n",
       "      <th>15066608</th>\n",
       "      <td>455 Vallejo St APT 111, San Francisco, CA</td>\n",
       "      <td>12/16/15</td>\n",
       "      <td>0.8750</td>\n",
       "      <td>0.0</td>\n",
       "      <td>1.0</td>\n",
       "      <td>1.0</td>\n",
       "      <td>825.0</td>\n",
       "      <td>NaN</td>\n",
       "      <td>1973.0</td>\n",
       "    </tr>\n",
       "    <tr>\n",
       "      <th>15066839</th>\n",
       "      <td>1163-1165 Vallejo St, San Francisco, CA</td>\n",
       "      <td>12/1/15</td>\n",
       "      <td>0.3000</td>\n",
       "      <td>0.0</td>\n",
       "      <td>NaN</td>\n",
       "      <td>2.0</td>\n",
       "      <td>2344.0</td>\n",
       "      <td>1376.0</td>\n",
       "      <td>1913.0</td>\n",
       "    </tr>\n",
       "    <tr>\n",
       "      <th>15066959</th>\n",
       "      <td>1300 Pacific Ave, San Francisco, CA</td>\n",
       "      <td>1/14/16</td>\n",
       "      <td>0.4250</td>\n",
       "      <td>1.0</td>\n",
       "      <td>NaN</td>\n",
       "      <td>2.0</td>\n",
       "      <td>989.0</td>\n",
       "      <td>NaN</td>\n",
       "      <td>1910.0</td>\n",
       "    </tr>\n",
       "    <tr>\n",
       "      <th>15067302</th>\n",
       "      <td>948 Jackson St, San Francisco, CA</td>\n",
       "      <td>11/13/15</td>\n",
       "      <td>1.9500</td>\n",
       "      <td>0.0</td>\n",
       "      <td>NaN</td>\n",
       "      <td>4.0</td>\n",
       "      <td>4362.0</td>\n",
       "      <td>1459.0</td>\n",
       "      <td>1908.0</td>\n",
       "    </tr>\n",
       "    <tr>\n",
       "      <th>15067583</th>\n",
       "      <td>946 Stockton St APT 6B, San Francisco, CA</td>\n",
       "      <td>12/18/15</td>\n",
       "      <td>0.7750</td>\n",
       "      <td>0.0</td>\n",
       "      <td>NaN</td>\n",
       "      <td>2.0</td>\n",
       "      <td>710.0</td>\n",
       "      <td>NaN</td>\n",
       "      <td>1970.0</td>\n",
       "    </tr>\n",
       "    <tr>\n",
       "      <th>15067604</th>\n",
       "      <td>946 Stockton St APT 9E, San Francisco, CA</td>\n",
       "      <td>12/2/15</td>\n",
       "      <td>0.7050</td>\n",
       "      <td>0.0</td>\n",
       "      <td>2.0</td>\n",
       "      <td>2.0</td>\n",
       "      <td>744.0</td>\n",
       "      <td>NaN</td>\n",
       "      <td>1970.0</td>\n",
       "    </tr>\n",
       "    <tr>\n",
       "      <th>15067755</th>\n",
       "      <td>1250 Clay St APT 306, San Francisco, CA</td>\n",
       "      <td>1/10/16</td>\n",
       "      <td>0.6950</td>\n",
       "      <td>0.0</td>\n",
       "      <td>1.0</td>\n",
       "      <td>1.0</td>\n",
       "      <td>541.0</td>\n",
       "      <td>NaN</td>\n",
       "      <td>1950.0</td>\n",
       "    </tr>\n",
       "    <tr>\n",
       "      <th>15067890</th>\n",
       "      <td>1250 Jones St APT 503, San Francisco, CA</td>\n",
       "      <td>12/4/15</td>\n",
       "      <td>1.4100</td>\n",
       "      <td>0.0</td>\n",
       "      <td>1.0</td>\n",
       "      <td>1.0</td>\n",
       "      <td>1250.0</td>\n",
       "      <td>NaN</td>\n",
       "      <td>1929.0</td>\n",
       "    </tr>\n",
       "    <tr>\n",
       "      <th>15067896</th>\n",
       "      <td>1250 Jones St APT 802, San Francisco, CA</td>\n",
       "      <td>12/15/15</td>\n",
       "      <td>1.6800</td>\n",
       "      <td>0.0</td>\n",
       "      <td>1.0</td>\n",
       "      <td>1.0</td>\n",
       "      <td>1115.0</td>\n",
       "      <td>NaN</td>\n",
       "      <td>1929.0</td>\n",
       "    </tr>\n",
       "    <tr>\n",
       "      <th>...</th>\n",
       "      <td>...</td>\n",
       "      <td>...</td>\n",
       "      <td>...</td>\n",
       "      <td>...</td>\n",
       "      <td>...</td>\n",
       "      <td>...</td>\n",
       "      <td>...</td>\n",
       "      <td>...</td>\n",
       "      <td>...</td>\n",
       "    </tr>\n",
       "    <tr>\n",
       "      <th>2100992607</th>\n",
       "      <td>2137 Pine St, San Francisco, CA</td>\n",
       "      <td>1/15/16</td>\n",
       "      <td>1.5500</td>\n",
       "      <td>0.0</td>\n",
       "      <td>4.0</td>\n",
       "      <td>2.5</td>\n",
       "      <td>1632.0</td>\n",
       "      <td>NaN</td>\n",
       "      <td>NaN</td>\n",
       "    </tr>\n",
       "    <tr>\n",
       "      <th>2100994004</th>\n",
       "      <td>409 Miguel St, San Francisco, CA</td>\n",
       "      <td>12/9/15</td>\n",
       "      <td>0.5100</td>\n",
       "      <td>0.0</td>\n",
       "      <td>1.0</td>\n",
       "      <td>1.0</td>\n",
       "      <td>400.0</td>\n",
       "      <td>NaN</td>\n",
       "      <td>NaN</td>\n",
       "    </tr>\n",
       "    <tr>\n",
       "      <th>2101028916</th>\n",
       "      <td>251 Missouri St, San Francisco, CA</td>\n",
       "      <td>12/17/15</td>\n",
       "      <td>2.4500</td>\n",
       "      <td>0.0</td>\n",
       "      <td>4.0</td>\n",
       "      <td>3.0</td>\n",
       "      <td>2301.0</td>\n",
       "      <td>NaN</td>\n",
       "      <td>1900.0</td>\n",
       "    </tr>\n",
       "    <tr>\n",
       "      <th>2101094207</th>\n",
       "      <td>1650 Florida St, San Francisco, CA</td>\n",
       "      <td>11/29/15</td>\n",
       "      <td>0.9700</td>\n",
       "      <td>0.0</td>\n",
       "      <td>3.0</td>\n",
       "      <td>1.0</td>\n",
       "      <td>NaN</td>\n",
       "      <td>NaN</td>\n",
       "      <td>1904.0</td>\n",
       "    </tr>\n",
       "    <tr>\n",
       "      <th>2101105851</th>\n",
       "      <td>41 Collingwood St, San Francisco, CA</td>\n",
       "      <td>12/10/15</td>\n",
       "      <td>1.3000</td>\n",
       "      <td>0.0</td>\n",
       "      <td>3.0</td>\n",
       "      <td>1.0</td>\n",
       "      <td>1496.0</td>\n",
       "      <td>NaN</td>\n",
       "      <td>1908.0</td>\n",
       "    </tr>\n",
       "    <tr>\n",
       "      <th>2101116542</th>\n",
       "      <td>2753 Bryant St, San Francisco, CA</td>\n",
       "      <td>1/14/16</td>\n",
       "      <td>1.7000</td>\n",
       "      <td>0.0</td>\n",
       "      <td>9.0</td>\n",
       "      <td>3.0</td>\n",
       "      <td>4005.0</td>\n",
       "      <td>NaN</td>\n",
       "      <td>1900.0</td>\n",
       "    </tr>\n",
       "    <tr>\n",
       "      <th>2101147349</th>\n",
       "      <td>244 Precita Ave, San Francisco, CA</td>\n",
       "      <td>11/26/15</td>\n",
       "      <td>0.7850</td>\n",
       "      <td>0.0</td>\n",
       "      <td>1.0</td>\n",
       "      <td>1.0</td>\n",
       "      <td>625.0</td>\n",
       "      <td>NaN</td>\n",
       "      <td>1908.0</td>\n",
       "    </tr>\n",
       "    <tr>\n",
       "      <th>2101153805</th>\n",
       "      <td>6 Rossi Ave, San Francisco, CA</td>\n",
       "      <td>12/2/15</td>\n",
       "      <td>1.1500</td>\n",
       "      <td>0.0</td>\n",
       "      <td>3.0</td>\n",
       "      <td>1.0</td>\n",
       "      <td>1912.0</td>\n",
       "      <td>NaN</td>\n",
       "      <td>1941.0</td>\n",
       "    </tr>\n",
       "    <tr>\n",
       "      <th>2101156735</th>\n",
       "      <td>333 Potrero Ave, San Francisco, CA</td>\n",
       "      <td>1/5/16</td>\n",
       "      <td>1.1400</td>\n",
       "      <td>1.0</td>\n",
       "      <td>NaN</td>\n",
       "      <td>NaN</td>\n",
       "      <td>1776.0</td>\n",
       "      <td>3746.0</td>\n",
       "      <td>1905.0</td>\n",
       "    </tr>\n",
       "    <tr>\n",
       "      <th>2101167573</th>\n",
       "      <td>1340 Union St, San Francisco, CA</td>\n",
       "      <td>1/25/16</td>\n",
       "      <td>1.2500</td>\n",
       "      <td>0.0</td>\n",
       "      <td>2.0</td>\n",
       "      <td>2.0</td>\n",
       "      <td>1108.0</td>\n",
       "      <td>NaN</td>\n",
       "      <td>1951.0</td>\n",
       "    </tr>\n",
       "    <tr>\n",
       "      <th>2101169168</th>\n",
       "      <td>688 Douglass St, San Francisco, CA</td>\n",
       "      <td>11/10/15</td>\n",
       "      <td>3.1500</td>\n",
       "      <td>1.0</td>\n",
       "      <td>NaN</td>\n",
       "      <td>NaN</td>\n",
       "      <td>3500.0</td>\n",
       "      <td>2495.0</td>\n",
       "      <td>1908.0</td>\n",
       "    </tr>\n",
       "    <tr>\n",
       "      <th>2101175813</th>\n",
       "      <td>414 Linden St, San Francisco, CA</td>\n",
       "      <td>12/13/15</td>\n",
       "      <td>0.8350</td>\n",
       "      <td>0.0</td>\n",
       "      <td>1.0</td>\n",
       "      <td>1.0</td>\n",
       "      <td>NaN</td>\n",
       "      <td>NaN</td>\n",
       "      <td>1909.0</td>\n",
       "    </tr>\n",
       "    <tr>\n",
       "      <th>2101331127</th>\n",
       "      <td>1408 31st Ave APT 303, San Francisco, CA</td>\n",
       "      <td>12/28/15</td>\n",
       "      <td>0.8900</td>\n",
       "      <td>0.0</td>\n",
       "      <td>2.0</td>\n",
       "      <td>2.0</td>\n",
       "      <td>1424.0</td>\n",
       "      <td>NaN</td>\n",
       "      <td>2008.0</td>\n",
       "    </tr>\n",
       "    <tr>\n",
       "      <th>2101505254</th>\n",
       "      <td>333 Beale St, San Francisco, CA</td>\n",
       "      <td>12/3/15</td>\n",
       "      <td>1.4000</td>\n",
       "      <td>0.0</td>\n",
       "      <td>1.0</td>\n",
       "      <td>1.0</td>\n",
       "      <td>950.0</td>\n",
       "      <td>NaN</td>\n",
       "      <td>2015.0</td>\n",
       "    </tr>\n",
       "    <tr>\n",
       "      <th>2101588805</th>\n",
       "      <td>82 Alvarado St, San Francisco, CA</td>\n",
       "      <td>11/19/15</td>\n",
       "      <td>0.7500</td>\n",
       "      <td>0.0</td>\n",
       "      <td>2.0</td>\n",
       "      <td>1.0</td>\n",
       "      <td>NaN</td>\n",
       "      <td>NaN</td>\n",
       "      <td>NaN</td>\n",
       "    </tr>\n",
       "    <tr>\n",
       "      <th>2101807538</th>\n",
       "      <td>2619 Sacramento St, San Francisco, CA</td>\n",
       "      <td>12/2/15</td>\n",
       "      <td>2.9000</td>\n",
       "      <td>1.0</td>\n",
       "      <td>NaN</td>\n",
       "      <td>NaN</td>\n",
       "      <td>NaN</td>\n",
       "      <td>2038.0</td>\n",
       "      <td>1900.0</td>\n",
       "    </tr>\n",
       "    <tr>\n",
       "      <th>2102385068</th>\n",
       "      <td>129 Central Ave, San Francisco, CA</td>\n",
       "      <td>12/1/15</td>\n",
       "      <td>1.8000</td>\n",
       "      <td>0.0</td>\n",
       "      <td>3.0</td>\n",
       "      <td>2.0</td>\n",
       "      <td>NaN</td>\n",
       "      <td>NaN</td>\n",
       "      <td>1905.0</td>\n",
       "    </tr>\n",
       "    <tr>\n",
       "      <th>2102906272</th>\n",
       "      <td>444 Linden St, San Francisco, CA</td>\n",
       "      <td>12/14/15</td>\n",
       "      <td>0.0058</td>\n",
       "      <td>NaN</td>\n",
       "      <td>NaN</td>\n",
       "      <td>NaN</td>\n",
       "      <td>NaN</td>\n",
       "      <td>NaN</td>\n",
       "      <td>NaN</td>\n",
       "    </tr>\n",
       "    <tr>\n",
       "      <th>2106229715</th>\n",
       "      <td>2595 38th Ave, San Francisco, CA</td>\n",
       "      <td>1/19/16</td>\n",
       "      <td>1.2400</td>\n",
       "      <td>0.0</td>\n",
       "      <td>3.0</td>\n",
       "      <td>3.0</td>\n",
       "      <td>2414.0</td>\n",
       "      <td>1306.0</td>\n",
       "      <td>1943.0</td>\n",
       "    </tr>\n",
       "    <tr>\n",
       "      <th>2108411930</th>\n",
       "      <td>3500 19th St, San Francisco, CA</td>\n",
       "      <td>12/29/15</td>\n",
       "      <td>1.7300</td>\n",
       "      <td>0.0</td>\n",
       "      <td>2.0</td>\n",
       "      <td>2.5</td>\n",
       "      <td>1500.0</td>\n",
       "      <td>NaN</td>\n",
       "      <td>2013.0</td>\n",
       "    </tr>\n",
       "    <tr>\n",
       "      <th>2108546010</th>\n",
       "      <td>1738 Lombard St APT 4, San Francisco, CA</td>\n",
       "      <td>1/14/16</td>\n",
       "      <td>1.4000</td>\n",
       "      <td>0.0</td>\n",
       "      <td>2.0</td>\n",
       "      <td>2.0</td>\n",
       "      <td>NaN</td>\n",
       "      <td>NaN</td>\n",
       "      <td>2004.0</td>\n",
       "    </tr>\n",
       "    <tr>\n",
       "      <th>2114498518</th>\n",
       "      <td>201 Sansome St UNIT 501, San Francisco, CA</td>\n",
       "      <td>1/26/16</td>\n",
       "      <td>0.7575</td>\n",
       "      <td>0.0</td>\n",
       "      <td>1.0</td>\n",
       "      <td>1.0</td>\n",
       "      <td>658.0</td>\n",
       "      <td>NaN</td>\n",
       "      <td>1909.0</td>\n",
       "    </tr>\n",
       "    <tr>\n",
       "      <th>2121221385</th>\n",
       "      <td>925 Larkin St, San Francisco, CA</td>\n",
       "      <td>11/30/15</td>\n",
       "      <td>1.4300</td>\n",
       "      <td>0.0</td>\n",
       "      <td>NaN</td>\n",
       "      <td>NaN</td>\n",
       "      <td>6600.0</td>\n",
       "      <td>NaN</td>\n",
       "      <td>1907.0</td>\n",
       "    </tr>\n",
       "    <tr>\n",
       "      <th>2121978635</th>\n",
       "      <td>829 Folsom St UNIT 906, San Francisco, CA</td>\n",
       "      <td>12/6/15</td>\n",
       "      <td>0.6750</td>\n",
       "      <td>0.0</td>\n",
       "      <td>1.0</td>\n",
       "      <td>1.0</td>\n",
       "      <td>557.0</td>\n",
       "      <td>NaN</td>\n",
       "      <td>2010.0</td>\n",
       "    </tr>\n",
       "    <tr>\n",
       "      <th>2122992200</th>\n",
       "      <td>129 Octavia St, San Francisco, CA</td>\n",
       "      <td>11/20/15</td>\n",
       "      <td>2.7500</td>\n",
       "      <td>1.0</td>\n",
       "      <td>NaN</td>\n",
       "      <td>NaN</td>\n",
       "      <td>3655.0</td>\n",
       "      <td>NaN</td>\n",
       "      <td>1883.0</td>\n",
       "    </tr>\n",
       "    <tr>\n",
       "      <th>2124214951</th>\n",
       "      <td>412 Green St APT A, San Francisco, CA</td>\n",
       "      <td>1/15/16</td>\n",
       "      <td>0.3900</td>\n",
       "      <td>1.0</td>\n",
       "      <td>NaN</td>\n",
       "      <td>1.0</td>\n",
       "      <td>264.0</td>\n",
       "      <td>NaN</td>\n",
       "      <td>2012.0</td>\n",
       "    </tr>\n",
       "    <tr>\n",
       "      <th>2126960082</th>\n",
       "      <td>355 1st St UNIT 1905, San Francisco, CA</td>\n",
       "      <td>11/20/15</td>\n",
       "      <td>0.8600</td>\n",
       "      <td>0.0</td>\n",
       "      <td>1.0</td>\n",
       "      <td>1.0</td>\n",
       "      <td>691.0</td>\n",
       "      <td>NaN</td>\n",
       "      <td>2004.0</td>\n",
       "    </tr>\n",
       "    <tr>\n",
       "      <th>2128308939</th>\n",
       "      <td>33 Santa Cruz Ave, San Francisco, CA</td>\n",
       "      <td>12/10/15</td>\n",
       "      <td>0.8300</td>\n",
       "      <td>0.0</td>\n",
       "      <td>3.0</td>\n",
       "      <td>3.0</td>\n",
       "      <td>1738.0</td>\n",
       "      <td>2299.0</td>\n",
       "      <td>1976.0</td>\n",
       "    </tr>\n",
       "    <tr>\n",
       "      <th>2131957929</th>\n",
       "      <td>1821 Grant Ave, San Francisco, CA</td>\n",
       "      <td>12/15/15</td>\n",
       "      <td>0.8350</td>\n",
       "      <td>0.0</td>\n",
       "      <td>2.0</td>\n",
       "      <td>2.0</td>\n",
       "      <td>1048.0</td>\n",
       "      <td>NaN</td>\n",
       "      <td>1975.0</td>\n",
       "    </tr>\n",
       "    <tr>\n",
       "      <th>2136213970</th>\n",
       "      <td>1200 Gough St, San Francisco, CA</td>\n",
       "      <td>1/10/16</td>\n",
       "      <td>0.8250</td>\n",
       "      <td>0.0</td>\n",
       "      <td>1.0</td>\n",
       "      <td>1.0</td>\n",
       "      <td>900.0</td>\n",
       "      <td>NaN</td>\n",
       "      <td>1966.0</td>\n",
       "    </tr>\n",
       "  </tbody>\n",
       "</table>\n",
       "<p>1000 rows × 9 columns</p>\n",
       "</div>"
      ],
      "text/plain": [
       "                                                 Address DateOfSale  \\\n",
       "ID                                                                    \n",
       "15063471       55 Vandewater St APT 9, San Francisco, CA    12/4/15   \n",
       "15063505             740 Francisco St, San Francisco, CA   11/30/15   \n",
       "15063609             819 Francisco St, San Francisco, CA   11/12/15   \n",
       "15064044        199 Chestnut St APT 5, San Francisco, CA   12/11/15   \n",
       "15064257      111 Chestnut St APT 403, San Francisco, CA    1/15/16   \n",
       "15064295      111 Chestnut St APT 702, San Francisco, CA   12/17/15   \n",
       "15064391       1821 Grant Ave APT 101, San Francisco, CA   12/15/15   \n",
       "15064536          2300 Leavenworth St, San Francisco, CA    12/4/15   \n",
       "15064640         1047-1049 Lombard St, San Francisco, CA    1/14/16   \n",
       "15064669          1055 Lombard St # C, San Francisco, CA   12/31/15   \n",
       "15065032      101 Lombard St APT 116E, San Francisco, CA    12/7/15   \n",
       "15065140     1407 Montgomery St APT 2, San Francisco, CA    1/28/16   \n",
       "15065727     1360 Montgomery St APT 1, San Francisco, CA   11/16/15   \n",
       "15065810          1327-1329 Kearny St, San Francisco, CA   11/25/15   \n",
       "15065946       44 Macondray Ln APT 2E, San Francisco, CA   11/30/15   \n",
       "15066001        1070 Green St APT 201, San Francisco, CA   11/18/15   \n",
       "15066036       1070 Green St APT 1402, San Francisco, CA   12/31/15   \n",
       "15066085    1907 Leavenworth St APT 8, San Francisco, CA   11/12/15   \n",
       "15066201          1101 Green St # 303, San Francisco, CA   11/16/15   \n",
       "15066281                1807 Jones St, San Francisco, CA   12/15/15   \n",
       "15066344         999 Green St APT 905, San Francisco, CA   12/10/15   \n",
       "15066608       455 Vallejo St APT 111, San Francisco, CA   12/16/15   \n",
       "15066839         1163-1165 Vallejo St, San Francisco, CA    12/1/15   \n",
       "15066959             1300 Pacific Ave, San Francisco, CA    1/14/16   \n",
       "15067302               948 Jackson St, San Francisco, CA   11/13/15   \n",
       "15067583       946 Stockton St APT 6B, San Francisco, CA   12/18/15   \n",
       "15067604       946 Stockton St APT 9E, San Francisco, CA    12/2/15   \n",
       "15067755         1250 Clay St APT 306, San Francisco, CA    1/10/16   \n",
       "15067890        1250 Jones St APT 503, San Francisco, CA    12/4/15   \n",
       "15067896        1250 Jones St APT 802, San Francisco, CA   12/15/15   \n",
       "...                                                  ...        ...   \n",
       "2100992607               2137 Pine St, San Francisco, CA    1/15/16   \n",
       "2100994004              409 Miguel St, San Francisco, CA    12/9/15   \n",
       "2101028916            251 Missouri St, San Francisco, CA   12/17/15   \n",
       "2101094207            1650 Florida St, San Francisco, CA   11/29/15   \n",
       "2101105851          41 Collingwood St, San Francisco, CA   12/10/15   \n",
       "2101116542             2753 Bryant St, San Francisco, CA    1/14/16   \n",
       "2101147349            244 Precita Ave, San Francisco, CA   11/26/15   \n",
       "2101153805                6 Rossi Ave, San Francisco, CA    12/2/15   \n",
       "2101156735            333 Potrero Ave, San Francisco, CA     1/5/16   \n",
       "2101167573              1340 Union St, San Francisco, CA    1/25/16   \n",
       "2101169168            688 Douglass St, San Francisco, CA   11/10/15   \n",
       "2101175813              414 Linden St, San Francisco, CA   12/13/15   \n",
       "2101331127      1408 31st Ave APT 303, San Francisco, CA   12/28/15   \n",
       "2101505254               333 Beale St, San Francisco, CA    12/3/15   \n",
       "2101588805             82 Alvarado St, San Francisco, CA   11/19/15   \n",
       "2101807538         2619 Sacramento St, San Francisco, CA    12/2/15   \n",
       "2102385068            129 Central Ave, San Francisco, CA    12/1/15   \n",
       "2102906272              444 Linden St, San Francisco, CA   12/14/15   \n",
       "2106229715              2595 38th Ave, San Francisco, CA    1/19/16   \n",
       "2108411930               3500 19th St, San Francisco, CA   12/29/15   \n",
       "2108546010      1738 Lombard St APT 4, San Francisco, CA    1/14/16   \n",
       "2114498518    201 Sansome St UNIT 501, San Francisco, CA    1/26/16   \n",
       "2121221385              925 Larkin St, San Francisco, CA   11/30/15   \n",
       "2121978635     829 Folsom St UNIT 906, San Francisco, CA    12/6/15   \n",
       "2122992200             129 Octavia St, San Francisco, CA   11/20/15   \n",
       "2124214951         412 Green St APT A, San Francisco, CA    1/15/16   \n",
       "2126960082       355 1st St UNIT 1905, San Francisco, CA   11/20/15   \n",
       "2128308939          33 Santa Cruz Ave, San Francisco, CA   12/10/15   \n",
       "2131957929             1821 Grant Ave, San Francisco, CA   12/15/15   \n",
       "2136213970              1200 Gough St, San Francisco, CA    1/10/16   \n",
       "\n",
       "            SalePrice  IsAStudio  Beds  Baths    Size  LotSize  BuiltInYear  \n",
       "ID                                                                           \n",
       "15063471       0.7100        0.0   1.0    NaN   550.0      NaN       1980.0  \n",
       "15063505       2.1500        0.0   NaN    2.0  1430.0   2435.0       1948.0  \n",
       "15063609       5.6000        0.0   2.0    3.5  2040.0   3920.0       1976.0  \n",
       "15064044       1.5000        0.0   1.0    1.0  1060.0      NaN       1930.0  \n",
       "15064257       0.9700        0.0   2.0    2.0  1299.0      NaN       1993.0  \n",
       "15064295       0.9400        0.0   2.0    2.0  1033.0      NaN       1993.0  \n",
       "15064391       0.8350        0.0   1.0    1.0  1048.0      NaN       1975.0  \n",
       "15064536       2.8300        0.0   3.0    2.0  2115.0   1271.0       1913.0  \n",
       "15064640       4.0500        1.0   NaN    NaN  4102.0   3049.0       1948.0  \n",
       "15064669       2.1900        0.0   2.0    3.0  1182.0      NaN       1986.0  \n",
       "15065032       0.8000        0.0   1.0    1.0  1000.0      NaN       1983.0  \n",
       "15065140       0.9760        0.0   1.0    1.0  1000.0      NaN       1870.0  \n",
       "15065727       0.7200        0.0   1.0    1.0   552.0      NaN       1937.0  \n",
       "15065810       2.2500        0.0   NaN    4.0  2658.0   1600.0       1906.0  \n",
       "15065946       1.2900        0.0   2.0    2.0  1165.0      NaN       1980.0  \n",
       "15066001       2.9000        0.0   2.0    2.0  1465.0      NaN       1963.0  \n",
       "15066036       2.6000        0.0   3.0    2.5  2017.0      NaN       1963.0  \n",
       "15066085       0.9080        0.0   2.0    1.0   956.0      NaN       1907.0  \n",
       "15066201       1.2100        0.0   2.0    1.0  1003.0      NaN       1930.0  \n",
       "15066281       1.7000        0.0   2.0    2.0  1467.0   3023.0       1922.0  \n",
       "15066344       1.2800        0.0   1.0    1.0   986.0      NaN       1964.0  \n",
       "15066608       0.8750        0.0   1.0    1.0   825.0      NaN       1973.0  \n",
       "15066839       0.3000        0.0   NaN    2.0  2344.0   1376.0       1913.0  \n",
       "15066959       0.4250        1.0   NaN    2.0   989.0      NaN       1910.0  \n",
       "15067302       1.9500        0.0   NaN    4.0  4362.0   1459.0       1908.0  \n",
       "15067583       0.7750        0.0   NaN    2.0   710.0      NaN       1970.0  \n",
       "15067604       0.7050        0.0   2.0    2.0   744.0      NaN       1970.0  \n",
       "15067755       0.6950        0.0   1.0    1.0   541.0      NaN       1950.0  \n",
       "15067890       1.4100        0.0   1.0    1.0  1250.0      NaN       1929.0  \n",
       "15067896       1.6800        0.0   1.0    1.0  1115.0      NaN       1929.0  \n",
       "...               ...        ...   ...    ...     ...      ...          ...  \n",
       "2100992607     1.5500        0.0   4.0    2.5  1632.0      NaN          NaN  \n",
       "2100994004     0.5100        0.0   1.0    1.0   400.0      NaN          NaN  \n",
       "2101028916     2.4500        0.0   4.0    3.0  2301.0      NaN       1900.0  \n",
       "2101094207     0.9700        0.0   3.0    1.0     NaN      NaN       1904.0  \n",
       "2101105851     1.3000        0.0   3.0    1.0  1496.0      NaN       1908.0  \n",
       "2101116542     1.7000        0.0   9.0    3.0  4005.0      NaN       1900.0  \n",
       "2101147349     0.7850        0.0   1.0    1.0   625.0      NaN       1908.0  \n",
       "2101153805     1.1500        0.0   3.0    1.0  1912.0      NaN       1941.0  \n",
       "2101156735     1.1400        1.0   NaN    NaN  1776.0   3746.0       1905.0  \n",
       "2101167573     1.2500        0.0   2.0    2.0  1108.0      NaN       1951.0  \n",
       "2101169168     3.1500        1.0   NaN    NaN  3500.0   2495.0       1908.0  \n",
       "2101175813     0.8350        0.0   1.0    1.0     NaN      NaN       1909.0  \n",
       "2101331127     0.8900        0.0   2.0    2.0  1424.0      NaN       2008.0  \n",
       "2101505254     1.4000        0.0   1.0    1.0   950.0      NaN       2015.0  \n",
       "2101588805     0.7500        0.0   2.0    1.0     NaN      NaN          NaN  \n",
       "2101807538     2.9000        1.0   NaN    NaN     NaN   2038.0       1900.0  \n",
       "2102385068     1.8000        0.0   3.0    2.0     NaN      NaN       1905.0  \n",
       "2102906272     0.0058        NaN   NaN    NaN     NaN      NaN          NaN  \n",
       "2106229715     1.2400        0.0   3.0    3.0  2414.0   1306.0       1943.0  \n",
       "2108411930     1.7300        0.0   2.0    2.5  1500.0      NaN       2013.0  \n",
       "2108546010     1.4000        0.0   2.0    2.0     NaN      NaN       2004.0  \n",
       "2114498518     0.7575        0.0   1.0    1.0   658.0      NaN       1909.0  \n",
       "2121221385     1.4300        0.0   NaN    NaN  6600.0      NaN       1907.0  \n",
       "2121978635     0.6750        0.0   1.0    1.0   557.0      NaN       2010.0  \n",
       "2122992200     2.7500        1.0   NaN    NaN  3655.0      NaN       1883.0  \n",
       "2124214951     0.3900        1.0   NaN    1.0   264.0      NaN       2012.0  \n",
       "2126960082     0.8600        0.0   1.0    1.0   691.0      NaN       2004.0  \n",
       "2128308939     0.8300        0.0   3.0    3.0  1738.0   2299.0       1976.0  \n",
       "2131957929     0.8350        0.0   2.0    2.0  1048.0      NaN       1975.0  \n",
       "2136213970     0.8250        0.0   1.0    1.0   900.0      NaN       1966.0  \n",
       "\n",
       "[1000 rows x 9 columns]"
      ]
     },
     "execution_count": 23,
     "metadata": {},
     "output_type": "execute_result"
    }
   ],
   "source": [
    "df"
   ]
  },
  {
   "cell_type": "markdown",
   "metadata": {},
   "source": [
    "### `Series.mean()` - Compute the `Series` mean value"
   ]
  },
  {
   "cell_type": "code",
   "execution_count": 24,
   "metadata": {},
   "outputs": [
    {
     "data": {
      "text/plain": [
       "1.3974229429999998"
      ]
     },
     "execution_count": 24,
     "metadata": {},
     "output_type": "execute_result"
    }
   ],
   "source": [
    "df.SalePrice.mean()"
   ]
  },
  {
   "cell_type": "markdown",
   "metadata": {},
   "source": [
    "> #### Activity: What's `Size`'s mean?"
   ]
  },
  {
   "cell_type": "code",
   "execution_count": 25,
   "metadata": {},
   "outputs": [
    {
     "data": {
      "text/plain": [
       "1641.3009307135471"
      ]
     },
     "execution_count": 25,
     "metadata": {},
     "output_type": "execute_result"
    }
   ],
   "source": [
    "df.Size.mean()"
   ]
  },
  {
   "cell_type": "markdown",
   "metadata": {},
   "source": [
    "`Size` has `NaN` values that `.mean()` skips."
   ]
  },
  {
   "cell_type": "markdown",
   "metadata": {},
   "source": [
    "> #### Activity: What fraction of the properties sold in the dataset are studios?"
   ]
  },
  {
   "cell_type": "code",
   "execution_count": 26,
   "metadata": {},
   "outputs": [
    {
     "name": "stdout",
     "output_type": "stream",
     "text": [
      "0.0294117647059\n",
      "0.029\n"
     ]
    }
   ],
   "source": [
    "print df.IsAStudio.mean()\n",
    "print df.IsAStudio.sum() / df.shape[0]"
   ]
  },
  {
   "cell_type": "markdown",
   "metadata": {},
   "source": [
    "About 3% of the properties sold are studios.  (Note that we are \"dropping\" the properties with no studio information)"
   ]
  },
  {
   "cell_type": "markdown",
   "metadata": {},
   "source": [
    "### `DataFrame.mean()` - Compute the `DataFrame` mean value"
   ]
  },
  {
   "cell_type": "code",
   "execution_count": 27,
   "metadata": {},
   "outputs": [
    {
     "data": {
      "text/plain": [
       "SalePrice         1.397423\n",
       "IsAStudio         0.029412\n",
       "Beds              2.572967\n",
       "Baths             1.977548\n",
       "Size           1641.300931\n",
       "LotSize        3020.640288\n",
       "BuiltInYear    1947.533333\n",
       "dtype: float64"
      ]
     },
     "execution_count": 27,
     "metadata": {},
     "output_type": "execute_result"
    }
   ],
   "source": [
    "df.mean()"
   ]
  },
  {
   "cell_type": "markdown",
   "metadata": {},
   "source": [
    "`DataFrame.mean()` only applies to numerical columns.  Address and date of sales aren't included."
   ]
  },
  {
   "cell_type": "markdown",
   "metadata": {},
   "source": [
    "### `.var()` - Compute the unbiased variance (normalized by `N-1` by default)"
   ]
  },
  {
   "cell_type": "code",
   "execution_count": 28,
   "metadata": {},
   "outputs": [
    {
     "data": {
      "text/plain": [
       "SalePrice      3.015131e+00\n",
       "IsAStudio      2.857569e-02\n",
       "Beds           1.564729e+00\n",
       "Baths          1.277654e+00\n",
       "Size           1.054762e+06\n",
       "LotSize        8.142064e+06\n",
       "BuiltInYear    1.445639e+03\n",
       "dtype: float64"
      ]
     },
     "execution_count": 28,
     "metadata": {},
     "output_type": "execute_result"
    }
   ],
   "source": [
    "df.var()"
   ]
  },
  {
   "cell_type": "markdown",
   "metadata": {},
   "source": [
    "> #### Activity: What's the variance for the number of beds in the dataset?"
   ]
  },
  {
   "cell_type": "code",
   "execution_count": 29,
   "metadata": {},
   "outputs": [
    {
     "data": {
      "text/plain": [
       "1.5647293928888621"
      ]
     },
     "execution_count": 29,
     "metadata": {},
     "output_type": "execute_result"
    }
   ],
   "source": [
    "df.Beds.var()"
   ]
  },
  {
   "cell_type": "markdown",
   "metadata": {},
   "source": [
    "### `.std()` - Compute the unbiased standard deviation (normalized by `N-1` by default)"
   ]
  },
  {
   "cell_type": "code",
   "execution_count": 30,
   "metadata": {},
   "outputs": [
    {
     "data": {
      "text/plain": [
       "SalePrice         1.736413\n",
       "IsAStudio         0.169043\n",
       "Beds              1.250891\n",
       "Baths             1.130334\n",
       "Size           1027.016175\n",
       "LotSize        2853.430139\n",
       "BuiltInYear      38.021563\n",
       "dtype: float64"
      ]
     },
     "execution_count": 30,
     "metadata": {},
     "output_type": "execute_result"
    }
   ],
   "source": [
    "df.std()"
   ]
  },
  {
   "cell_type": "markdown",
   "metadata": {},
   "source": [
    "> #### Activity: What's the standard deviation for the number of beds in the dataset?"
   ]
  },
  {
   "cell_type": "code",
   "execution_count": 31,
   "metadata": {},
   "outputs": [
    {
     "name": "stdout",
     "output_type": "stream",
     "text": [
      "1.25089143929\n",
      "1.56472939289\n"
     ]
    }
   ],
   "source": [
    "print df.Beds.std()\n",
    "\n",
    "# Let's double check the variance\n",
    "print df.Beds.std() ** 2"
   ]
  },
  {
   "cell_type": "markdown",
   "metadata": {},
   "source": [
    "## Part C"
   ]
  },
  {
   "cell_type": "markdown",
   "metadata": {},
   "source": [
    "- `.median()`\n",
    "  - (http://pandas.pydata.org/pandas-docs/stable/generated/pandas.DataFrame.median.html)\n",
    "  - (http://pandas.pydata.org/pandas-docs/stable/generated/pandas.Series.median.html)\n",
    "- `.count()`, `.sum()`\n",
    "  - (http://pandas.pydata.org/pandas-docs/stable/generated/pandas.DataFrame.count.html)\n",
    "  - (http://pandas.pydata.org/pandas-docs/stable/generated/pandas.Series.count.html)\n",
    "  - (http://pandas.pydata.org/pandas-docs/stable/generated/pandas.DataFrame.sum.html)\n",
    "  - (http://pandas.pydata.org/pandas-docs/stable/generated/pandas.Series.sum.html)\n",
    "- `.count()`\n",
    "  - (http://pandas.pydata.org/pandas-docs/stable/generated/pandas.DataFrame.dropna.html)\n",
    "- `.min()`, `.max()`\n",
    "  - (http://pandas.pydata.org/pandas-docs/stable/generated/pandas.DataFrame.min.html)\n",
    "  - (http://pandas.pydata.org/pandas-docs/stable/generated/pandas.Series.min.html)\n",
    "  - (http://pandas.pydata.org/pandas-docs/stable/generated/pandas.DataFrame.max.html)\n",
    "  - (http://pandas.pydata.org/pandas-docs/stable/generated/pandas.Series.max.html)\n",
    "- `.quantile()`\n",
    "  - (http://pandas.pydata.org/pandas-docs/stable/generated/pandas.DataFrame.quantile.html)\n",
    "  - (http://pandas.pydata.org/pandas-docs/stable/generated/pandas.Series.quantile.html)\n",
    "- `.describe()`\n",
    "  - (http://pandas.pydata.org/pandas-docs/stable/generated/pandas.DataFrame.describe.html)"
   ]
  },
  {
   "cell_type": "markdown",
   "metadata": {},
   "source": [
    "### `.median()` - Compute the median value"
   ]
  },
  {
   "cell_type": "code",
   "execution_count": 32,
   "metadata": {},
   "outputs": [
    {
     "data": {
      "text/plain": [
       "SalePrice         1.1\n",
       "IsAStudio         0.0\n",
       "Beds              2.0\n",
       "Baths             2.0\n",
       "Size           1350.0\n",
       "LotSize        2622.0\n",
       "BuiltInYear    1939.0\n",
       "dtype: float64"
      ]
     },
     "execution_count": 32,
     "metadata": {},
     "output_type": "execute_result"
    }
   ],
   "source": [
    "df.median()"
   ]
  },
  {
   "cell_type": "markdown",
   "metadata": {},
   "source": [
    "> #### Activity: What's the median sale price for properties in the dataset?"
   ]
  },
  {
   "cell_type": "code",
   "execution_count": 33,
   "metadata": {},
   "outputs": [
    {
     "data": {
      "text/plain": [
       "1.1"
      ]
     },
     "execution_count": 33,
     "metadata": {},
     "output_type": "execute_result"
    }
   ],
   "source": [
    "df.SalePrice.median()"
   ]
  },
  {
   "cell_type": "markdown",
   "metadata": {},
   "source": [
    "### `.count()` - Compute the number of rows/observations without `NaN` and `.sum()` - Compute the sum of the values"
   ]
  },
  {
   "cell_type": "code",
   "execution_count": 34,
   "metadata": {},
   "outputs": [
    {
     "data": {
      "text/plain": [
       "Address        1000\n",
       "DateOfSale     1000\n",
       "SalePrice      1000\n",
       "IsAStudio       986\n",
       "Beds            836\n",
       "Baths           942\n",
       "Size            967\n",
       "LotSize         556\n",
       "BuiltInYear     975\n",
       "dtype: int64"
      ]
     },
     "execution_count": 34,
     "metadata": {},
     "output_type": "execute_result"
    }
   ],
   "source": [
    "df.count()"
   ]
  },
  {
   "cell_type": "code",
   "execution_count": 35,
   "metadata": {},
   "outputs": [
    {
     "data": {
      "text/plain": [
       "986"
      ]
     },
     "execution_count": 35,
     "metadata": {},
     "output_type": "execute_result"
    }
   ],
   "source": [
    "df.IsAStudio.count()"
   ]
  },
  {
   "cell_type": "markdown",
   "metadata": {},
   "source": [
    "`count()` counts the number of non-`NaN` values:"
   ]
  },
  {
   "cell_type": "code",
   "execution_count": 36,
   "metadata": {},
   "outputs": [
    {
     "data": {
      "text/plain": [
       "986"
      ]
     },
     "execution_count": 36,
     "metadata": {},
     "output_type": "execute_result"
    }
   ],
   "source": [
    "df.IsAStudio.dropna().shape[0]"
   ]
  },
  {
   "cell_type": "code",
   "execution_count": 37,
   "metadata": {},
   "outputs": [
    {
     "data": {
      "text/plain": [
       "14"
      ]
     },
     "execution_count": 37,
     "metadata": {},
     "output_type": "execute_result"
    }
   ],
   "source": [
    "df.IsAStudio.isnull().sum()"
   ]
  },
  {
   "cell_type": "markdown",
   "metadata": {},
   "source": [
    "Which leaves 14 houses for which we don't know if they are studios or not."
   ]
  },
  {
   "cell_type": "code",
   "execution_count": 38,
   "metadata": {},
   "outputs": [
    {
     "data": {
      "text/plain": [
       "1000"
      ]
     },
     "execution_count": 38,
     "metadata": {},
     "output_type": "execute_result"
    }
   ],
   "source": [
    "df.IsAStudio.dropna().shape[0] + df.IsAStudio.isnull().sum()"
   ]
  },
  {
   "cell_type": "code",
   "execution_count": 39,
   "metadata": {},
   "outputs": [
    {
     "data": {
      "text/plain": [
       "29.0"
      ]
     },
     "execution_count": 39,
     "metadata": {},
     "output_type": "execute_result"
    }
   ],
   "source": [
    "df.IsAStudio.sum()"
   ]
  },
  {
   "cell_type": "markdown",
   "metadata": {},
   "source": [
    "29 properties are studios."
   ]
  },
  {
   "cell_type": "markdown",
   "metadata": {},
   "source": [
    "### `.min()` and `.max()` - Compute the minimum and maximum values"
   ]
  },
  {
   "cell_type": "code",
   "execution_count": 40,
   "metadata": {},
   "outputs": [
    {
     "data": {
      "text/plain": [
       "Address        1 Crescent Way APT 1402, San Francisco, CA\n",
       "DateOfSale                                        1/10/16\n",
       "SalePrice                                           1e-06\n",
       "IsAStudio                                               0\n",
       "Beds                                                    1\n",
       "Baths                                                   1\n",
       "Size                                                  264\n",
       "LotSize                                                44\n",
       "BuiltInYear                                          1870\n",
       "dtype: object"
      ]
     },
     "execution_count": 40,
     "metadata": {},
     "output_type": "execute_result"
    }
   ],
   "source": [
    "df.min()"
   ]
  },
  {
   "cell_type": "markdown",
   "metadata": {},
   "source": [
    "> #### Activity: What are properties that were sold at the lowest price?  At what price?"
   ]
  },
  {
   "cell_type": "code",
   "execution_count": 41,
   "metadata": {},
   "outputs": [
    {
     "data": {
      "text/plain": [
       "9.9999999999999995e-07"
      ]
     },
     "execution_count": 41,
     "metadata": {},
     "output_type": "execute_result"
    }
   ],
   "source": [
    "df.SalePrice.min()"
   ]
  },
  {
   "cell_type": "code",
   "execution_count": 42,
   "metadata": {},
   "outputs": [
    {
     "data": {
      "text/html": [
       "<div>\n",
       "<style>\n",
       "    .dataframe thead tr:only-child th {\n",
       "        text-align: right;\n",
       "    }\n",
       "\n",
       "    .dataframe thead th {\n",
       "        text-align: left;\n",
       "    }\n",
       "\n",
       "    .dataframe tbody tr th {\n",
       "        vertical-align: top;\n",
       "    }\n",
       "</style>\n",
       "<table border=\"1\" class=\"dataframe\">\n",
       "  <thead>\n",
       "    <tr style=\"text-align: right;\">\n",
       "      <th></th>\n",
       "      <th>Address</th>\n",
       "      <th>DateOfSale</th>\n",
       "      <th>SalePrice</th>\n",
       "      <th>IsAStudio</th>\n",
       "      <th>Beds</th>\n",
       "      <th>Baths</th>\n",
       "      <th>Size</th>\n",
       "      <th>LotSize</th>\n",
       "      <th>BuiltInYear</th>\n",
       "    </tr>\n",
       "    <tr>\n",
       "      <th>ID</th>\n",
       "      <th></th>\n",
       "      <th></th>\n",
       "      <th></th>\n",
       "      <th></th>\n",
       "      <th></th>\n",
       "      <th></th>\n",
       "      <th></th>\n",
       "      <th></th>\n",
       "      <th></th>\n",
       "    </tr>\n",
       "  </thead>\n",
       "  <tbody>\n",
       "    <tr>\n",
       "      <th>15149005</th>\n",
       "      <td>251-253 Missouri St, San Francisco, CA</td>\n",
       "      <td>12/23/15</td>\n",
       "      <td>0.000001</td>\n",
       "      <td>0.0</td>\n",
       "      <td>7.0</td>\n",
       "      <td>6.0</td>\n",
       "      <td>2904.0</td>\n",
       "      <td>2482.0</td>\n",
       "      <td>1900.0</td>\n",
       "    </tr>\n",
       "  </tbody>\n",
       "</table>\n",
       "</div>"
      ],
      "text/plain": [
       "                                         Address DateOfSale  SalePrice  \\\n",
       "ID                                                                       \n",
       "15149005  251-253 Missouri St, San Francisco, CA   12/23/15   0.000001   \n",
       "\n",
       "          IsAStudio  Beds  Baths    Size  LotSize  BuiltInYear  \n",
       "ID                                                              \n",
       "15149005        0.0   7.0    6.0  2904.0   2482.0       1900.0  "
      ]
     },
     "execution_count": 42,
     "metadata": {},
     "output_type": "execute_result"
    }
   ],
   "source": [
    "df[df.SalePrice == df.SalePrice.min()]"
   ]
  },
  {
   "cell_type": "markdown",
   "metadata": {},
   "source": [
    "A 7 bedrooms/6 bathrooms house for $1.  What a bargain!"
   ]
  },
  {
   "cell_type": "code",
   "execution_count": 43,
   "metadata": {},
   "outputs": [
    {
     "data": {
      "text/plain": [
       "Address        San Carlos St, Carmel, CA\n",
       "DateOfSale                        2/9/16\n",
       "SalePrice                           32.7\n",
       "IsAStudio                              1\n",
       "Beds                                   9\n",
       "Baths                                 14\n",
       "Size                               11500\n",
       "LotSize                            47916\n",
       "BuiltInYear                         2015\n",
       "dtype: object"
      ]
     },
     "execution_count": 43,
     "metadata": {},
     "output_type": "execute_result"
    }
   ],
   "source": [
    "df.max()"
   ]
  },
  {
   "cell_type": "markdown",
   "metadata": {},
   "source": [
    "> #### Activity: What are properties that were sold at the highest price?  At what price?"
   ]
  },
  {
   "cell_type": "code",
   "execution_count": 44,
   "metadata": {},
   "outputs": [
    {
     "data": {
      "text/plain": [
       "32.700000000000003"
      ]
     },
     "execution_count": 44,
     "metadata": {},
     "output_type": "execute_result"
    }
   ],
   "source": [
    "df.SalePrice.max()"
   ]
  },
  {
   "cell_type": "code",
   "execution_count": 45,
   "metadata": {},
   "outputs": [
    {
     "data": {
      "text/html": [
       "<div>\n",
       "<style>\n",
       "    .dataframe thead tr:only-child th {\n",
       "        text-align: right;\n",
       "    }\n",
       "\n",
       "    .dataframe thead th {\n",
       "        text-align: left;\n",
       "    }\n",
       "\n",
       "    .dataframe tbody tr th {\n",
       "        vertical-align: top;\n",
       "    }\n",
       "</style>\n",
       "<table border=\"1\" class=\"dataframe\">\n",
       "  <thead>\n",
       "    <tr style=\"text-align: right;\">\n",
       "      <th></th>\n",
       "      <th>Address</th>\n",
       "      <th>DateOfSale</th>\n",
       "      <th>SalePrice</th>\n",
       "      <th>IsAStudio</th>\n",
       "      <th>Beds</th>\n",
       "      <th>Baths</th>\n",
       "      <th>Size</th>\n",
       "      <th>LotSize</th>\n",
       "      <th>BuiltInYear</th>\n",
       "    </tr>\n",
       "    <tr>\n",
       "      <th>ID</th>\n",
       "      <th></th>\n",
       "      <th></th>\n",
       "      <th></th>\n",
       "      <th></th>\n",
       "      <th></th>\n",
       "      <th></th>\n",
       "      <th></th>\n",
       "      <th></th>\n",
       "      <th></th>\n",
       "    </tr>\n",
       "  </thead>\n",
       "  <tbody>\n",
       "    <tr>\n",
       "      <th>15083161</th>\n",
       "      <td>1825 Scott St, San Francisco, CA</td>\n",
       "      <td>11/23/15</td>\n",
       "      <td>32.7</td>\n",
       "      <td>0.0</td>\n",
       "      <td>NaN</td>\n",
       "      <td>1.0</td>\n",
       "      <td>1100.0</td>\n",
       "      <td>1694.0</td>\n",
       "      <td>1900.0</td>\n",
       "    </tr>\n",
       "  </tbody>\n",
       "</table>\n",
       "</div>"
      ],
      "text/plain": [
       "                                   Address DateOfSale  SalePrice  IsAStudio  \\\n",
       "ID                                                                            \n",
       "15083161  1825 Scott St, San Francisco, CA   11/23/15       32.7        0.0   \n",
       "\n",
       "          Beds  Baths    Size  LotSize  BuiltInYear  \n",
       "ID                                                   \n",
       "15083161   NaN    1.0  1100.0   1694.0       1900.0  "
      ]
     },
     "execution_count": 45,
     "metadata": {},
     "output_type": "execute_result"
    }
   ],
   "source": [
    "df[df.SalePrice == df.SalePrice.max()]"
   ]
  },
  {
   "cell_type": "markdown",
   "metadata": {},
   "source": [
    "So much for a deal: a $32M house with a single bathroom and an unknown number of bedrooms!"
   ]
  },
  {
   "cell_type": "markdown",
   "metadata": {},
   "source": [
    "### `.quantile()` - Compute values at the given quantile"
   ]
  },
  {
   "cell_type": "code",
   "execution_count": 46,
   "metadata": {},
   "outputs": [
    {
     "data": {
      "text/plain": [
       "SalePrice         1.1\n",
       "IsAStudio         0.0\n",
       "Beds              2.0\n",
       "Baths             2.0\n",
       "Size           1350.0\n",
       "LotSize        2622.0\n",
       "BuiltInYear    1939.0\n",
       "Name: 0.5, dtype: float64"
      ]
     },
     "execution_count": 46,
     "metadata": {},
     "output_type": "execute_result"
    }
   ],
   "source": [
    "df.quantile(.5)"
   ]
  },
  {
   "cell_type": "code",
   "execution_count": 47,
   "metadata": {},
   "outputs": [
    {
     "data": {
      "text/plain": [
       "SalePrice         1.1\n",
       "IsAStudio         0.0\n",
       "Beds              2.0\n",
       "Baths             2.0\n",
       "Size           1350.0\n",
       "LotSize        2622.0\n",
       "BuiltInYear    1939.0\n",
       "dtype: float64"
      ]
     },
     "execution_count": 47,
     "metadata": {},
     "output_type": "execute_result"
    }
   ],
   "source": [
    "df.median()"
   ]
  },
  {
   "cell_type": "code",
   "execution_count": 48,
   "metadata": {},
   "outputs": [
    {
     "data": {
      "text/plain": [
       "SalePrice         0.8\n",
       "IsAStudio         0.0\n",
       "Beds              2.0\n",
       "Baths             1.0\n",
       "Size           1027.5\n",
       "LotSize        2375.0\n",
       "BuiltInYear    1912.0\n",
       "Name: 0.25, dtype: float64"
      ]
     },
     "execution_count": 48,
     "metadata": {},
     "output_type": "execute_result"
    }
   ],
   "source": [
    "df.quantile(.25)"
   ]
  },
  {
   "cell_type": "code",
   "execution_count": 49,
   "metadata": {},
   "outputs": [
    {
     "data": {
      "text/plain": [
       "SalePrice         1.5325\n",
       "IsAStudio         0.0000\n",
       "Beds              3.0000\n",
       "Baths             2.0000\n",
       "Size           1947.5000\n",
       "LotSize        3049.0000\n",
       "BuiltInYear    1986.0000\n",
       "Name: 0.75, dtype: float64"
      ]
     },
     "execution_count": 49,
     "metadata": {},
     "output_type": "execute_result"
    }
   ],
   "source": [
    "df.quantile(.75)"
   ]
  },
  {
   "cell_type": "markdown",
   "metadata": {},
   "source": [
    "### `.describe()` - Generate various summary statistics"
   ]
  },
  {
   "cell_type": "code",
   "execution_count": 50,
   "metadata": {},
   "outputs": [
    {
     "data": {
      "text/html": [
       "<div>\n",
       "<style>\n",
       "    .dataframe thead tr:only-child th {\n",
       "        text-align: right;\n",
       "    }\n",
       "\n",
       "    .dataframe thead th {\n",
       "        text-align: left;\n",
       "    }\n",
       "\n",
       "    .dataframe tbody tr th {\n",
       "        vertical-align: top;\n",
       "    }\n",
       "</style>\n",
       "<table border=\"1\" class=\"dataframe\">\n",
       "  <thead>\n",
       "    <tr style=\"text-align: right;\">\n",
       "      <th></th>\n",
       "      <th>SalePrice</th>\n",
       "      <th>IsAStudio</th>\n",
       "      <th>Beds</th>\n",
       "      <th>Baths</th>\n",
       "      <th>Size</th>\n",
       "      <th>LotSize</th>\n",
       "      <th>BuiltInYear</th>\n",
       "    </tr>\n",
       "  </thead>\n",
       "  <tbody>\n",
       "    <tr>\n",
       "      <th>count</th>\n",
       "      <td>1000.000000</td>\n",
       "      <td>986.000000</td>\n",
       "      <td>836.000000</td>\n",
       "      <td>942.000000</td>\n",
       "      <td>967.000000</td>\n",
       "      <td>556.000000</td>\n",
       "      <td>975.000000</td>\n",
       "    </tr>\n",
       "    <tr>\n",
       "      <th>mean</th>\n",
       "      <td>1.397423</td>\n",
       "      <td>0.029412</td>\n",
       "      <td>2.572967</td>\n",
       "      <td>1.977548</td>\n",
       "      <td>1641.300931</td>\n",
       "      <td>3020.640288</td>\n",
       "      <td>1947.533333</td>\n",
       "    </tr>\n",
       "    <tr>\n",
       "      <th>std</th>\n",
       "      <td>1.736413</td>\n",
       "      <td>0.169043</td>\n",
       "      <td>1.250891</td>\n",
       "      <td>1.130334</td>\n",
       "      <td>1027.016175</td>\n",
       "      <td>2853.430139</td>\n",
       "      <td>38.021563</td>\n",
       "    </tr>\n",
       "    <tr>\n",
       "      <th>min</th>\n",
       "      <td>0.000001</td>\n",
       "      <td>0.000000</td>\n",
       "      <td>1.000000</td>\n",
       "      <td>1.000000</td>\n",
       "      <td>264.000000</td>\n",
       "      <td>44.000000</td>\n",
       "      <td>1870.000000</td>\n",
       "    </tr>\n",
       "    <tr>\n",
       "      <th>25%</th>\n",
       "      <td>0.800000</td>\n",
       "      <td>0.000000</td>\n",
       "      <td>2.000000</td>\n",
       "      <td>1.000000</td>\n",
       "      <td>1027.500000</td>\n",
       "      <td>2375.000000</td>\n",
       "      <td>1912.000000</td>\n",
       "    </tr>\n",
       "    <tr>\n",
       "      <th>50%</th>\n",
       "      <td>1.100000</td>\n",
       "      <td>0.000000</td>\n",
       "      <td>2.000000</td>\n",
       "      <td>2.000000</td>\n",
       "      <td>1350.000000</td>\n",
       "      <td>2622.000000</td>\n",
       "      <td>1939.000000</td>\n",
       "    </tr>\n",
       "    <tr>\n",
       "      <th>75%</th>\n",
       "      <td>1.532500</td>\n",
       "      <td>0.000000</td>\n",
       "      <td>3.000000</td>\n",
       "      <td>2.000000</td>\n",
       "      <td>1947.500000</td>\n",
       "      <td>3049.000000</td>\n",
       "      <td>1986.000000</td>\n",
       "    </tr>\n",
       "    <tr>\n",
       "      <th>max</th>\n",
       "      <td>32.700000</td>\n",
       "      <td>1.000000</td>\n",
       "      <td>9.000000</td>\n",
       "      <td>14.000000</td>\n",
       "      <td>11500.000000</td>\n",
       "      <td>47916.000000</td>\n",
       "      <td>2015.000000</td>\n",
       "    </tr>\n",
       "  </tbody>\n",
       "</table>\n",
       "</div>"
      ],
      "text/plain": [
       "         SalePrice   IsAStudio        Beds       Baths          Size  \\\n",
       "count  1000.000000  986.000000  836.000000  942.000000    967.000000   \n",
       "mean      1.397423    0.029412    2.572967    1.977548   1641.300931   \n",
       "std       1.736413    0.169043    1.250891    1.130334   1027.016175   \n",
       "min       0.000001    0.000000    1.000000    1.000000    264.000000   \n",
       "25%       0.800000    0.000000    2.000000    1.000000   1027.500000   \n",
       "50%       1.100000    0.000000    2.000000    2.000000   1350.000000   \n",
       "75%       1.532500    0.000000    3.000000    2.000000   1947.500000   \n",
       "max      32.700000    1.000000    9.000000   14.000000  11500.000000   \n",
       "\n",
       "            LotSize  BuiltInYear  \n",
       "count    556.000000   975.000000  \n",
       "mean    3020.640288  1947.533333  \n",
       "std     2853.430139    38.021563  \n",
       "min       44.000000  1870.000000  \n",
       "25%     2375.000000  1912.000000  \n",
       "50%     2622.000000  1939.000000  \n",
       "75%     3049.000000  1986.000000  \n",
       "max    47916.000000  2015.000000  "
      ]
     },
     "execution_count": 50,
     "metadata": {},
     "output_type": "execute_result"
    }
   ],
   "source": [
    "df.describe()"
   ]
  },
  {
   "cell_type": "markdown",
   "metadata": {},
   "source": [
    "This table only includes numerical columns."
   ]
  },
  {
   "cell_type": "code",
   "execution_count": 51,
   "metadata": {},
   "outputs": [
    {
     "data": {
      "text/plain": [
       "count    1000.000000\n",
       "mean        1.397423\n",
       "std         1.736413\n",
       "min         0.000001\n",
       "25%         0.800000\n",
       "50%         1.100000\n",
       "75%         1.532500\n",
       "max        32.700000\n",
       "Name: SalePrice, dtype: float64"
      ]
     },
     "execution_count": 51,
     "metadata": {},
     "output_type": "execute_result"
    }
   ],
   "source": [
    "df.SalePrice.describe()"
   ]
  },
  {
   "cell_type": "markdown",
   "metadata": {},
   "source": [
    "However, you can still call describe on non-numerical columns:"
   ]
  },
  {
   "cell_type": "code",
   "execution_count": 52,
   "metadata": {},
   "outputs": [
    {
     "data": {
      "text/plain": [
       "count                                        1000\n",
       "unique                                        993\n",
       "top       1954 Golden Gate Ave, San Francisco, CA\n",
       "freq                                            2\n",
       "Name: Address, dtype: object"
      ]
     },
     "execution_count": 52,
     "metadata": {},
     "output_type": "execute_result"
    }
   ],
   "source": [
    "df.Address.describe()"
   ]
  },
  {
   "cell_type": "markdown",
   "metadata": {},
   "source": [
    "## Part D"
   ]
  },
  {
   "cell_type": "markdown",
   "metadata": {},
   "source": [
    "- Boxplots\n",
    "  - (http://pandas.pydata.org/pandas-docs/stable/visualization.html#box-plots)\n",
    "  - (http://pandas.pydata.org/pandas-docs/stable/generated/pandas.DataFrame.plot.html) with `kind = 'box'`\n",
    "  - (http://pandas.pydata.org/pandas-docs/stable/generated/pandas.Series.plot.html) with `kind = 'box'`\n",
    "  - (http://pandas.pydata.org/pandas-docs/stable/generated/pandas.DataFrame.boxplot.html)"
   ]
  },
  {
   "cell_type": "code",
   "execution_count": 53,
   "metadata": {},
   "outputs": [
    {
     "data": {
      "text/plain": [
       "<matplotlib.axes._subplots.AxesSubplot at 0x10e8e5b50>"
      ]
     },
     "execution_count": 53,
     "metadata": {},
     "output_type": "execute_result"
    },
    {
     "data": {
      "image/png": "[encoded data removed]",
      "text/plain": [
       "<matplotlib.figure.Figure at 0x10e8c3190>"
      ]
     },
     "metadata": {},
     "output_type": "display_data"
    }
   ],
   "source": [
    "df.SalePrice.plot(kind = 'box', figsize = (8, 8))"
   ]
  },
  {
   "cell_type": "code",
   "execution_count": 54,
   "metadata": {},
   "outputs": [
    {
     "data": {
      "text/plain": [
       "<matplotlib.axes._subplots.AxesSubplot at 0x10e8c3650>"
      ]
     },
     "execution_count": 54,
     "metadata": {},
     "output_type": "execute_result"
    },
    {
     "data": {
      "image/png": "[encoded data removed]",
      "text/plain": [
       "<matplotlib.figure.Figure at 0x10e8e5410>"
      ]
     },
     "metadata": {},
     "output_type": "display_data"
    }
   ],
   "source": [
    "df[ ['SalePrice'] ].boxplot(figsize = (8, 8))"
   ]
  },
  {
   "cell_type": "markdown",
   "metadata": {},
   "source": [
    "> In the same plot, plot the boxplots of `Beds` and `Baths`"
   ]
  },
  {
   "cell_type": "code",
   "execution_count": 55,
   "metadata": {},
   "outputs": [
    {
     "data": {
      "text/plain": [
       "<matplotlib.axes._subplots.AxesSubplot at 0x113b20650>"
      ]
     },
     "execution_count": 55,
     "metadata": {},
     "output_type": "execute_result"
    },
    {
     "data": {
      "image/png": "[encoded data removed]",
      "text/plain": [
       "<matplotlib.figure.Figure at 0x113ae9b10>"
      ]
     },
     "metadata": {},
     "output_type": "display_data"
    }
   ],
   "source": [
    "df[ ['Beds', 'Baths'] ].plot(kind = 'box', figsize = (8, 8))"
   ]
  },
  {
   "cell_type": "markdown",
   "metadata": {},
   "source": [
    "(or)"
   ]
  },
  {
   "cell_type": "code",
   "execution_count": 56,
   "metadata": {},
   "outputs": [
    {
     "data": {
      "text/plain": [
       "<matplotlib.axes._subplots.AxesSubplot at 0x113ab2e10>"
      ]
     },
     "execution_count": 56,
     "metadata": {},
     "output_type": "execute_result"
    },
    {
     "data": {
      "image/png": "[encoded data removed]",
      "text/plain": [
       "<matplotlib.figure.Figure at 0x113b445d0>"
      ]
     },
     "metadata": {},
     "output_type": "display_data"
    }
   ],
   "source": [
    "df[ ['Beds', 'Baths'] ].boxplot(figsize = (8, 8))"
   ]
  },
  {
   "cell_type": "markdown",
   "metadata": {},
   "source": [
    "## Part E"
   ]
  },
  {
   "cell_type": "markdown",
   "metadata": {},
   "source": [
    "- Histograms\n",
    "  - (http://pandas.pydata.org/pandas-docs/stable/visualization.html#histograms)\n",
    "  - (http://pandas.pydata.org/pandas-docs/stable/generated/pandas.DataFrame.plot.html) with `kind = 'hist'`\n",
    "  - (http://pandas.pydata.org/pandas-docs/stable/generated/pandas.Series.plot.html) with `kind = 'hist'`\n",
    "  - (http://pandas.pydata.org/pandas-docs/stable/generated/pandas.DataFrame.hist.html)\n",
    "  - ((http://pandas.pydata.org/pandas-docs/stable/generated/pandas.Series.hist.html)"
   ]
  },
  {
   "cell_type": "code",
   "execution_count": 57,
   "metadata": {},
   "outputs": [
    {
     "data": {
      "text/plain": [
       "<matplotlib.axes._subplots.AxesSubplot at 0x113da7a10>"
      ]
     },
     "execution_count": 57,
     "metadata": {},
     "output_type": "execute_result"
    },
    {
     "data": {
      "image/png": "[encoded data removed]",
      "text/plain": [
       "<matplotlib.figure.Figure at 0x113b603d0>"
      ]
     },
     "metadata": {},
     "output_type": "display_data"
    }
   ],
   "source": [
    "df.Beds.plot(kind = 'hist', figsize = (8, 8))"
   ]
  },
  {
   "cell_type": "code",
   "execution_count": 58,
   "metadata": {},
   "outputs": [
    {
     "data": {
      "text/plain": [
       "<matplotlib.axes._subplots.AxesSubplot at 0x113cbce50>"
      ]
     },
     "execution_count": 58,
     "metadata": {},
     "output_type": "execute_result"
    },
    {
     "data": {
      "image/png": "[encoded data removed]",
      "text/plain": [
       "<matplotlib.figure.Figure at 0x113f06090>"
      ]
     },
     "metadata": {},
     "output_type": "display_data"
    }
   ],
   "source": [
    "df.Beds.hist(figsize = (8, 8))"
   ]
  },
  {
   "cell_type": "code",
   "execution_count": 59,
   "metadata": {},
   "outputs": [
    {
     "data": {
      "text/plain": [
       "array([ 1.,  2.,  3.,  5.,  4.,  7.,  6.,  8.,  9.])"
      ]
     },
     "execution_count": 59,
     "metadata": {},
     "output_type": "execute_result"
    }
   ],
   "source": [
    "df.Beds.dropna().unique()"
   ]
  },
  {
   "cell_type": "code",
   "execution_count": 60,
   "metadata": {},
   "outputs": [
    {
     "data": {
      "text/plain": [
       "<matplotlib.axes._subplots.AxesSubplot at 0x113efd290>"
      ]
     },
     "execution_count": 60,
     "metadata": {},
     "output_type": "execute_result"
    },
    {
     "data": {
      "image/png": "[encoded data removed]",
      "text/plain": [
       "<matplotlib.figure.Figure at 0x113f7c090>"
      ]
     },
     "metadata": {},
     "output_type": "display_data"
    }
   ],
   "source": [
    "max = int(math.ceil(df.Beds.max()))\n",
    "\n",
    "df.Beds.plot(kind = 'hist', range = (.5, max + .5), bins = max, figsize = (8, 8))"
   ]
  },
  {
   "cell_type": "markdown",
   "metadata": {},
   "source": [
    "> #### Activity: In the same plot, plot the histograms of `Beds` and `Baths`"
   ]
  },
  {
   "cell_type": "code",
   "execution_count": 61,
   "metadata": {},
   "outputs": [
    {
     "data": {
      "text/plain": [
       "<matplotlib.axes._subplots.AxesSubplot at 0x114226a90>"
      ]
     },
     "execution_count": 61,
     "metadata": {},
     "output_type": "execute_result"
    },
    {
     "data": {
      "image/png": "[encoded data removed]",
      "text/plain": [
       "<matplotlib.figure.Figure at 0x113f7c190>"
      ]
     },
     "metadata": {},
     "output_type": "display_data"
    }
   ],
   "source": [
    "df[ ['Beds', 'Baths'] ].plot(kind = 'hist', figsize = (8, 8))"
   ]
  },
  {
   "cell_type": "markdown",
   "metadata": {},
   "source": [
    "Here both histograms are in the same plot"
   ]
  },
  {
   "cell_type": "markdown",
   "metadata": {
    "collapsed": true
   },
   "source": [
    "(or)"
   ]
  },
  {
   "cell_type": "code",
   "execution_count": 62,
   "metadata": {},
   "outputs": [
    {
     "data": {
      "text/plain": [
       "array([[<matplotlib.axes._subplots.AxesSubplot object at 0x11428fed0>,\n",
       "        <matplotlib.axes._subplots.AxesSubplot object at 0x11456b2d0>]], dtype=object)"
      ]
     },
     "execution_count": 62,
     "metadata": {},
     "output_type": "execute_result"
    },
    {
     "data": {
      "image/png": "[encoded data removed]",
      "text/plain": [
       "<matplotlib.figure.Figure at 0x1142b1190>"
      ]
     },
     "metadata": {},
     "output_type": "display_data"
    }
   ],
   "source": [
    "df[ ['Beds', 'Baths'] ].hist(figsize = (8, 4))"
   ]
  },
  {
   "cell_type": "markdown",
   "metadata": {},
   "source": [
    "Here histograms are in the separate plots."
   ]
  },
  {
   "cell_type": "markdown",
   "metadata": {},
   "source": [
    "## Part F"
   ]
  },
  {
   "cell_type": "markdown",
   "metadata": {},
   "source": [
    "- `.mode()`\n",
    "  - (http://pandas.pydata.org/pandas-docs/stable/generated/pandas.DataFrame.mode.html)\n",
    "  - ((http://pandas.pydata.org/pandas-docs/stable/generated/pandas.Series.mode.html)"
   ]
  },
  {
   "cell_type": "markdown",
   "metadata": {},
   "source": [
    "### `.mode()` - Compute the mode value(s)"
   ]
  },
  {
   "cell_type": "code",
   "execution_count": 63,
   "metadata": {},
   "outputs": [
    {
     "data": {
      "text/html": [
       "<div>\n",
       "<style>\n",
       "    .dataframe thead tr:only-child th {\n",
       "        text-align: right;\n",
       "    }\n",
       "\n",
       "    .dataframe thead th {\n",
       "        text-align: left;\n",
       "    }\n",
       "\n",
       "    .dataframe tbody tr th {\n",
       "        vertical-align: top;\n",
       "    }\n",
       "</style>\n",
       "<table border=\"1\" class=\"dataframe\">\n",
       "  <thead>\n",
       "    <tr style=\"text-align: right;\">\n",
       "      <th></th>\n",
       "      <th>Address</th>\n",
       "      <th>DateOfSale</th>\n",
       "      <th>SalePrice</th>\n",
       "      <th>IsAStudio</th>\n",
       "      <th>Beds</th>\n",
       "      <th>Baths</th>\n",
       "      <th>Size</th>\n",
       "      <th>LotSize</th>\n",
       "      <th>BuiltInYear</th>\n",
       "    </tr>\n",
       "  </thead>\n",
       "  <tbody>\n",
       "    <tr>\n",
       "      <th>0</th>\n",
       "      <td>1 Mono St # B, San Francisco, CA</td>\n",
       "      <td>11/20/15</td>\n",
       "      <td>1.1</td>\n",
       "      <td>0.0</td>\n",
       "      <td>2.0</td>\n",
       "      <td>1.0</td>\n",
       "      <td>1000.0</td>\n",
       "      <td>2495.0</td>\n",
       "      <td>1900.0</td>\n",
       "    </tr>\n",
       "    <tr>\n",
       "      <th>1</th>\n",
       "      <td>150 Grand View Ave, San Francisco, CA</td>\n",
       "      <td>NaN</td>\n",
       "      <td>NaN</td>\n",
       "      <td>NaN</td>\n",
       "      <td>NaN</td>\n",
       "      <td>NaN</td>\n",
       "      <td>NaN</td>\n",
       "      <td>NaN</td>\n",
       "      <td>NaN</td>\n",
       "    </tr>\n",
       "    <tr>\n",
       "      <th>2</th>\n",
       "      <td>1915 Diamond St, San Francisco, CA</td>\n",
       "      <td>NaN</td>\n",
       "      <td>NaN</td>\n",
       "      <td>NaN</td>\n",
       "      <td>NaN</td>\n",
       "      <td>NaN</td>\n",
       "      <td>NaN</td>\n",
       "      <td>NaN</td>\n",
       "      <td>NaN</td>\n",
       "    </tr>\n",
       "    <tr>\n",
       "      <th>3</th>\n",
       "      <td>1954 Golden Gate Ave, San Francisco, CA</td>\n",
       "      <td>NaN</td>\n",
       "      <td>NaN</td>\n",
       "      <td>NaN</td>\n",
       "      <td>NaN</td>\n",
       "      <td>NaN</td>\n",
       "      <td>NaN</td>\n",
       "      <td>NaN</td>\n",
       "      <td>NaN</td>\n",
       "    </tr>\n",
       "    <tr>\n",
       "      <th>4</th>\n",
       "      <td>2299 Market St APT 502, San Francisco, CA</td>\n",
       "      <td>NaN</td>\n",
       "      <td>NaN</td>\n",
       "      <td>NaN</td>\n",
       "      <td>NaN</td>\n",
       "      <td>NaN</td>\n",
       "      <td>NaN</td>\n",
       "      <td>NaN</td>\n",
       "      <td>NaN</td>\n",
       "    </tr>\n",
       "    <tr>\n",
       "      <th>5</th>\n",
       "      <td>643 Natoma St, San Francisco, CA</td>\n",
       "      <td>NaN</td>\n",
       "      <td>NaN</td>\n",
       "      <td>NaN</td>\n",
       "      <td>NaN</td>\n",
       "      <td>NaN</td>\n",
       "      <td>NaN</td>\n",
       "      <td>NaN</td>\n",
       "      <td>NaN</td>\n",
       "    </tr>\n",
       "    <tr>\n",
       "      <th>6</th>\n",
       "      <td>829 Folsom St UNIT 906, San Francisco, CA</td>\n",
       "      <td>NaN</td>\n",
       "      <td>NaN</td>\n",
       "      <td>NaN</td>\n",
       "      <td>NaN</td>\n",
       "      <td>NaN</td>\n",
       "      <td>NaN</td>\n",
       "      <td>NaN</td>\n",
       "      <td>NaN</td>\n",
       "    </tr>\n",
       "  </tbody>\n",
       "</table>\n",
       "</div>"
      ],
      "text/plain": [
       "                                     Address DateOfSale  SalePrice  IsAStudio  \\\n",
       "0           1 Mono St # B, San Francisco, CA   11/20/15        1.1        0.0   \n",
       "1      150 Grand View Ave, San Francisco, CA        NaN        NaN        NaN   \n",
       "2         1915 Diamond St, San Francisco, CA        NaN        NaN        NaN   \n",
       "3    1954 Golden Gate Ave, San Francisco, CA        NaN        NaN        NaN   \n",
       "4  2299 Market St APT 502, San Francisco, CA        NaN        NaN        NaN   \n",
       "5           643 Natoma St, San Francisco, CA        NaN        NaN        NaN   \n",
       "6  829 Folsom St UNIT 906, San Francisco, CA        NaN        NaN        NaN   \n",
       "\n",
       "   Beds  Baths    Size  LotSize  BuiltInYear  \n",
       "0   2.0    1.0  1000.0   2495.0       1900.0  \n",
       "1   NaN    NaN     NaN      NaN          NaN  \n",
       "2   NaN    NaN     NaN      NaN          NaN  \n",
       "3   NaN    NaN     NaN      NaN          NaN  \n",
       "4   NaN    NaN     NaN      NaN          NaN  \n",
       "5   NaN    NaN     NaN      NaN          NaN  \n",
       "6   NaN    NaN     NaN      NaN          NaN  "
      ]
     },
     "execution_count": 63,
     "metadata": {},
     "output_type": "execute_result"
    }
   ],
   "source": [
    "df.mode()"
   ]
  },
  {
   "cell_type": "code",
   "execution_count": 64,
   "metadata": {},
   "outputs": [
    {
     "data": {
      "text/plain": [
       "0             1 Mono St # B, San Francisco, CA\n",
       "1        150 Grand View Ave, San Francisco, CA\n",
       "2           1915 Diamond St, San Francisco, CA\n",
       "3      1954 Golden Gate Ave, San Francisco, CA\n",
       "4    2299 Market St APT 502, San Francisco, CA\n",
       "5             643 Natoma St, San Francisco, CA\n",
       "6    829 Folsom St UNIT 906, San Francisco, CA\n",
       "dtype: object"
      ]
     },
     "execution_count": 64,
     "metadata": {},
     "output_type": "execute_result"
    }
   ],
   "source": [
    "df.Address.mode()"
   ]
  },
  {
   "cell_type": "code",
   "execution_count": 65,
   "metadata": {},
   "outputs": [
    {
     "data": {
      "text/plain": [
       "0    1.0\n",
       "dtype: float64"
      ]
     },
     "execution_count": 65,
     "metadata": {},
     "output_type": "execute_result"
    }
   ],
   "source": [
    "df.Baths.mode()"
   ]
  },
  {
   "cell_type": "markdown",
   "metadata": {},
   "source": [
    "The `.mode()` method gets the mode(s) of each element along the columns.  Empty if nothing has 2+ occurrences. Adds a row for each mode per label, fills in gaps with `NaN`.  Note that there could be multiple values returned in the columns (when more than one value share the maximum frequency), which is the reason why a dataframe is returned."
   ]
  },
  {
   "cell_type": "code",
   "execution_count": 66,
   "metadata": {},
   "outputs": [
    {
     "data": {
      "text/html": [
       "<div>\n",
       "<style>\n",
       "    .dataframe thead tr:only-child th {\n",
       "        text-align: right;\n",
       "    }\n",
       "\n",
       "    .dataframe thead th {\n",
       "        text-align: left;\n",
       "    }\n",
       "\n",
       "    .dataframe tbody tr th {\n",
       "        vertical-align: top;\n",
       "    }\n",
       "</style>\n",
       "<table border=\"1\" class=\"dataframe\">\n",
       "  <thead>\n",
       "    <tr style=\"text-align: right;\">\n",
       "      <th></th>\n",
       "      <th>Address</th>\n",
       "      <th>DateOfSale</th>\n",
       "      <th>SalePrice</th>\n",
       "      <th>IsAStudio</th>\n",
       "      <th>Beds</th>\n",
       "      <th>Baths</th>\n",
       "      <th>Size</th>\n",
       "      <th>LotSize</th>\n",
       "      <th>BuiltInYear</th>\n",
       "    </tr>\n",
       "    <tr>\n",
       "      <th>ID</th>\n",
       "      <th></th>\n",
       "      <th></th>\n",
       "      <th></th>\n",
       "      <th></th>\n",
       "      <th></th>\n",
       "      <th></th>\n",
       "      <th></th>\n",
       "      <th></th>\n",
       "      <th></th>\n",
       "    </tr>\n",
       "  </thead>\n",
       "  <tbody>\n",
       "    <tr>\n",
       "      <th>59700333</th>\n",
       "      <td>1 Mono St # B, San Francisco, CA</td>\n",
       "      <td>12/11/15</td>\n",
       "      <td>1.08</td>\n",
       "      <td>0.0</td>\n",
       "      <td>2.0</td>\n",
       "      <td>1.5</td>\n",
       "      <td>1142.0</td>\n",
       "      <td>NaN</td>\n",
       "      <td>1968.0</td>\n",
       "    </tr>\n",
       "    <tr>\n",
       "      <th>59779608</th>\n",
       "      <td>1 Mono St # B, San Francisco, CA</td>\n",
       "      <td>12/11/15</td>\n",
       "      <td>1.08</td>\n",
       "      <td>0.0</td>\n",
       "      <td>NaN</td>\n",
       "      <td>NaN</td>\n",
       "      <td>1142.0</td>\n",
       "      <td>NaN</td>\n",
       "      <td>1968.0</td>\n",
       "    </tr>\n",
       "  </tbody>\n",
       "</table>\n",
       "</div>"
      ],
      "text/plain": [
       "                                   Address DateOfSale  SalePrice  IsAStudio  \\\n",
       "ID                                                                            \n",
       "59700333  1 Mono St # B, San Francisco, CA   12/11/15       1.08        0.0   \n",
       "59779608  1 Mono St # B, San Francisco, CA   12/11/15       1.08        0.0   \n",
       "\n",
       "          Beds  Baths    Size  LotSize  BuiltInYear  \n",
       "ID                                                   \n",
       "59700333   2.0    1.5  1142.0      NaN       1968.0  \n",
       "59779608   NaN    NaN  1142.0      NaN       1968.0  "
      ]
     },
     "execution_count": 66,
     "metadata": {},
     "output_type": "execute_result"
    }
   ],
   "source": [
    "df[df.Address == '1 Mono St # B, San Francisco, CA']"
   ]
  },
  {
   "cell_type": "code",
   "execution_count": 67,
   "metadata": {},
   "outputs": [
    {
     "data": {
      "text/html": [
       "<div>\n",
       "<style>\n",
       "    .dataframe thead tr:only-child th {\n",
       "        text-align: right;\n",
       "    }\n",
       "\n",
       "    .dataframe thead th {\n",
       "        text-align: left;\n",
       "    }\n",
       "\n",
       "    .dataframe tbody tr th {\n",
       "        vertical-align: top;\n",
       "    }\n",
       "</style>\n",
       "<table border=\"1\" class=\"dataframe\">\n",
       "  <thead>\n",
       "    <tr style=\"text-align: right;\">\n",
       "      <th></th>\n",
       "      <th>Address</th>\n",
       "      <th>DateOfSale</th>\n",
       "      <th>SalePrice</th>\n",
       "      <th>IsAStudio</th>\n",
       "      <th>Beds</th>\n",
       "      <th>Baths</th>\n",
       "      <th>Size</th>\n",
       "      <th>LotSize</th>\n",
       "      <th>BuiltInYear</th>\n",
       "    </tr>\n",
       "    <tr>\n",
       "      <th>ID</th>\n",
       "      <th></th>\n",
       "      <th></th>\n",
       "      <th></th>\n",
       "      <th></th>\n",
       "      <th></th>\n",
       "      <th></th>\n",
       "      <th></th>\n",
       "      <th></th>\n",
       "      <th></th>\n",
       "    </tr>\n",
       "  </thead>\n",
       "  <tbody>\n",
       "    <tr>\n",
       "      <th>123597964</th>\n",
       "      <td>829 Folsom St UNIT 906, San Francisco, CA</td>\n",
       "      <td>12/7/15</td>\n",
       "      <td>0.675</td>\n",
       "      <td>0.0</td>\n",
       "      <td>NaN</td>\n",
       "      <td>NaN</td>\n",
       "      <td>557.0</td>\n",
       "      <td>NaN</td>\n",
       "      <td>2010.0</td>\n",
       "    </tr>\n",
       "    <tr>\n",
       "      <th>2121978635</th>\n",
       "      <td>829 Folsom St UNIT 906, San Francisco, CA</td>\n",
       "      <td>12/6/15</td>\n",
       "      <td>0.675</td>\n",
       "      <td>0.0</td>\n",
       "      <td>1.0</td>\n",
       "      <td>1.0</td>\n",
       "      <td>557.0</td>\n",
       "      <td>NaN</td>\n",
       "      <td>2010.0</td>\n",
       "    </tr>\n",
       "  </tbody>\n",
       "</table>\n",
       "</div>"
      ],
      "text/plain": [
       "                                              Address DateOfSale  SalePrice  \\\n",
       "ID                                                                            \n",
       "123597964   829 Folsom St UNIT 906, San Francisco, CA    12/7/15      0.675   \n",
       "2121978635  829 Folsom St UNIT 906, San Francisco, CA    12/6/15      0.675   \n",
       "\n",
       "            IsAStudio  Beds  Baths   Size  LotSize  BuiltInYear  \n",
       "ID                                                               \n",
       "123597964         0.0   NaN    NaN  557.0      NaN       2010.0  \n",
       "2121978635        0.0   1.0    1.0  557.0      NaN       2010.0  "
      ]
     },
     "execution_count": 67,
     "metadata": {},
     "output_type": "execute_result"
    }
   ],
   "source": [
    "df[df.Address == '829 Folsom St UNIT 906, San Francisco, CA']"
   ]
  },
  {
   "cell_type": "code",
   "execution_count": 68,
   "metadata": {},
   "outputs": [
    {
     "data": {
      "text/html": [
       "<div>\n",
       "<style>\n",
       "    .dataframe thead tr:only-child th {\n",
       "        text-align: right;\n",
       "    }\n",
       "\n",
       "    .dataframe thead th {\n",
       "        text-align: left;\n",
       "    }\n",
       "\n",
       "    .dataframe tbody tr th {\n",
       "        vertical-align: top;\n",
       "    }\n",
       "</style>\n",
       "<table border=\"1\" class=\"dataframe\">\n",
       "  <thead>\n",
       "    <tr style=\"text-align: right;\">\n",
       "      <th></th>\n",
       "      <th>Address</th>\n",
       "      <th>DateOfSale</th>\n",
       "      <th>SalePrice</th>\n",
       "      <th>IsAStudio</th>\n",
       "      <th>Beds</th>\n",
       "      <th>Baths</th>\n",
       "      <th>Size</th>\n",
       "      <th>LotSize</th>\n",
       "      <th>BuiltInYear</th>\n",
       "    </tr>\n",
       "    <tr>\n",
       "      <th>ID</th>\n",
       "      <th></th>\n",
       "      <th></th>\n",
       "      <th></th>\n",
       "      <th></th>\n",
       "      <th></th>\n",
       "      <th></th>\n",
       "      <th></th>\n",
       "      <th></th>\n",
       "      <th></th>\n",
       "    </tr>\n",
       "  </thead>\n",
       "  <tbody>\n",
       "    <tr>\n",
       "      <th>125156575</th>\n",
       "      <td>1915 Diamond St, San Francisco, CA</td>\n",
       "      <td>12/30/15</td>\n",
       "      <td>1.8</td>\n",
       "      <td>0.0</td>\n",
       "      <td>NaN</td>\n",
       "      <td>1.0</td>\n",
       "      <td>2200.0</td>\n",
       "      <td>4316.0</td>\n",
       "      <td>1910.0</td>\n",
       "    </tr>\n",
       "    <tr>\n",
       "      <th>2100850402</th>\n",
       "      <td>1915 Diamond St, San Francisco, CA</td>\n",
       "      <td>12/29/15</td>\n",
       "      <td>1.8</td>\n",
       "      <td>0.0</td>\n",
       "      <td>4.0</td>\n",
       "      <td>3.0</td>\n",
       "      <td>2400.0</td>\n",
       "      <td>4356.0</td>\n",
       "      <td>1910.0</td>\n",
       "    </tr>\n",
       "  </tbody>\n",
       "</table>\n",
       "</div>"
      ],
      "text/plain": [
       "                                       Address DateOfSale  SalePrice  \\\n",
       "ID                                                                     \n",
       "125156575   1915 Diamond St, San Francisco, CA   12/30/15        1.8   \n",
       "2100850402  1915 Diamond St, San Francisco, CA   12/29/15        1.8   \n",
       "\n",
       "            IsAStudio  Beds  Baths    Size  LotSize  BuiltInYear  \n",
       "ID                                                                \n",
       "125156575         0.0   NaN    1.0  2200.0   4316.0       1910.0  \n",
       "2100850402        0.0   4.0    3.0  2400.0   4356.0       1910.0  "
      ]
     },
     "execution_count": 68,
     "metadata": {},
     "output_type": "execute_result"
    }
   ],
   "source": [
    "df[df.Address == '1915 Diamond St, San Francisco, CA']"
   ]
  },
  {
   "cell_type": "code",
   "execution_count": 69,
   "metadata": {},
   "outputs": [
    {
     "data": {
      "text/html": [
       "<div>\n",
       "<style>\n",
       "    .dataframe thead tr:only-child th {\n",
       "        text-align: right;\n",
       "    }\n",
       "\n",
       "    .dataframe thead th {\n",
       "        text-align: left;\n",
       "    }\n",
       "\n",
       "    .dataframe tbody tr th {\n",
       "        vertical-align: top;\n",
       "    }\n",
       "</style>\n",
       "<table border=\"1\" class=\"dataframe\">\n",
       "  <thead>\n",
       "    <tr style=\"text-align: right;\">\n",
       "      <th></th>\n",
       "      <th>Address</th>\n",
       "      <th>DateOfSale</th>\n",
       "      <th>SalePrice</th>\n",
       "      <th>IsAStudio</th>\n",
       "      <th>Beds</th>\n",
       "      <th>Baths</th>\n",
       "      <th>Size</th>\n",
       "      <th>LotSize</th>\n",
       "      <th>BuiltInYear</th>\n",
       "    </tr>\n",
       "    <tr>\n",
       "      <th>ID</th>\n",
       "      <th></th>\n",
       "      <th></th>\n",
       "      <th></th>\n",
       "      <th></th>\n",
       "      <th></th>\n",
       "      <th></th>\n",
       "      <th></th>\n",
       "      <th></th>\n",
       "      <th></th>\n",
       "    </tr>\n",
       "  </thead>\n",
       "  <tbody>\n",
       "    <tr>\n",
       "      <th>15084954</th>\n",
       "      <td>1954 Golden Gate Ave, San Francisco, CA</td>\n",
       "      <td>11/24/15</td>\n",
       "      <td>1.1</td>\n",
       "      <td>0.0</td>\n",
       "      <td>2.0</td>\n",
       "      <td>1.0</td>\n",
       "      <td>1515.0</td>\n",
       "      <td>NaN</td>\n",
       "      <td>1895.0</td>\n",
       "    </tr>\n",
       "    <tr>\n",
       "      <th>123597223</th>\n",
       "      <td>1954 Golden Gate Ave, San Francisco, CA</td>\n",
       "      <td>11/24/15</td>\n",
       "      <td>1.1</td>\n",
       "      <td>0.0</td>\n",
       "      <td>2.0</td>\n",
       "      <td>1.0</td>\n",
       "      <td>1275.0</td>\n",
       "      <td>NaN</td>\n",
       "      <td>1895.0</td>\n",
       "    </tr>\n",
       "  </tbody>\n",
       "</table>\n",
       "</div>"
      ],
      "text/plain": [
       "                                           Address DateOfSale  SalePrice  \\\n",
       "ID                                                                         \n",
       "15084954   1954 Golden Gate Ave, San Francisco, CA   11/24/15        1.1   \n",
       "123597223  1954 Golden Gate Ave, San Francisco, CA   11/24/15        1.1   \n",
       "\n",
       "           IsAStudio  Beds  Baths    Size  LotSize  BuiltInYear  \n",
       "ID                                                               \n",
       "15084954         0.0   2.0    1.0  1515.0      NaN       1895.0  \n",
       "123597223        0.0   2.0    1.0  1275.0      NaN       1895.0  "
      ]
     },
     "execution_count": 69,
     "metadata": {},
     "output_type": "execute_result"
    }
   ],
   "source": [
    "df[df.Address == '1954 Golden Gate Ave, San Francisco, CA']"
   ]
  },
  {
   "cell_type": "code",
   "execution_count": 70,
   "metadata": {},
   "outputs": [
    {
     "data": {
      "text/html": [
       "<div>\n",
       "<style>\n",
       "    .dataframe thead tr:only-child th {\n",
       "        text-align: right;\n",
       "    }\n",
       "\n",
       "    .dataframe thead th {\n",
       "        text-align: left;\n",
       "    }\n",
       "\n",
       "    .dataframe tbody tr th {\n",
       "        vertical-align: top;\n",
       "    }\n",
       "</style>\n",
       "<table border=\"1\" class=\"dataframe\">\n",
       "  <thead>\n",
       "    <tr style=\"text-align: right;\">\n",
       "      <th></th>\n",
       "      <th>Address</th>\n",
       "      <th>DateOfSale</th>\n",
       "      <th>SalePrice</th>\n",
       "      <th>IsAStudio</th>\n",
       "      <th>Beds</th>\n",
       "      <th>Baths</th>\n",
       "      <th>Size</th>\n",
       "      <th>LotSize</th>\n",
       "      <th>BuiltInYear</th>\n",
       "    </tr>\n",
       "    <tr>\n",
       "      <th>ID</th>\n",
       "      <th></th>\n",
       "      <th></th>\n",
       "      <th></th>\n",
       "      <th></th>\n",
       "      <th></th>\n",
       "      <th></th>\n",
       "      <th></th>\n",
       "      <th></th>\n",
       "      <th></th>\n",
       "    </tr>\n",
       "  </thead>\n",
       "  <tbody>\n",
       "    <tr>\n",
       "      <th>124891624</th>\n",
       "      <td>2299 Market St APT 502, San Francisco, CA</td>\n",
       "      <td>12/4/15</td>\n",
       "      <td>0.915</td>\n",
       "      <td>0.0</td>\n",
       "      <td>1.0</td>\n",
       "      <td>1.0</td>\n",
       "      <td>691.0</td>\n",
       "      <td>NaN</td>\n",
       "      <td>2013.0</td>\n",
       "    </tr>\n",
       "    <tr>\n",
       "      <th>2100902229</th>\n",
       "      <td>2299 Market St APT 502, San Francisco, CA</td>\n",
       "      <td>12/3/15</td>\n",
       "      <td>0.915</td>\n",
       "      <td>0.0</td>\n",
       "      <td>1.0</td>\n",
       "      <td>1.0</td>\n",
       "      <td>700.0</td>\n",
       "      <td>NaN</td>\n",
       "      <td>2013.0</td>\n",
       "    </tr>\n",
       "  </tbody>\n",
       "</table>\n",
       "</div>"
      ],
      "text/plain": [
       "                                              Address DateOfSale  SalePrice  \\\n",
       "ID                                                                            \n",
       "124891624   2299 Market St APT 502, San Francisco, CA    12/4/15      0.915   \n",
       "2100902229  2299 Market St APT 502, San Francisco, CA    12/3/15      0.915   \n",
       "\n",
       "            IsAStudio  Beds  Baths   Size  LotSize  BuiltInYear  \n",
       "ID                                                               \n",
       "124891624         0.0   1.0    1.0  691.0      NaN       2013.0  \n",
       "2100902229        0.0   1.0    1.0  700.0      NaN       2013.0  "
      ]
     },
     "execution_count": 70,
     "metadata": {},
     "output_type": "execute_result"
    }
   ],
   "source": [
    "df[df.Address == '2299 Market St APT 502, San Francisco, CA']"
   ]
  },
  {
   "cell_type": "code",
   "execution_count": 71,
   "metadata": {},
   "outputs": [
    {
     "data": {
      "text/html": [
       "<div>\n",
       "<style>\n",
       "    .dataframe thead tr:only-child th {\n",
       "        text-align: right;\n",
       "    }\n",
       "\n",
       "    .dataframe thead th {\n",
       "        text-align: left;\n",
       "    }\n",
       "\n",
       "    .dataframe tbody tr th {\n",
       "        vertical-align: top;\n",
       "    }\n",
       "</style>\n",
       "<table border=\"1\" class=\"dataframe\">\n",
       "  <thead>\n",
       "    <tr style=\"text-align: right;\">\n",
       "      <th></th>\n",
       "      <th>Address</th>\n",
       "      <th>DateOfSale</th>\n",
       "      <th>SalePrice</th>\n",
       "      <th>IsAStudio</th>\n",
       "      <th>Beds</th>\n",
       "      <th>Baths</th>\n",
       "      <th>Size</th>\n",
       "      <th>LotSize</th>\n",
       "      <th>BuiltInYear</th>\n",
       "    </tr>\n",
       "    <tr>\n",
       "      <th>ID</th>\n",
       "      <th></th>\n",
       "      <th></th>\n",
       "      <th></th>\n",
       "      <th></th>\n",
       "      <th></th>\n",
       "      <th></th>\n",
       "      <th></th>\n",
       "      <th></th>\n",
       "      <th></th>\n",
       "    </tr>\n",
       "  </thead>\n",
       "  <tbody>\n",
       "    <tr>\n",
       "      <th>15147343</th>\n",
       "      <td>643 Natoma St, San Francisco, CA</td>\n",
       "      <td>12/17/15</td>\n",
       "      <td>0.875</td>\n",
       "      <td>0.0</td>\n",
       "      <td>2.0</td>\n",
       "      <td>1.0</td>\n",
       "      <td>875.0</td>\n",
       "      <td>NaN</td>\n",
       "      <td>1910.0</td>\n",
       "    </tr>\n",
       "    <tr>\n",
       "      <th>123596761</th>\n",
       "      <td>643 Natoma St, San Francisco, CA</td>\n",
       "      <td>12/17/15</td>\n",
       "      <td>0.875</td>\n",
       "      <td>0.0</td>\n",
       "      <td>2.0</td>\n",
       "      <td>1.0</td>\n",
       "      <td>830.0</td>\n",
       "      <td>NaN</td>\n",
       "      <td>1910.0</td>\n",
       "    </tr>\n",
       "  </tbody>\n",
       "</table>\n",
       "</div>"
      ],
      "text/plain": [
       "                                    Address DateOfSale  SalePrice  IsAStudio  \\\n",
       "ID                                                                             \n",
       "15147343   643 Natoma St, San Francisco, CA   12/17/15      0.875        0.0   \n",
       "123596761  643 Natoma St, San Francisco, CA   12/17/15      0.875        0.0   \n",
       "\n",
       "           Beds  Baths   Size  LotSize  BuiltInYear  \n",
       "ID                                                   \n",
       "15147343    2.0    1.0  875.0      NaN       1910.0  \n",
       "123596761   2.0    1.0  830.0      NaN       1910.0  "
      ]
     },
     "execution_count": 71,
     "metadata": {},
     "output_type": "execute_result"
    }
   ],
   "source": [
    "df[df.Address == '643 Natoma St, San Francisco, CA']"
   ]
  },
  {
   "cell_type": "code",
   "execution_count": 72,
   "metadata": {},
   "outputs": [
    {
     "data": {
      "text/html": [
       "<div>\n",
       "<style>\n",
       "    .dataframe thead tr:only-child th {\n",
       "        text-align: right;\n",
       "    }\n",
       "\n",
       "    .dataframe thead th {\n",
       "        text-align: left;\n",
       "    }\n",
       "\n",
       "    .dataframe tbody tr th {\n",
       "        vertical-align: top;\n",
       "    }\n",
       "</style>\n",
       "<table border=\"1\" class=\"dataframe\">\n",
       "  <thead>\n",
       "    <tr style=\"text-align: right;\">\n",
       "      <th></th>\n",
       "      <th>Address</th>\n",
       "      <th>DateOfSale</th>\n",
       "      <th>SalePrice</th>\n",
       "      <th>IsAStudio</th>\n",
       "      <th>Beds</th>\n",
       "      <th>Baths</th>\n",
       "      <th>Size</th>\n",
       "      <th>LotSize</th>\n",
       "      <th>BuiltInYear</th>\n",
       "    </tr>\n",
       "    <tr>\n",
       "      <th>ID</th>\n",
       "      <th></th>\n",
       "      <th></th>\n",
       "      <th></th>\n",
       "      <th></th>\n",
       "      <th></th>\n",
       "      <th></th>\n",
       "      <th></th>\n",
       "      <th></th>\n",
       "      <th></th>\n",
       "    </tr>\n",
       "  </thead>\n",
       "  <tbody>\n",
       "    <tr>\n",
       "      <th>123597964</th>\n",
       "      <td>829 Folsom St UNIT 906, San Francisco, CA</td>\n",
       "      <td>12/7/15</td>\n",
       "      <td>0.675</td>\n",
       "      <td>0.0</td>\n",
       "      <td>NaN</td>\n",
       "      <td>NaN</td>\n",
       "      <td>557.0</td>\n",
       "      <td>NaN</td>\n",
       "      <td>2010.0</td>\n",
       "    </tr>\n",
       "    <tr>\n",
       "      <th>2121978635</th>\n",
       "      <td>829 Folsom St UNIT 906, San Francisco, CA</td>\n",
       "      <td>12/6/15</td>\n",
       "      <td>0.675</td>\n",
       "      <td>0.0</td>\n",
       "      <td>1.0</td>\n",
       "      <td>1.0</td>\n",
       "      <td>557.0</td>\n",
       "      <td>NaN</td>\n",
       "      <td>2010.0</td>\n",
       "    </tr>\n",
       "  </tbody>\n",
       "</table>\n",
       "</div>"
      ],
      "text/plain": [
       "                                              Address DateOfSale  SalePrice  \\\n",
       "ID                                                                            \n",
       "123597964   829 Folsom St UNIT 906, San Francisco, CA    12/7/15      0.675   \n",
       "2121978635  829 Folsom St UNIT 906, San Francisco, CA    12/6/15      0.675   \n",
       "\n",
       "            IsAStudio  Beds  Baths   Size  LotSize  BuiltInYear  \n",
       "ID                                                               \n",
       "123597964         0.0   NaN    NaN  557.0      NaN       2010.0  \n",
       "2121978635        0.0   1.0    1.0  557.0      NaN       2010.0  "
      ]
     },
     "execution_count": 72,
     "metadata": {},
     "output_type": "execute_result"
    }
   ],
   "source": [
    "df[df.Address == '829 Folsom St UNIT 906, San Francisco, CA']"
   ]
  },
  {
   "cell_type": "markdown",
   "metadata": {},
   "source": [
    "All duplicate entries..."
   ]
  },
  {
   "cell_type": "code",
   "execution_count": 73,
   "metadata": {},
   "outputs": [
    {
     "data": {
      "text/html": [
       "<div>\n",
       "<style>\n",
       "    .dataframe thead tr:only-child th {\n",
       "        text-align: right;\n",
       "    }\n",
       "\n",
       "    .dataframe thead th {\n",
       "        text-align: left;\n",
       "    }\n",
       "\n",
       "    .dataframe tbody tr th {\n",
       "        vertical-align: top;\n",
       "    }\n",
       "</style>\n",
       "<table border=\"1\" class=\"dataframe\">\n",
       "  <thead>\n",
       "    <tr style=\"text-align: right;\">\n",
       "      <th></th>\n",
       "      <th>Address</th>\n",
       "      <th>DateOfSale</th>\n",
       "      <th>SalePrice</th>\n",
       "      <th>IsAStudio</th>\n",
       "      <th>Beds</th>\n",
       "      <th>Baths</th>\n",
       "      <th>Size</th>\n",
       "      <th>LotSize</th>\n",
       "      <th>BuiltInYear</th>\n",
       "    </tr>\n",
       "    <tr>\n",
       "      <th>ID</th>\n",
       "      <th></th>\n",
       "      <th></th>\n",
       "      <th></th>\n",
       "      <th></th>\n",
       "      <th></th>\n",
       "      <th></th>\n",
       "      <th></th>\n",
       "      <th></th>\n",
       "      <th></th>\n",
       "    </tr>\n",
       "  </thead>\n",
       "  <tbody>\n",
       "    <tr>\n",
       "      <th>15072263</th>\n",
       "      <td>1795 Green St, San Francisco, CA</td>\n",
       "      <td>11/20/15</td>\n",
       "      <td>2.500</td>\n",
       "      <td>0.0</td>\n",
       "      <td>3.0</td>\n",
       "      <td>2.0</td>\n",
       "      <td>1647.0</td>\n",
       "      <td>NaN</td>\n",
       "      <td>1908.0</td>\n",
       "    </tr>\n",
       "    <tr>\n",
       "      <th>15073657</th>\n",
       "      <td>1895 Pacific Ave APT 506, San Francisco, CA</td>\n",
       "      <td>11/20/15</td>\n",
       "      <td>0.975</td>\n",
       "      <td>0.0</td>\n",
       "      <td>1.0</td>\n",
       "      <td>1.0</td>\n",
       "      <td>1165.0</td>\n",
       "      <td>NaN</td>\n",
       "      <td>1931.0</td>\n",
       "    </tr>\n",
       "    <tr>\n",
       "      <th>15084143</th>\n",
       "      <td>270 Ewing Ter, San Francisco, CA</td>\n",
       "      <td>11/20/15</td>\n",
       "      <td>1.570</td>\n",
       "      <td>0.0</td>\n",
       "      <td>2.0</td>\n",
       "      <td>1.0</td>\n",
       "      <td>1250.0</td>\n",
       "      <td>2178.0</td>\n",
       "      <td>1940.0</td>\n",
       "    </tr>\n",
       "    <tr>\n",
       "      <th>15093664</th>\n",
       "      <td>591 29th Ave, San Francisco, CA</td>\n",
       "      <td>11/20/15</td>\n",
       "      <td>1.750</td>\n",
       "      <td>0.0</td>\n",
       "      <td>3.0</td>\n",
       "      <td>2.5</td>\n",
       "      <td>1800.0</td>\n",
       "      <td>1875.0</td>\n",
       "      <td>1936.0</td>\n",
       "    </tr>\n",
       "    <tr>\n",
       "      <th>15100149</th>\n",
       "      <td>806 39th Ave, San Francisco, CA</td>\n",
       "      <td>11/20/15</td>\n",
       "      <td>1.050</td>\n",
       "      <td>0.0</td>\n",
       "      <td>NaN</td>\n",
       "      <td>1.0</td>\n",
       "      <td>1375.0</td>\n",
       "      <td>2374.0</td>\n",
       "      <td>1926.0</td>\n",
       "    </tr>\n",
       "    <tr>\n",
       "      <th>15104379</th>\n",
       "      <td>1466 44th Ave, San Francisco, CA</td>\n",
       "      <td>11/20/15</td>\n",
       "      <td>0.892</td>\n",
       "      <td>0.0</td>\n",
       "      <td>2.0</td>\n",
       "      <td>1.0</td>\n",
       "      <td>1130.0</td>\n",
       "      <td>3049.0</td>\n",
       "      <td>1926.0</td>\n",
       "    </tr>\n",
       "    <tr>\n",
       "      <th>15104496</th>\n",
       "      <td>1422 42nd Ave, San Francisco, CA</td>\n",
       "      <td>11/20/15</td>\n",
       "      <td>1.220</td>\n",
       "      <td>0.0</td>\n",
       "      <td>3.0</td>\n",
       "      <td>1.0</td>\n",
       "      <td>1325.0</td>\n",
       "      <td>2996.0</td>\n",
       "      <td>1951.0</td>\n",
       "    </tr>\n",
       "    <tr>\n",
       "      <th>15118458</th>\n",
       "      <td>2279 47th Ave, San Francisco, CA</td>\n",
       "      <td>11/20/15</td>\n",
       "      <td>1.030</td>\n",
       "      <td>0.0</td>\n",
       "      <td>4.0</td>\n",
       "      <td>3.0</td>\n",
       "      <td>2570.0</td>\n",
       "      <td>2996.0</td>\n",
       "      <td>1900.0</td>\n",
       "    </tr>\n",
       "    <tr>\n",
       "      <th>15124103</th>\n",
       "      <td>2514 40th Ave, San Francisco, CA</td>\n",
       "      <td>11/20/15</td>\n",
       "      <td>1.020</td>\n",
       "      <td>0.0</td>\n",
       "      <td>3.0</td>\n",
       "      <td>2.0</td>\n",
       "      <td>1490.0</td>\n",
       "      <td>3049.0</td>\n",
       "      <td>1945.0</td>\n",
       "    </tr>\n",
       "    <tr>\n",
       "      <th>15127090</th>\n",
       "      <td>262 Castro St, San Francisco, CA</td>\n",
       "      <td>11/20/15</td>\n",
       "      <td>1.700</td>\n",
       "      <td>0.0</td>\n",
       "      <td>2.0</td>\n",
       "      <td>2.0</td>\n",
       "      <td>848.0</td>\n",
       "      <td>3358.0</td>\n",
       "      <td>1906.0</td>\n",
       "    </tr>\n",
       "    <tr>\n",
       "      <th>15129224</th>\n",
       "      <td>152 Eureka St, San Francisco, CA</td>\n",
       "      <td>11/20/15</td>\n",
       "      <td>2.400</td>\n",
       "      <td>0.0</td>\n",
       "      <td>4.0</td>\n",
       "      <td>2.0</td>\n",
       "      <td>2280.0</td>\n",
       "      <td>3049.0</td>\n",
       "      <td>1932.0</td>\n",
       "    </tr>\n",
       "    <tr>\n",
       "      <th>15134099</th>\n",
       "      <td>521 Magellan Ave, San Francisco, CA</td>\n",
       "      <td>11/20/15</td>\n",
       "      <td>1.510</td>\n",
       "      <td>0.0</td>\n",
       "      <td>2.0</td>\n",
       "      <td>1.0</td>\n",
       "      <td>1216.0</td>\n",
       "      <td>3920.0</td>\n",
       "      <td>1920.0</td>\n",
       "    </tr>\n",
       "    <tr>\n",
       "      <th>15134204</th>\n",
       "      <td>80 Edgehill Way, San Francisco, CA</td>\n",
       "      <td>11/20/15</td>\n",
       "      <td>2.380</td>\n",
       "      <td>0.0</td>\n",
       "      <td>4.0</td>\n",
       "      <td>4.0</td>\n",
       "      <td>3495.0</td>\n",
       "      <td>5314.0</td>\n",
       "      <td>1960.0</td>\n",
       "    </tr>\n",
       "    <tr>\n",
       "      <th>15134464</th>\n",
       "      <td>634 Rockdale Dr, San Francisco, CA</td>\n",
       "      <td>11/20/15</td>\n",
       "      <td>1.010</td>\n",
       "      <td>0.0</td>\n",
       "      <td>NaN</td>\n",
       "      <td>1.0</td>\n",
       "      <td>1150.0</td>\n",
       "      <td>3310.0</td>\n",
       "      <td>1930.0</td>\n",
       "    </tr>\n",
       "    <tr>\n",
       "      <th>15134804</th>\n",
       "      <td>571 Myra Way, San Francisco, CA</td>\n",
       "      <td>11/20/15</td>\n",
       "      <td>1.120</td>\n",
       "      <td>0.0</td>\n",
       "      <td>3.0</td>\n",
       "      <td>1.5</td>\n",
       "      <td>1460.0</td>\n",
       "      <td>2169.0</td>\n",
       "      <td>1949.0</td>\n",
       "    </tr>\n",
       "    <tr>\n",
       "      <th>15135411</th>\n",
       "      <td>52 Marne Ave, San Francisco, CA</td>\n",
       "      <td>11/20/15</td>\n",
       "      <td>1.300</td>\n",
       "      <td>0.0</td>\n",
       "      <td>4.0</td>\n",
       "      <td>2.5</td>\n",
       "      <td>1648.0</td>\n",
       "      <td>3484.0</td>\n",
       "      <td>1926.0</td>\n",
       "    </tr>\n",
       "    <tr>\n",
       "      <th>15140244</th>\n",
       "      <td>1874 San Jose Ave, San Francisco, CA</td>\n",
       "      <td>11/20/15</td>\n",
       "      <td>0.975</td>\n",
       "      <td>0.0</td>\n",
       "      <td>3.0</td>\n",
       "      <td>2.0</td>\n",
       "      <td>1771.0</td>\n",
       "      <td>2178.0</td>\n",
       "      <td>1937.0</td>\n",
       "    </tr>\n",
       "    <tr>\n",
       "      <th>15142782</th>\n",
       "      <td>30 Belcher St, San Francisco, CA</td>\n",
       "      <td>11/20/15</td>\n",
       "      <td>2.900</td>\n",
       "      <td>0.0</td>\n",
       "      <td>3.0</td>\n",
       "      <td>2.0</td>\n",
       "      <td>1410.0</td>\n",
       "      <td>NaN</td>\n",
       "      <td>1900.0</td>\n",
       "    </tr>\n",
       "    <tr>\n",
       "      <th>15148755</th>\n",
       "      <td>39 Boardman Pl APT 101, San Francisco, CA</td>\n",
       "      <td>11/20/15</td>\n",
       "      <td>0.905</td>\n",
       "      <td>0.0</td>\n",
       "      <td>1.0</td>\n",
       "      <td>1.5</td>\n",
       "      <td>1255.0</td>\n",
       "      <td>NaN</td>\n",
       "      <td>1996.0</td>\n",
       "    </tr>\n",
       "    <tr>\n",
       "      <th>15156520</th>\n",
       "      <td>1497 Palou Ave, San Francisco, CA</td>\n",
       "      <td>11/20/15</td>\n",
       "      <td>0.905</td>\n",
       "      <td>0.0</td>\n",
       "      <td>4.0</td>\n",
       "      <td>3.0</td>\n",
       "      <td>1750.0</td>\n",
       "      <td>2500.0</td>\n",
       "      <td>1977.0</td>\n",
       "    </tr>\n",
       "    <tr>\n",
       "      <th>15167131</th>\n",
       "      <td>155 Somerset St, San Francisco, CA</td>\n",
       "      <td>11/20/15</td>\n",
       "      <td>0.975</td>\n",
       "      <td>0.0</td>\n",
       "      <td>2.0</td>\n",
       "      <td>1.0</td>\n",
       "      <td>1550.0</td>\n",
       "      <td>3000.0</td>\n",
       "      <td>1937.0</td>\n",
       "    </tr>\n",
       "    <tr>\n",
       "      <th>15170571</th>\n",
       "      <td>182 Prague St, San Francisco, CA</td>\n",
       "      <td>11/20/15</td>\n",
       "      <td>0.855</td>\n",
       "      <td>0.0</td>\n",
       "      <td>2.0</td>\n",
       "      <td>1.0</td>\n",
       "      <td>1125.0</td>\n",
       "      <td>1742.0</td>\n",
       "      <td>1930.0</td>\n",
       "    </tr>\n",
       "    <tr>\n",
       "      <th>15179745</th>\n",
       "      <td>305 Guttenberg St, San Francisco, CA</td>\n",
       "      <td>11/20/15</td>\n",
       "      <td>0.828</td>\n",
       "      <td>0.0</td>\n",
       "      <td>4.0</td>\n",
       "      <td>2.5</td>\n",
       "      <td>1655.0</td>\n",
       "      <td>1960.0</td>\n",
       "      <td>1964.0</td>\n",
       "    </tr>\n",
       "    <tr>\n",
       "      <th>15185004</th>\n",
       "      <td>277 Bemis St, San Francisco, CA</td>\n",
       "      <td>11/20/15</td>\n",
       "      <td>1.150</td>\n",
       "      <td>0.0</td>\n",
       "      <td>2.0</td>\n",
       "      <td>1.0</td>\n",
       "      <td>950.0</td>\n",
       "      <td>2495.0</td>\n",
       "      <td>1956.0</td>\n",
       "    </tr>\n",
       "    <tr>\n",
       "      <th>15194725</th>\n",
       "      <td>38 Sadowa St, San Francisco, CA</td>\n",
       "      <td>11/20/15</td>\n",
       "      <td>0.720</td>\n",
       "      <td>0.0</td>\n",
       "      <td>3.0</td>\n",
       "      <td>2.5</td>\n",
       "      <td>1360.0</td>\n",
       "      <td>2250.0</td>\n",
       "      <td>1910.0</td>\n",
       "    </tr>\n",
       "    <tr>\n",
       "      <th>15195675</th>\n",
       "      <td>115 Sickles Ave, San Francisco, CA</td>\n",
       "      <td>11/20/15</td>\n",
       "      <td>0.765</td>\n",
       "      <td>0.0</td>\n",
       "      <td>3.0</td>\n",
       "      <td>1.0</td>\n",
       "      <td>1750.0</td>\n",
       "      <td>1999.0</td>\n",
       "      <td>1913.0</td>\n",
       "    </tr>\n",
       "    <tr>\n",
       "      <th>15199562</th>\n",
       "      <td>404 Gold Mine Dr, San Francisco, CA</td>\n",
       "      <td>11/20/15</td>\n",
       "      <td>1.550</td>\n",
       "      <td>0.0</td>\n",
       "      <td>4.0</td>\n",
       "      <td>3.0</td>\n",
       "      <td>2271.0</td>\n",
       "      <td>2713.0</td>\n",
       "      <td>1967.0</td>\n",
       "    </tr>\n",
       "    <tr>\n",
       "      <th>59779633</th>\n",
       "      <td>1488 Harrison St APT 103, San Francisco, CA</td>\n",
       "      <td>11/20/15</td>\n",
       "      <td>0.900</td>\n",
       "      <td>0.0</td>\n",
       "      <td>1.0</td>\n",
       "      <td>2.0</td>\n",
       "      <td>1102.0</td>\n",
       "      <td>NaN</td>\n",
       "      <td>2001.0</td>\n",
       "    </tr>\n",
       "    <tr>\n",
       "      <th>63107226</th>\n",
       "      <td>3981 Alemany Blvd APT 206, San Francisco, CA</td>\n",
       "      <td>11/20/15</td>\n",
       "      <td>0.515</td>\n",
       "      <td>0.0</td>\n",
       "      <td>1.0</td>\n",
       "      <td>1.0</td>\n",
       "      <td>670.0</td>\n",
       "      <td>NaN</td>\n",
       "      <td>2002.0</td>\n",
       "    </tr>\n",
       "    <tr>\n",
       "      <th>64972342</th>\n",
       "      <td>499 33rd Ave APT 310, San Francisco, CA</td>\n",
       "      <td>11/20/15</td>\n",
       "      <td>1.080</td>\n",
       "      <td>0.0</td>\n",
       "      <td>3.0</td>\n",
       "      <td>NaN</td>\n",
       "      <td>1751.0</td>\n",
       "      <td>NaN</td>\n",
       "      <td>2004.0</td>\n",
       "    </tr>\n",
       "    <tr>\n",
       "      <th>64972712</th>\n",
       "      <td>355 1st St UNIT S1905, San Francisco, CA</td>\n",
       "      <td>11/20/15</td>\n",
       "      <td>0.860</td>\n",
       "      <td>0.0</td>\n",
       "      <td>1.0</td>\n",
       "      <td>1.0</td>\n",
       "      <td>691.0</td>\n",
       "      <td>NaN</td>\n",
       "      <td>2004.0</td>\n",
       "    </tr>\n",
       "    <tr>\n",
       "      <th>64972890</th>\n",
       "      <td>101 Crescent Way APT 2102, San Francisco, CA</td>\n",
       "      <td>11/20/15</td>\n",
       "      <td>0.488</td>\n",
       "      <td>0.0</td>\n",
       "      <td>2.0</td>\n",
       "      <td>2.0</td>\n",
       "      <td>1063.0</td>\n",
       "      <td>NaN</td>\n",
       "      <td>2001.0</td>\n",
       "    </tr>\n",
       "    <tr>\n",
       "      <th>67394898</th>\n",
       "      <td>8300 Oceanview Ter APT 306, San Francisco, CA</td>\n",
       "      <td>11/20/15</td>\n",
       "      <td>0.510</td>\n",
       "      <td>0.0</td>\n",
       "      <td>1.0</td>\n",
       "      <td>1.0</td>\n",
       "      <td>745.0</td>\n",
       "      <td>NaN</td>\n",
       "      <td>2002.0</td>\n",
       "    </tr>\n",
       "    <tr>\n",
       "      <th>69819845</th>\n",
       "      <td>260 King St UNIT 769, San Francisco, CA</td>\n",
       "      <td>11/20/15</td>\n",
       "      <td>0.815</td>\n",
       "      <td>0.0</td>\n",
       "      <td>1.0</td>\n",
       "      <td>1.0</td>\n",
       "      <td>748.0</td>\n",
       "      <td>NaN</td>\n",
       "      <td>2004.0</td>\n",
       "    </tr>\n",
       "    <tr>\n",
       "      <th>79841585</th>\n",
       "      <td>38 Belcher St APT 2, San Francisco, CA</td>\n",
       "      <td>11/20/15</td>\n",
       "      <td>1.100</td>\n",
       "      <td>0.0</td>\n",
       "      <td>2.0</td>\n",
       "      <td>1.0</td>\n",
       "      <td>862.0</td>\n",
       "      <td>NaN</td>\n",
       "      <td>NaN</td>\n",
       "    </tr>\n",
       "    <tr>\n",
       "      <th>80731986</th>\n",
       "      <td>59 Rodgers St # B, San Francisco, CA</td>\n",
       "      <td>11/20/15</td>\n",
       "      <td>0.800</td>\n",
       "      <td>0.0</td>\n",
       "      <td>1.0</td>\n",
       "      <td>1.0</td>\n",
       "      <td>800.0</td>\n",
       "      <td>NaN</td>\n",
       "      <td>2000.0</td>\n",
       "    </tr>\n",
       "    <tr>\n",
       "      <th>80741376</th>\n",
       "      <td>1310 Minnesota St # 29, San Francisco, CA</td>\n",
       "      <td>11/20/15</td>\n",
       "      <td>1.120</td>\n",
       "      <td>0.0</td>\n",
       "      <td>1.0</td>\n",
       "      <td>2.0</td>\n",
       "      <td>1000.0</td>\n",
       "      <td>NaN</td>\n",
       "      <td>2002.0</td>\n",
       "    </tr>\n",
       "    <tr>\n",
       "      <th>82785479</th>\n",
       "      <td>750 Van Ness Ave # V704, San Francisco, CA</td>\n",
       "      <td>11/20/15</td>\n",
       "      <td>0.495</td>\n",
       "      <td>1.0</td>\n",
       "      <td>NaN</td>\n",
       "      <td>1.0</td>\n",
       "      <td>395.0</td>\n",
       "      <td>NaN</td>\n",
       "      <td>2008.0</td>\n",
       "    </tr>\n",
       "    <tr>\n",
       "      <th>82785630</th>\n",
       "      <td>753 Baker St, San Francisco, CA</td>\n",
       "      <td>11/20/15</td>\n",
       "      <td>1.200</td>\n",
       "      <td>0.0</td>\n",
       "      <td>2.0</td>\n",
       "      <td>1.0</td>\n",
       "      <td>1444.0</td>\n",
       "      <td>NaN</td>\n",
       "      <td>1900.0</td>\n",
       "    </tr>\n",
       "    <tr>\n",
       "      <th>83154302</th>\n",
       "      <td>888 7th St UNIT 308, San Francisco, CA</td>\n",
       "      <td>11/20/15</td>\n",
       "      <td>0.325</td>\n",
       "      <td>0.0</td>\n",
       "      <td>1.0</td>\n",
       "      <td>1.0</td>\n",
       "      <td>537.0</td>\n",
       "      <td>NaN</td>\n",
       "      <td>2008.0</td>\n",
       "    </tr>\n",
       "    <tr>\n",
       "      <th>89238065</th>\n",
       "      <td>338 Spear St UNIT 5J, San Francisco, CA</td>\n",
       "      <td>11/20/15</td>\n",
       "      <td>1.050</td>\n",
       "      <td>0.0</td>\n",
       "      <td>1.0</td>\n",
       "      <td>1.0</td>\n",
       "      <td>1021.0</td>\n",
       "      <td>NaN</td>\n",
       "      <td>2009.0</td>\n",
       "    </tr>\n",
       "    <tr>\n",
       "      <th>89238087</th>\n",
       "      <td>425 1st St UNIT 4801, San Francisco, CA</td>\n",
       "      <td>11/20/15</td>\n",
       "      <td>0.481</td>\n",
       "      <td>0.0</td>\n",
       "      <td>1.0</td>\n",
       "      <td>1.0</td>\n",
       "      <td>837.0</td>\n",
       "      <td>NaN</td>\n",
       "      <td>2008.0</td>\n",
       "    </tr>\n",
       "    <tr>\n",
       "      <th>89240297</th>\n",
       "      <td>733 Front St UNIT 509, San Francisco, CA</td>\n",
       "      <td>11/20/15</td>\n",
       "      <td>1.200</td>\n",
       "      <td>0.0</td>\n",
       "      <td>1.0</td>\n",
       "      <td>1.0</td>\n",
       "      <td>890.0</td>\n",
       "      <td>NaN</td>\n",
       "      <td>2007.0</td>\n",
       "    </tr>\n",
       "    <tr>\n",
       "      <th>114317753</th>\n",
       "      <td>301 Mission St APT 30F, San Francisco, CA</td>\n",
       "      <td>11/20/15</td>\n",
       "      <td>2.400</td>\n",
       "      <td>0.0</td>\n",
       "      <td>2.0</td>\n",
       "      <td>2.0</td>\n",
       "      <td>1601.0</td>\n",
       "      <td>NaN</td>\n",
       "      <td>2009.0</td>\n",
       "    </tr>\n",
       "    <tr>\n",
       "      <th>119684869</th>\n",
       "      <td>5900 3rd St UNIT 2219, San Francisco, CA</td>\n",
       "      <td>11/20/15</td>\n",
       "      <td>0.680</td>\n",
       "      <td>0.0</td>\n",
       "      <td>2.0</td>\n",
       "      <td>2.0</td>\n",
       "      <td>1011.0</td>\n",
       "      <td>NaN</td>\n",
       "      <td>2010.0</td>\n",
       "    </tr>\n",
       "    <tr>\n",
       "      <th>2122992200</th>\n",
       "      <td>129 Octavia St, San Francisco, CA</td>\n",
       "      <td>11/20/15</td>\n",
       "      <td>2.750</td>\n",
       "      <td>1.0</td>\n",
       "      <td>NaN</td>\n",
       "      <td>NaN</td>\n",
       "      <td>3655.0</td>\n",
       "      <td>NaN</td>\n",
       "      <td>1883.0</td>\n",
       "    </tr>\n",
       "    <tr>\n",
       "      <th>2126960082</th>\n",
       "      <td>355 1st St UNIT 1905, San Francisco, CA</td>\n",
       "      <td>11/20/15</td>\n",
       "      <td>0.860</td>\n",
       "      <td>0.0</td>\n",
       "      <td>1.0</td>\n",
       "      <td>1.0</td>\n",
       "      <td>691.0</td>\n",
       "      <td>NaN</td>\n",
       "      <td>2004.0</td>\n",
       "    </tr>\n",
       "  </tbody>\n",
       "</table>\n",
       "</div>"
      ],
      "text/plain": [
       "                                                  Address DateOfSale  \\\n",
       "ID                                                                     \n",
       "15072263                 1795 Green St, San Francisco, CA   11/20/15   \n",
       "15073657      1895 Pacific Ave APT 506, San Francisco, CA   11/20/15   \n",
       "15084143                 270 Ewing Ter, San Francisco, CA   11/20/15   \n",
       "15093664                  591 29th Ave, San Francisco, CA   11/20/15   \n",
       "15100149                  806 39th Ave, San Francisco, CA   11/20/15   \n",
       "15104379                 1466 44th Ave, San Francisco, CA   11/20/15   \n",
       "15104496                 1422 42nd Ave, San Francisco, CA   11/20/15   \n",
       "15118458                 2279 47th Ave, San Francisco, CA   11/20/15   \n",
       "15124103                 2514 40th Ave, San Francisco, CA   11/20/15   \n",
       "15127090                 262 Castro St, San Francisco, CA   11/20/15   \n",
       "15129224                 152 Eureka St, San Francisco, CA   11/20/15   \n",
       "15134099              521 Magellan Ave, San Francisco, CA   11/20/15   \n",
       "15134204               80 Edgehill Way, San Francisco, CA   11/20/15   \n",
       "15134464               634 Rockdale Dr, San Francisco, CA   11/20/15   \n",
       "15134804                  571 Myra Way, San Francisco, CA   11/20/15   \n",
       "15135411                  52 Marne Ave, San Francisco, CA   11/20/15   \n",
       "15140244             1874 San Jose Ave, San Francisco, CA   11/20/15   \n",
       "15142782                 30 Belcher St, San Francisco, CA   11/20/15   \n",
       "15148755        39 Boardman Pl APT 101, San Francisco, CA   11/20/15   \n",
       "15156520                1497 Palou Ave, San Francisco, CA   11/20/15   \n",
       "15167131               155 Somerset St, San Francisco, CA   11/20/15   \n",
       "15170571                 182 Prague St, San Francisco, CA   11/20/15   \n",
       "15179745             305 Guttenberg St, San Francisco, CA   11/20/15   \n",
       "15185004                  277 Bemis St, San Francisco, CA   11/20/15   \n",
       "15194725                  38 Sadowa St, San Francisco, CA   11/20/15   \n",
       "15195675               115 Sickles Ave, San Francisco, CA   11/20/15   \n",
       "15199562              404 Gold Mine Dr, San Francisco, CA   11/20/15   \n",
       "59779633      1488 Harrison St APT 103, San Francisco, CA   11/20/15   \n",
       "63107226     3981 Alemany Blvd APT 206, San Francisco, CA   11/20/15   \n",
       "64972342          499 33rd Ave APT 310, San Francisco, CA   11/20/15   \n",
       "64972712         355 1st St UNIT S1905, San Francisco, CA   11/20/15   \n",
       "64972890     101 Crescent Way APT 2102, San Francisco, CA   11/20/15   \n",
       "67394898    8300 Oceanview Ter APT 306, San Francisco, CA   11/20/15   \n",
       "69819845          260 King St UNIT 769, San Francisco, CA   11/20/15   \n",
       "79841585           38 Belcher St APT 2, San Francisco, CA   11/20/15   \n",
       "80731986             59 Rodgers St # B, San Francisco, CA   11/20/15   \n",
       "80741376        1310 Minnesota St # 29, San Francisco, CA   11/20/15   \n",
       "82785479       750 Van Ness Ave # V704, San Francisco, CA   11/20/15   \n",
       "82785630                  753 Baker St, San Francisco, CA   11/20/15   \n",
       "83154302           888 7th St UNIT 308, San Francisco, CA   11/20/15   \n",
       "89238065          338 Spear St UNIT 5J, San Francisco, CA   11/20/15   \n",
       "89238087          425 1st St UNIT 4801, San Francisco, CA   11/20/15   \n",
       "89240297         733 Front St UNIT 509, San Francisco, CA   11/20/15   \n",
       "114317753       301 Mission St APT 30F, San Francisco, CA   11/20/15   \n",
       "119684869        5900 3rd St UNIT 2219, San Francisco, CA   11/20/15   \n",
       "2122992200              129 Octavia St, San Francisco, CA   11/20/15   \n",
       "2126960082        355 1st St UNIT 1905, San Francisco, CA   11/20/15   \n",
       "\n",
       "            SalePrice  IsAStudio  Beds  Baths    Size  LotSize  BuiltInYear  \n",
       "ID                                                                           \n",
       "15072263        2.500        0.0   3.0    2.0  1647.0      NaN       1908.0  \n",
       "15073657        0.975        0.0   1.0    1.0  1165.0      NaN       1931.0  \n",
       "15084143        1.570        0.0   2.0    1.0  1250.0   2178.0       1940.0  \n",
       "15093664        1.750        0.0   3.0    2.5  1800.0   1875.0       1936.0  \n",
       "15100149        1.050        0.0   NaN    1.0  1375.0   2374.0       1926.0  \n",
       "15104379        0.892        0.0   2.0    1.0  1130.0   3049.0       1926.0  \n",
       "15104496        1.220        0.0   3.0    1.0  1325.0   2996.0       1951.0  \n",
       "15118458        1.030        0.0   4.0    3.0  2570.0   2996.0       1900.0  \n",
       "15124103        1.020        0.0   3.0    2.0  1490.0   3049.0       1945.0  \n",
       "15127090        1.700        0.0   2.0    2.0   848.0   3358.0       1906.0  \n",
       "15129224        2.400        0.0   4.0    2.0  2280.0   3049.0       1932.0  \n",
       "15134099        1.510        0.0   2.0    1.0  1216.0   3920.0       1920.0  \n",
       "15134204        2.380        0.0   4.0    4.0  3495.0   5314.0       1960.0  \n",
       "15134464        1.010        0.0   NaN    1.0  1150.0   3310.0       1930.0  \n",
       "15134804        1.120        0.0   3.0    1.5  1460.0   2169.0       1949.0  \n",
       "15135411        1.300        0.0   4.0    2.5  1648.0   3484.0       1926.0  \n",
       "15140244        0.975        0.0   3.0    2.0  1771.0   2178.0       1937.0  \n",
       "15142782        2.900        0.0   3.0    2.0  1410.0      NaN       1900.0  \n",
       "15148755        0.905        0.0   1.0    1.5  1255.0      NaN       1996.0  \n",
       "15156520        0.905        0.0   4.0    3.0  1750.0   2500.0       1977.0  \n",
       "15167131        0.975        0.0   2.0    1.0  1550.0   3000.0       1937.0  \n",
       "15170571        0.855        0.0   2.0    1.0  1125.0   1742.0       1930.0  \n",
       "15179745        0.828        0.0   4.0    2.5  1655.0   1960.0       1964.0  \n",
       "15185004        1.150        0.0   2.0    1.0   950.0   2495.0       1956.0  \n",
       "15194725        0.720        0.0   3.0    2.5  1360.0   2250.0       1910.0  \n",
       "15195675        0.765        0.0   3.0    1.0  1750.0   1999.0       1913.0  \n",
       "15199562        1.550        0.0   4.0    3.0  2271.0   2713.0       1967.0  \n",
       "59779633        0.900        0.0   1.0    2.0  1102.0      NaN       2001.0  \n",
       "63107226        0.515        0.0   1.0    1.0   670.0      NaN       2002.0  \n",
       "64972342        1.080        0.0   3.0    NaN  1751.0      NaN       2004.0  \n",
       "64972712        0.860        0.0   1.0    1.0   691.0      NaN       2004.0  \n",
       "64972890        0.488        0.0   2.0    2.0  1063.0      NaN       2001.0  \n",
       "67394898        0.510        0.0   1.0    1.0   745.0      NaN       2002.0  \n",
       "69819845        0.815        0.0   1.0    1.0   748.0      NaN       2004.0  \n",
       "79841585        1.100        0.0   2.0    1.0   862.0      NaN          NaN  \n",
       "80731986        0.800        0.0   1.0    1.0   800.0      NaN       2000.0  \n",
       "80741376        1.120        0.0   1.0    2.0  1000.0      NaN       2002.0  \n",
       "82785479        0.495        1.0   NaN    1.0   395.0      NaN       2008.0  \n",
       "82785630        1.200        0.0   2.0    1.0  1444.0      NaN       1900.0  \n",
       "83154302        0.325        0.0   1.0    1.0   537.0      NaN       2008.0  \n",
       "89238065        1.050        0.0   1.0    1.0  1021.0      NaN       2009.0  \n",
       "89238087        0.481        0.0   1.0    1.0   837.0      NaN       2008.0  \n",
       "89240297        1.200        0.0   1.0    1.0   890.0      NaN       2007.0  \n",
       "114317753       2.400        0.0   2.0    2.0  1601.0      NaN       2009.0  \n",
       "119684869       0.680        0.0   2.0    2.0  1011.0      NaN       2010.0  \n",
       "2122992200      2.750        1.0   NaN    NaN  3655.0      NaN       1883.0  \n",
       "2126960082      0.860        0.0   1.0    1.0   691.0      NaN       2004.0  "
      ]
     },
     "execution_count": 73,
     "metadata": {},
     "output_type": "execute_result"
    }
   ],
   "source": [
    "df[df.DateOfSale == '11/20/15']"
   ]
  },
  {
   "cell_type": "code",
   "execution_count": 74,
   "metadata": {},
   "outputs": [
    {
     "data": {
      "text/plain": [
       "47"
      ]
     },
     "execution_count": 74,
     "metadata": {},
     "output_type": "execute_result"
    }
   ],
   "source": [
    "df[df.DateOfSale == '11/20/15'].shape[0]"
   ]
  },
  {
   "cell_type": "code",
   "execution_count": 75,
   "metadata": {},
   "outputs": [
    {
     "data": {
      "text/plain": [
       "47"
      ]
     },
     "execution_count": 75,
     "metadata": {},
     "output_type": "execute_result"
    }
   ],
   "source": [
    "(df.DateOfSale == '11/20/15').sum()"
   ]
  },
  {
   "cell_type": "markdown",
   "metadata": {},
   "source": [
    "## Part G"
   ]
  },
  {
   "cell_type": "markdown",
   "metadata": {
    "collapsed": true
   },
   "source": [
    "- `.corr()`\n",
    "  - (http://pandas.pydata.org/pandas-docs/stable/generated/pandas.DataFrame.corr.html)\n",
    "  - (http://pandas.pydata.org/pandas-docs/stable/generated/pandas.Series.corr.html)\n",
    "- Heatmaps\n",
    "  - (http://matplotlib.org/api/pyplot_api.html#matplotlib.pyplot.matshow)\n",
    "- Scatter plots\n",
    "  - (http://pandas.pydata.org/pandas-docs/stable/visualization.html#scatter-plot)\n",
    "  - (http://pandas.pydata.org/pandas-docs/stable/generated/pandas.DataFrame.plot.html) with `kind = 'scatter'`\n",
    "  - (http://pandas.pydata.org/pandas-docs/stable/generated/pandas.Series.plot.html) with `kind = 'scatter'`\n",
    "  - (http://pandas.pydata.org/pandas-docs/stable/generated/pandas.DataFrame.plot.scatter.html)\n",
    "- Scatter matrices\n",
    "  - (http://pandas.pydata.org/pandas-docs/stable/visualization.html#scatter-matrix-plot)"
   ]
  },
  {
   "cell_type": "code",
   "execution_count": 76,
   "metadata": {},
   "outputs": [
    {
     "data": {
      "text/html": [
       "<div>\n",
       "<style>\n",
       "    .dataframe thead tr:only-child th {\n",
       "        text-align: right;\n",
       "    }\n",
       "\n",
       "    .dataframe thead th {\n",
       "        text-align: left;\n",
       "    }\n",
       "\n",
       "    .dataframe tbody tr th {\n",
       "        vertical-align: top;\n",
       "    }\n",
       "</style>\n",
       "<table border=\"1\" class=\"dataframe\">\n",
       "  <thead>\n",
       "    <tr style=\"text-align: right;\">\n",
       "      <th></th>\n",
       "      <th>SalePrice</th>\n",
       "      <th>IsAStudio</th>\n",
       "      <th>Beds</th>\n",
       "      <th>Baths</th>\n",
       "      <th>Size</th>\n",
       "      <th>LotSize</th>\n",
       "      <th>BuiltInYear</th>\n",
       "    </tr>\n",
       "  </thead>\n",
       "  <tbody>\n",
       "    <tr>\n",
       "      <th>SalePrice</th>\n",
       "      <td>1.000000</td>\n",
       "      <td>0.008889</td>\n",
       "      <td>0.379453</td>\n",
       "      <td>0.369938</td>\n",
       "      <td>0.485379</td>\n",
       "      <td>0.392418</td>\n",
       "      <td>-0.148598</td>\n",
       "    </tr>\n",
       "    <tr>\n",
       "      <th>IsAStudio</th>\n",
       "      <td>0.008889</td>\n",
       "      <td>1.000000</td>\n",
       "      <td>NaN</td>\n",
       "      <td>-0.078195</td>\n",
       "      <td>0.052166</td>\n",
       "      <td>-0.012622</td>\n",
       "      <td>-0.050258</td>\n",
       "    </tr>\n",
       "    <tr>\n",
       "      <th>Beds</th>\n",
       "      <td>0.379453</td>\n",
       "      <td>NaN</td>\n",
       "      <td>1.000000</td>\n",
       "      <td>0.715194</td>\n",
       "      <td>0.722656</td>\n",
       "      <td>0.070542</td>\n",
       "      <td>-0.344700</td>\n",
       "    </tr>\n",
       "    <tr>\n",
       "      <th>Baths</th>\n",
       "      <td>0.369938</td>\n",
       "      <td>-0.078195</td>\n",
       "      <td>0.715194</td>\n",
       "      <td>1.000000</td>\n",
       "      <td>0.692501</td>\n",
       "      <td>0.108556</td>\n",
       "      <td>-0.078157</td>\n",
       "    </tr>\n",
       "    <tr>\n",
       "      <th>Size</th>\n",
       "      <td>0.485379</td>\n",
       "      <td>0.052166</td>\n",
       "      <td>0.722656</td>\n",
       "      <td>0.692501</td>\n",
       "      <td>1.000000</td>\n",
       "      <td>0.201979</td>\n",
       "      <td>-0.313989</td>\n",
       "    </tr>\n",
       "    <tr>\n",
       "      <th>LotSize</th>\n",
       "      <td>0.392418</td>\n",
       "      <td>-0.012622</td>\n",
       "      <td>0.070542</td>\n",
       "      <td>0.108556</td>\n",
       "      <td>0.201979</td>\n",
       "      <td>1.000000</td>\n",
       "      <td>0.046411</td>\n",
       "    </tr>\n",
       "    <tr>\n",
       "      <th>BuiltInYear</th>\n",
       "      <td>-0.148598</td>\n",
       "      <td>-0.050258</td>\n",
       "      <td>-0.344700</td>\n",
       "      <td>-0.078157</td>\n",
       "      <td>-0.313989</td>\n",
       "      <td>0.046411</td>\n",
       "      <td>1.000000</td>\n",
       "    </tr>\n",
       "  </tbody>\n",
       "</table>\n",
       "</div>"
      ],
      "text/plain": [
       "             SalePrice  IsAStudio      Beds     Baths      Size   LotSize  \\\n",
       "SalePrice     1.000000   0.008889  0.379453  0.369938  0.485379  0.392418   \n",
       "IsAStudio     0.008889   1.000000       NaN -0.078195  0.052166 -0.012622   \n",
       "Beds          0.379453        NaN  1.000000  0.715194  0.722656  0.070542   \n",
       "Baths         0.369938  -0.078195  0.715194  1.000000  0.692501  0.108556   \n",
       "Size          0.485379   0.052166  0.722656  0.692501  1.000000  0.201979   \n",
       "LotSize       0.392418  -0.012622  0.070542  0.108556  0.201979  1.000000   \n",
       "BuiltInYear  -0.148598  -0.050258 -0.344700 -0.078157 -0.313989  0.046411   \n",
       "\n",
       "             BuiltInYear  \n",
       "SalePrice      -0.148598  \n",
       "IsAStudio      -0.050258  \n",
       "Beds           -0.344700  \n",
       "Baths          -0.078157  \n",
       "Size           -0.313989  \n",
       "LotSize         0.046411  \n",
       "BuiltInYear     1.000000  "
      ]
     },
     "execution_count": 76,
     "metadata": {},
     "output_type": "execute_result"
    }
   ],
   "source": [
    "df.corr()"
   ]
  },
  {
   "cell_type": "code",
   "execution_count": 77,
   "metadata": {},
   "outputs": [
    {
     "data": {
      "text/plain": [
       "0.7151938843208987"
      ]
     },
     "execution_count": 77,
     "metadata": {},
     "output_type": "execute_result"
    }
   ],
   "source": [
    "df.Beds.corr(df.Baths)"
   ]
  },
  {
   "cell_type": "markdown",
   "metadata": {},
   "source": [
    "### Heatmaps"
   ]
  },
  {
   "cell_type": "code",
   "execution_count": 78,
   "metadata": {},
   "outputs": [
    {
     "data": {
      "text/html": [
       "<div>\n",
       "<style>\n",
       "    .dataframe thead tr:only-child th {\n",
       "        text-align: right;\n",
       "    }\n",
       "\n",
       "    .dataframe thead th {\n",
       "        text-align: left;\n",
       "    }\n",
       "\n",
       "    .dataframe tbody tr th {\n",
       "        vertical-align: top;\n",
       "    }\n",
       "</style>\n",
       "<table border=\"1\" class=\"dataframe\">\n",
       "  <thead>\n",
       "    <tr style=\"text-align: right;\">\n",
       "      <th></th>\n",
       "      <th>SalePrice</th>\n",
       "      <th>IsAStudio</th>\n",
       "      <th>Beds</th>\n",
       "      <th>Baths</th>\n",
       "      <th>Size</th>\n",
       "      <th>LotSize</th>\n",
       "      <th>BuiltInYear</th>\n",
       "    </tr>\n",
       "  </thead>\n",
       "  <tbody>\n",
       "    <tr>\n",
       "      <th>SalePrice</th>\n",
       "      <td>1.000000</td>\n",
       "      <td>0.008889</td>\n",
       "      <td>0.379453</td>\n",
       "      <td>0.369938</td>\n",
       "      <td>0.485379</td>\n",
       "      <td>0.392418</td>\n",
       "      <td>-0.148598</td>\n",
       "    </tr>\n",
       "    <tr>\n",
       "      <th>IsAStudio</th>\n",
       "      <td>0.008889</td>\n",
       "      <td>1.000000</td>\n",
       "      <td>NaN</td>\n",
       "      <td>-0.078195</td>\n",
       "      <td>0.052166</td>\n",
       "      <td>-0.012622</td>\n",
       "      <td>-0.050258</td>\n",
       "    </tr>\n",
       "    <tr>\n",
       "      <th>Beds</th>\n",
       "      <td>0.379453</td>\n",
       "      <td>NaN</td>\n",
       "      <td>1.000000</td>\n",
       "      <td>0.715194</td>\n",
       "      <td>0.722656</td>\n",
       "      <td>0.070542</td>\n",
       "      <td>-0.344700</td>\n",
       "    </tr>\n",
       "    <tr>\n",
       "      <th>Baths</th>\n",
       "      <td>0.369938</td>\n",
       "      <td>-0.078195</td>\n",
       "      <td>0.715194</td>\n",
       "      <td>1.000000</td>\n",
       "      <td>0.692501</td>\n",
       "      <td>0.108556</td>\n",
       "      <td>-0.078157</td>\n",
       "    </tr>\n",
       "    <tr>\n",
       "      <th>Size</th>\n",
       "      <td>0.485379</td>\n",
       "      <td>0.052166</td>\n",
       "      <td>0.722656</td>\n",
       "      <td>0.692501</td>\n",
       "      <td>1.000000</td>\n",
       "      <td>0.201979</td>\n",
       "      <td>-0.313989</td>\n",
       "    </tr>\n",
       "    <tr>\n",
       "      <th>LotSize</th>\n",
       "      <td>0.392418</td>\n",
       "      <td>-0.012622</td>\n",
       "      <td>0.070542</td>\n",
       "      <td>0.108556</td>\n",
       "      <td>0.201979</td>\n",
       "      <td>1.000000</td>\n",
       "      <td>0.046411</td>\n",
       "    </tr>\n",
       "    <tr>\n",
       "      <th>BuiltInYear</th>\n",
       "      <td>-0.148598</td>\n",
       "      <td>-0.050258</td>\n",
       "      <td>-0.344700</td>\n",
       "      <td>-0.078157</td>\n",
       "      <td>-0.313989</td>\n",
       "      <td>0.046411</td>\n",
       "      <td>1.000000</td>\n",
       "    </tr>\n",
       "  </tbody>\n",
       "</table>\n",
       "</div>"
      ],
      "text/plain": [
       "             SalePrice  IsAStudio      Beds     Baths      Size   LotSize  \\\n",
       "SalePrice     1.000000   0.008889  0.379453  0.369938  0.485379  0.392418   \n",
       "IsAStudio     0.008889   1.000000       NaN -0.078195  0.052166 -0.012622   \n",
       "Beds          0.379453        NaN  1.000000  0.715194  0.722656  0.070542   \n",
       "Baths         0.369938  -0.078195  0.715194  1.000000  0.692501  0.108556   \n",
       "Size          0.485379   0.052166  0.722656  0.692501  1.000000  0.201979   \n",
       "LotSize       0.392418  -0.012622  0.070542  0.108556  0.201979  1.000000   \n",
       "BuiltInYear  -0.148598  -0.050258 -0.344700 -0.078157 -0.313989  0.046411   \n",
       "\n",
       "             BuiltInYear  \n",
       "SalePrice      -0.148598  \n",
       "IsAStudio      -0.050258  \n",
       "Beds           -0.344700  \n",
       "Baths          -0.078157  \n",
       "Size           -0.313989  \n",
       "LotSize         0.046411  \n",
       "BuiltInYear     1.000000  "
      ]
     },
     "execution_count": 78,
     "metadata": {},
     "output_type": "execute_result"
    }
   ],
   "source": [
    "corr = df.corr()\n",
    "\n",
    "corr"
   ]
  },
  {
   "cell_type": "code",
   "execution_count": 79,
   "metadata": {},
   "outputs": [
    {
     "data": {
      "text/plain": [
       "<matplotlib.image.AxesImage at 0x1147211d0>"
      ]
     },
     "execution_count": 79,
     "metadata": {},
     "output_type": "execute_result"
    },
    {
     "data": {
      "image/png": "[encoded data removed]",
      "text/plain": [
       "<matplotlib.figure.Figure at 0x11464a590>"
      ]
     },
     "metadata": {},
     "output_type": "display_data"
    }
   ],
   "source": [
    "plt.matshow(corr)"
   ]
  },
  {
   "cell_type": "markdown",
   "metadata": {},
   "source": [
    "Let's pretty this up."
   ]
  },
  {
   "cell_type": "code",
   "execution_count": 80,
   "metadata": {},
   "outputs": [
    {
     "data": {
      "text/plain": [
       "['SalePrice', 'IsAStudio', 'Beds', 'Baths', 'Size', 'LotSize', 'BuiltInYear']"
      ]
     },
     "execution_count": 80,
     "metadata": {},
     "output_type": "execute_result"
    }
   ],
   "source": [
    "list(corr.columns)"
   ]
  },
  {
   "cell_type": "code",
   "execution_count": 81,
   "metadata": {},
   "outputs": [
    {
     "data": {
      "text/plain": [
       "[Text(0,0,u'None'),\n",
       " Text(0,0,u'SalePrice'),\n",
       " Text(0,0,u'IsAStudio'),\n",
       " Text(0,0,u'Beds'),\n",
       " Text(0,0,u'Baths'),\n",
       " Text(0,0,u'Size'),\n",
       " Text(0,0,u'LotSize'),\n",
       " Text(0,0,u'BuiltInYear')]"
      ]
     },
     "execution_count": 81,
     "metadata": {},
     "output_type": "execute_result"
    },
    {
     "data": {
      "image/png": "[encoded data removed]",
      "text/plain": [
       "<matplotlib.figure.Figure at 0x114614b50>"
      ]
     },
     "metadata": {},
     "output_type": "display_data"
    }
   ],
   "source": [
    "figure = plt.figure()\n",
    "subplot = figure.add_subplot(1, 1, 1)\n",
    "figure.colorbar(subplot.matshow(corr))\n",
    "subplot.set_xticklabels([None] + list(corr.columns), rotation = 90)\n",
    "subplot.set_yticklabels([None] + list(corr.columns))"
   ]
  },
  {
   "cell_type": "markdown",
   "metadata": {},
   "source": [
    "### Scatter plots"
   ]
  },
  {
   "cell_type": "code",
   "execution_count": 82,
   "metadata": {},
   "outputs": [
    {
     "data": {
      "text/plain": [
       "<matplotlib.axes._subplots.AxesSubplot at 0x11494f4d0>"
      ]
     },
     "execution_count": 82,
     "metadata": {},
     "output_type": "execute_result"
    },
    {
     "data": {
      "image/png": "[encoded data removed]",
      "text/plain": [
       "<matplotlib.figure.Figure at 0x1140ad150>"
      ]
     },
     "metadata": {},
     "output_type": "display_data"
    }
   ],
   "source": [
    "df.plot(kind = 'scatter', x = 'Beds', y = 'Baths', s = 100, figsize = (8, 8))"
   ]
  },
  {
   "cell_type": "code",
   "execution_count": 83,
   "metadata": {},
   "outputs": [
    {
     "data": {
      "text/plain": [
       "<matplotlib.axes._subplots.AxesSubplot at 0x114750890>"
      ]
     },
     "execution_count": 83,
     "metadata": {},
     "output_type": "execute_result"
    },
    {
     "data": {
      "image/png": "[encoded data removed]",
      "text/plain": [
       "<matplotlib.figure.Figure at 0x11477e550>"
      ]
     },
     "metadata": {},
     "output_type": "display_data"
    }
   ],
   "source": [
    "df.plot.scatter(x = 'Beds', y = 'Baths', s = 100, figsize = (8, 8))"
   ]
  },
  {
   "cell_type": "markdown",
   "metadata": {},
   "source": [
    "### Scatter matrices"
   ]
  },
  {
   "cell_type": "code",
   "execution_count": 94,
   "metadata": {},
   "outputs": [
    {
     "name": "stderr",
     "output_type": "stream",
     "text": [
      "/Users/fabienheitz/anaconda2/lib/python2.7/site-packages/ipykernel_launcher.py:1: FutureWarning: 'pandas.tools.plotting.scatter_matrix' is deprecated, import 'pandas.plotting.scatter_matrix' instead.\n",
      "  \"\"\"Entry point for launching an IPython kernel.\n"
     ]
    },
    {
     "data": {
      "text/plain": [
       "array([[<matplotlib.axes._subplots.AxesSubplot object at 0x1a18e5be50>,\n",
       "        <matplotlib.axes._subplots.AxesSubplot object at 0x1a1900b8d0>],\n",
       "       [<matplotlib.axes._subplots.AxesSubplot object at 0x1a19057410>,\n",
       "        <matplotlib.axes._subplots.AxesSubplot object at 0x1a1907ed90>]], dtype=object)"
      ]
     },
     "execution_count": 94,
     "metadata": {},
     "output_type": "execute_result"
    },
    {
     "data": {
      "image/png": "[encoded data removed]",
      "text/plain": [
       "<matplotlib.figure.Figure at 0x1a18e79090>"
      ]
     },
     "metadata": {},
     "output_type": "display_data"
    }
   ],
   "source": [
    "pd.tools.plotting.scatter_matrix(df[ ['Beds', 'Baths'] ], diagonal = 'kde', s = 500, figsize = (8, 8))"
   ]
  },
  {
   "cell_type": "code",
   "execution_count": 85,
   "metadata": {},
   "outputs": [
    {
     "name": "stderr",
     "output_type": "stream",
     "text": [
      "/Users/fabienheitz/anaconda2/lib/python2.7/site-packages/ipykernel_launcher.py:1: FutureWarning: 'pandas.tools.plotting.scatter_matrix' is deprecated, import 'pandas.plotting.scatter_matrix' instead.\n",
      "  \"\"\"Entry point for launching an IPython kernel.\n"
     ]
    },
    {
     "data": {
      "text/plain": [
       "array([[<matplotlib.axes._subplots.AxesSubplot object at 0x1a18b8a6d0>,\n",
       "        <matplotlib.axes._subplots.AxesSubplot object at 0x1a18d01310>],\n",
       "       [<matplotlib.axes._subplots.AxesSubplot object at 0x1a18d3df10>,\n",
       "        <matplotlib.axes._subplots.AxesSubplot object at 0x1a18d6c5d0>]], dtype=object)"
      ]
     },
     "execution_count": 85,
     "metadata": {},
     "output_type": "execute_result"
    },
    {
     "data": {
      "image/png": "[encoded data removed]",
      "text/plain": [
       "<matplotlib.figure.Figure at 0x1a18b9c690>"
      ]
     },
     "metadata": {},
     "output_type": "display_data"
    }
   ],
   "source": [
    "pd.tools.plotting.scatter_matrix(df[ ['SalePrice', 'Size'] ], s = 200, figsize = (8, 8))"
   ]
  },
  {
   "cell_type": "markdown",
   "metadata": {},
   "source": [
    "## Part H"
   ]
  },
  {
   "cell_type": "markdown",
   "metadata": {},
   "source": [
    "- `.value_counts()`\n",
    "  - (http://pandas.pydata.org/pandas-docs/stable/generated/pandas.Series.value_counts.html)\n",
    "- `.crosstab()`\n",
    "  - (http://pandas.pydata.org/pandas-docs/stable/generated/pandas.crosstab.html)"
   ]
  },
  {
   "cell_type": "markdown",
   "metadata": {},
   "source": [
    "> #### Activity: Reproduce the `Beds` histogram above.  For each possible number of beds, how many properties share that bed count?"
   ]
  },
  {
   "cell_type": "code",
   "execution_count": 95,
   "metadata": {},
   "outputs": [],
   "source": [
    "unique_beds = df.Beds.dropna().unique()"
   ]
  },
  {
   "cell_type": "code",
   "execution_count": 96,
   "metadata": {},
   "outputs": [
    {
     "data": {
      "text/plain": [
       "array([ 1.,  2.,  3.,  5.,  4.,  7.,  6.,  8.,  9.])"
      ]
     },
     "execution_count": 96,
     "metadata": {},
     "output_type": "execute_result"
    }
   ],
   "source": [
    "unique_beds"
   ]
  },
  {
   "cell_type": "code",
   "execution_count": 88,
   "metadata": {},
   "outputs": [
    {
     "name": "stdout",
     "output_type": "stream",
     "text": [
      "142 homes have 1 bedrooms\n",
      "316 homes have 2 bedrooms\n",
      "226 homes have 3 bedrooms\n",
      "103 homes have 4 bedrooms\n",
      " 28 homes have 5 bedrooms\n",
      "  9 homes have 6 bedrooms\n",
      "  6 homes have 7 bedrooms\n",
      "  3 homes have 8 bedrooms\n",
      "  3 homes have 9 bedrooms\n"
     ]
    }
   ],
   "source": [
    "for beds in np.sort(unique_beds):\n",
    "    properties = (df.Beds == beds).sum()\n",
    "    print '{:3d} homes have {:1.0f} bedrooms'.format(properties, beds)"
   ]
  },
  {
   "cell_type": "markdown",
   "metadata": {},
   "source": [
    "Alternatively:"
   ]
  },
  {
   "cell_type": "code",
   "execution_count": 89,
   "metadata": {},
   "outputs": [
    {
     "data": {
      "text/plain": [
       " 2.0    316\n",
       " 3.0    226\n",
       "NaN     164\n",
       " 1.0    142\n",
       " 4.0    103\n",
       " 5.0     28\n",
       " 6.0      9\n",
       " 7.0      6\n",
       " 9.0      3\n",
       " 8.0      3\n",
       "Name: Beds, dtype: int64"
      ]
     },
     "execution_count": 89,
     "metadata": {},
     "output_type": "execute_result"
    }
   ],
   "source": [
    "df.Beds.value_counts(dropna = False)"
   ]
  },
  {
   "cell_type": "markdown",
   "metadata": {},
   "source": [
    "> Careful on checking for `NaN` values!"
   ]
  },
  {
   "cell_type": "code",
   "execution_count": 90,
   "metadata": {},
   "outputs": [
    {
     "data": {
      "text/plain": [
       "164"
      ]
     },
     "execution_count": 90,
     "metadata": {},
     "output_type": "execute_result"
    }
   ],
   "source": [
    "df.Beds.isnull().sum()"
   ]
  },
  {
   "cell_type": "code",
   "execution_count": 91,
   "metadata": {},
   "outputs": [
    {
     "data": {
      "text/plain": [
       "0"
      ]
     },
     "execution_count": 91,
     "metadata": {},
     "output_type": "execute_result"
    }
   ],
   "source": [
    "(df.Beds == np.nan).sum()"
   ]
  },
  {
   "cell_type": "markdown",
   "metadata": {},
   "source": [
    "> #### Activity: Create a frequency table for `Baths` over `Beds`"
   ]
  },
  {
   "cell_type": "code",
   "execution_count": 92,
   "metadata": {},
   "outputs": [
    {
     "data": {
      "text/html": [
       "<div>\n",
       "<style>\n",
       "    .dataframe thead tr:only-child th {\n",
       "        text-align: right;\n",
       "    }\n",
       "\n",
       "    .dataframe thead th {\n",
       "        text-align: left;\n",
       "    }\n",
       "\n",
       "    .dataframe tbody tr th {\n",
       "        vertical-align: top;\n",
       "    }\n",
       "</style>\n",
       "<table border=\"1\" class=\"dataframe\">\n",
       "  <thead>\n",
       "    <tr style=\"text-align: right;\">\n",
       "      <th>Beds</th>\n",
       "      <th>1.0</th>\n",
       "      <th>2.0</th>\n",
       "      <th>3.0</th>\n",
       "      <th>4.0</th>\n",
       "      <th>5.0</th>\n",
       "      <th>6.0</th>\n",
       "      <th>7.0</th>\n",
       "      <th>8.0</th>\n",
       "      <th>9.0</th>\n",
       "    </tr>\n",
       "    <tr>\n",
       "      <th>Baths</th>\n",
       "      <th></th>\n",
       "      <th></th>\n",
       "      <th></th>\n",
       "      <th></th>\n",
       "      <th></th>\n",
       "      <th></th>\n",
       "      <th></th>\n",
       "      <th></th>\n",
       "      <th></th>\n",
       "    </tr>\n",
       "  </thead>\n",
       "  <tbody>\n",
       "    <tr>\n",
       "      <th>1.00</th>\n",
       "      <td>116</td>\n",
       "      <td>133</td>\n",
       "      <td>39</td>\n",
       "      <td>1</td>\n",
       "      <td>0</td>\n",
       "      <td>0</td>\n",
       "      <td>0</td>\n",
       "      <td>0</td>\n",
       "      <td>0</td>\n",
       "    </tr>\n",
       "    <tr>\n",
       "      <th>1.10</th>\n",
       "      <td>1</td>\n",
       "      <td>0</td>\n",
       "      <td>0</td>\n",
       "      <td>0</td>\n",
       "      <td>0</td>\n",
       "      <td>0</td>\n",
       "      <td>0</td>\n",
       "      <td>0</td>\n",
       "      <td>0</td>\n",
       "    </tr>\n",
       "    <tr>\n",
       "      <th>1.25</th>\n",
       "      <td>0</td>\n",
       "      <td>0</td>\n",
       "      <td>1</td>\n",
       "      <td>0</td>\n",
       "      <td>0</td>\n",
       "      <td>0</td>\n",
       "      <td>0</td>\n",
       "      <td>0</td>\n",
       "      <td>0</td>\n",
       "    </tr>\n",
       "    <tr>\n",
       "      <th>1.50</th>\n",
       "      <td>7</td>\n",
       "      <td>19</td>\n",
       "      <td>9</td>\n",
       "      <td>1</td>\n",
       "      <td>1</td>\n",
       "      <td>0</td>\n",
       "      <td>0</td>\n",
       "      <td>0</td>\n",
       "      <td>0</td>\n",
       "    </tr>\n",
       "    <tr>\n",
       "      <th>1.75</th>\n",
       "      <td>0</td>\n",
       "      <td>0</td>\n",
       "      <td>1</td>\n",
       "      <td>0</td>\n",
       "      <td>0</td>\n",
       "      <td>0</td>\n",
       "      <td>0</td>\n",
       "      <td>0</td>\n",
       "      <td>0</td>\n",
       "    </tr>\n",
       "    <tr>\n",
       "      <th>2.00</th>\n",
       "      <td>17</td>\n",
       "      <td>140</td>\n",
       "      <td>103</td>\n",
       "      <td>21</td>\n",
       "      <td>3</td>\n",
       "      <td>1</td>\n",
       "      <td>0</td>\n",
       "      <td>1</td>\n",
       "      <td>0</td>\n",
       "    </tr>\n",
       "    <tr>\n",
       "      <th>2.25</th>\n",
       "      <td>0</td>\n",
       "      <td>0</td>\n",
       "      <td>1</td>\n",
       "      <td>0</td>\n",
       "      <td>0</td>\n",
       "      <td>0</td>\n",
       "      <td>0</td>\n",
       "      <td>0</td>\n",
       "      <td>0</td>\n",
       "    </tr>\n",
       "    <tr>\n",
       "      <th>2.50</th>\n",
       "      <td>0</td>\n",
       "      <td>11</td>\n",
       "      <td>22</td>\n",
       "      <td>9</td>\n",
       "      <td>1</td>\n",
       "      <td>0</td>\n",
       "      <td>0</td>\n",
       "      <td>0</td>\n",
       "      <td>0</td>\n",
       "    </tr>\n",
       "    <tr>\n",
       "      <th>3.00</th>\n",
       "      <td>0</td>\n",
       "      <td>8</td>\n",
       "      <td>36</td>\n",
       "      <td>38</td>\n",
       "      <td>8</td>\n",
       "      <td>2</td>\n",
       "      <td>1</td>\n",
       "      <td>0</td>\n",
       "      <td>1</td>\n",
       "    </tr>\n",
       "    <tr>\n",
       "      <th>3.50</th>\n",
       "      <td>0</td>\n",
       "      <td>1</td>\n",
       "      <td>6</td>\n",
       "      <td>8</td>\n",
       "      <td>2</td>\n",
       "      <td>1</td>\n",
       "      <td>0</td>\n",
       "      <td>0</td>\n",
       "      <td>0</td>\n",
       "    </tr>\n",
       "    <tr>\n",
       "      <th>4.00</th>\n",
       "      <td>0</td>\n",
       "      <td>1</td>\n",
       "      <td>3</td>\n",
       "      <td>14</td>\n",
       "      <td>6</td>\n",
       "      <td>1</td>\n",
       "      <td>0</td>\n",
       "      <td>0</td>\n",
       "      <td>0</td>\n",
       "    </tr>\n",
       "    <tr>\n",
       "      <th>4.50</th>\n",
       "      <td>0</td>\n",
       "      <td>1</td>\n",
       "      <td>0</td>\n",
       "      <td>5</td>\n",
       "      <td>0</td>\n",
       "      <td>0</td>\n",
       "      <td>0</td>\n",
       "      <td>0</td>\n",
       "      <td>0</td>\n",
       "    </tr>\n",
       "    <tr>\n",
       "      <th>5.00</th>\n",
       "      <td>0</td>\n",
       "      <td>0</td>\n",
       "      <td>0</td>\n",
       "      <td>2</td>\n",
       "      <td>4</td>\n",
       "      <td>1</td>\n",
       "      <td>1</td>\n",
       "      <td>1</td>\n",
       "      <td>0</td>\n",
       "    </tr>\n",
       "    <tr>\n",
       "      <th>5.50</th>\n",
       "      <td>0</td>\n",
       "      <td>0</td>\n",
       "      <td>0</td>\n",
       "      <td>1</td>\n",
       "      <td>0</td>\n",
       "      <td>1</td>\n",
       "      <td>0</td>\n",
       "      <td>0</td>\n",
       "      <td>0</td>\n",
       "    </tr>\n",
       "    <tr>\n",
       "      <th>6.00</th>\n",
       "      <td>0</td>\n",
       "      <td>0</td>\n",
       "      <td>0</td>\n",
       "      <td>0</td>\n",
       "      <td>3</td>\n",
       "      <td>1</td>\n",
       "      <td>1</td>\n",
       "      <td>1</td>\n",
       "      <td>2</td>\n",
       "    </tr>\n",
       "    <tr>\n",
       "      <th>6.50</th>\n",
       "      <td>0</td>\n",
       "      <td>0</td>\n",
       "      <td>0</td>\n",
       "      <td>0</td>\n",
       "      <td>0</td>\n",
       "      <td>0</td>\n",
       "      <td>1</td>\n",
       "      <td>0</td>\n",
       "      <td>0</td>\n",
       "    </tr>\n",
       "    <tr>\n",
       "      <th>7.50</th>\n",
       "      <td>0</td>\n",
       "      <td>0</td>\n",
       "      <td>0</td>\n",
       "      <td>0</td>\n",
       "      <td>0</td>\n",
       "      <td>1</td>\n",
       "      <td>0</td>\n",
       "      <td>0</td>\n",
       "      <td>0</td>\n",
       "    </tr>\n",
       "    <tr>\n",
       "      <th>8.00</th>\n",
       "      <td>0</td>\n",
       "      <td>0</td>\n",
       "      <td>0</td>\n",
       "      <td>0</td>\n",
       "      <td>0</td>\n",
       "      <td>0</td>\n",
       "      <td>1</td>\n",
       "      <td>0</td>\n",
       "      <td>0</td>\n",
       "    </tr>\n",
       "    <tr>\n",
       "      <th>14.00</th>\n",
       "      <td>0</td>\n",
       "      <td>0</td>\n",
       "      <td>0</td>\n",
       "      <td>0</td>\n",
       "      <td>0</td>\n",
       "      <td>0</td>\n",
       "      <td>1</td>\n",
       "      <td>0</td>\n",
       "      <td>0</td>\n",
       "    </tr>\n",
       "  </tbody>\n",
       "</table>\n",
       "</div>"
      ],
      "text/plain": [
       "Beds   1.0  2.0  3.0  4.0  5.0  6.0  7.0  8.0  9.0\n",
       "Baths                                             \n",
       "1.00   116  133   39    1    0    0    0    0    0\n",
       "1.10     1    0    0    0    0    0    0    0    0\n",
       "1.25     0    0    1    0    0    0    0    0    0\n",
       "1.50     7   19    9    1    1    0    0    0    0\n",
       "1.75     0    0    1    0    0    0    0    0    0\n",
       "2.00    17  140  103   21    3    1    0    1    0\n",
       "2.25     0    0    1    0    0    0    0    0    0\n",
       "2.50     0   11   22    9    1    0    0    0    0\n",
       "3.00     0    8   36   38    8    2    1    0    1\n",
       "3.50     0    1    6    8    2    1    0    0    0\n",
       "4.00     0    1    3   14    6    1    0    0    0\n",
       "4.50     0    1    0    5    0    0    0    0    0\n",
       "5.00     0    0    0    2    4    1    1    1    0\n",
       "5.50     0    0    0    1    0    1    0    0    0\n",
       "6.00     0    0    0    0    3    1    1    1    2\n",
       "6.50     0    0    0    0    0    0    1    0    0\n",
       "7.50     0    0    0    0    0    1    0    0    0\n",
       "8.00     0    0    0    0    0    0    1    0    0\n",
       "14.00    0    0    0    0    0    0    1    0    0"
      ]
     },
     "execution_count": 92,
     "metadata": {},
     "output_type": "execute_result"
    }
   ],
   "source": [
    "pd.crosstab(df.Baths, df.Beds, dropna = False)"
   ]
  },
  {
   "cell_type": "markdown",
   "metadata": {},
   "source": [
    "> #### Activity: Create a frequency table for `Beds` and `Baths` (together) over the centry the houses were built"
   ]
  },
  {
   "cell_type": "code",
   "execution_count": 93,
   "metadata": {},
   "outputs": [
    {
     "data": {
      "text/html": [
       "<div>\n",
       "<style>\n",
       "    .dataframe thead tr:only-child th {\n",
       "        text-align: right;\n",
       "    }\n",
       "\n",
       "    .dataframe thead th {\n",
       "        text-align: left;\n",
       "    }\n",
       "\n",
       "    .dataframe tbody tr th {\n",
       "        vertical-align: top;\n",
       "    }\n",
       "</style>\n",
       "<table border=\"1\" class=\"dataframe\">\n",
       "  <thead>\n",
       "    <tr style=\"text-align: right;\">\n",
       "      <th></th>\n",
       "      <th>BuiltInYear</th>\n",
       "      <th>1800.0</th>\n",
       "      <th>1900.0</th>\n",
       "      <th>2000.0</th>\n",
       "    </tr>\n",
       "    <tr>\n",
       "      <th>Beds</th>\n",
       "      <th>Baths</th>\n",
       "      <th></th>\n",
       "      <th></th>\n",
       "      <th></th>\n",
       "    </tr>\n",
       "  </thead>\n",
       "  <tbody>\n",
       "    <tr>\n",
       "      <th rowspan=\"20\" valign=\"top\">1.0</th>\n",
       "      <th>1.00</th>\n",
       "      <td>3</td>\n",
       "      <td>67</td>\n",
       "      <td>43</td>\n",
       "    </tr>\n",
       "    <tr>\n",
       "      <th>1.10</th>\n",
       "      <td>0</td>\n",
       "      <td>0</td>\n",
       "      <td>1</td>\n",
       "    </tr>\n",
       "    <tr>\n",
       "      <th>1.25</th>\n",
       "      <td>0</td>\n",
       "      <td>0</td>\n",
       "      <td>0</td>\n",
       "    </tr>\n",
       "    <tr>\n",
       "      <th>1.50</th>\n",
       "      <td>0</td>\n",
       "      <td>3</td>\n",
       "      <td>4</td>\n",
       "    </tr>\n",
       "    <tr>\n",
       "      <th>1.75</th>\n",
       "      <td>0</td>\n",
       "      <td>0</td>\n",
       "      <td>0</td>\n",
       "    </tr>\n",
       "    <tr>\n",
       "      <th>2.00</th>\n",
       "      <td>1</td>\n",
       "      <td>4</td>\n",
       "      <td>12</td>\n",
       "    </tr>\n",
       "    <tr>\n",
       "      <th>2.25</th>\n",
       "      <td>0</td>\n",
       "      <td>0</td>\n",
       "      <td>0</td>\n",
       "    </tr>\n",
       "    <tr>\n",
       "      <th>2.50</th>\n",
       "      <td>0</td>\n",
       "      <td>0</td>\n",
       "      <td>0</td>\n",
       "    </tr>\n",
       "    <tr>\n",
       "      <th>3.00</th>\n",
       "      <td>0</td>\n",
       "      <td>0</td>\n",
       "      <td>0</td>\n",
       "    </tr>\n",
       "    <tr>\n",
       "      <th>3.50</th>\n",
       "      <td>0</td>\n",
       "      <td>0</td>\n",
       "      <td>0</td>\n",
       "    </tr>\n",
       "    <tr>\n",
       "      <th>4.00</th>\n",
       "      <td>0</td>\n",
       "      <td>0</td>\n",
       "      <td>0</td>\n",
       "    </tr>\n",
       "    <tr>\n",
       "      <th>4.50</th>\n",
       "      <td>0</td>\n",
       "      <td>0</td>\n",
       "      <td>0</td>\n",
       "    </tr>\n",
       "    <tr>\n",
       "      <th>5.00</th>\n",
       "      <td>0</td>\n",
       "      <td>0</td>\n",
       "      <td>0</td>\n",
       "    </tr>\n",
       "    <tr>\n",
       "      <th>5.50</th>\n",
       "      <td>0</td>\n",
       "      <td>0</td>\n",
       "      <td>0</td>\n",
       "    </tr>\n",
       "    <tr>\n",
       "      <th>6.00</th>\n",
       "      <td>0</td>\n",
       "      <td>0</td>\n",
       "      <td>0</td>\n",
       "    </tr>\n",
       "    <tr>\n",
       "      <th>6.50</th>\n",
       "      <td>0</td>\n",
       "      <td>0</td>\n",
       "      <td>0</td>\n",
       "    </tr>\n",
       "    <tr>\n",
       "      <th>7.00</th>\n",
       "      <td>0</td>\n",
       "      <td>0</td>\n",
       "      <td>0</td>\n",
       "    </tr>\n",
       "    <tr>\n",
       "      <th>7.50</th>\n",
       "      <td>0</td>\n",
       "      <td>0</td>\n",
       "      <td>0</td>\n",
       "    </tr>\n",
       "    <tr>\n",
       "      <th>8.00</th>\n",
       "      <td>0</td>\n",
       "      <td>0</td>\n",
       "      <td>0</td>\n",
       "    </tr>\n",
       "    <tr>\n",
       "      <th>14.00</th>\n",
       "      <td>0</td>\n",
       "      <td>0</td>\n",
       "      <td>0</td>\n",
       "    </tr>\n",
       "    <tr>\n",
       "      <th rowspan=\"10\" valign=\"top\">2.0</th>\n",
       "      <th>1.00</th>\n",
       "      <td>2</td>\n",
       "      <td>123</td>\n",
       "      <td>2</td>\n",
       "    </tr>\n",
       "    <tr>\n",
       "      <th>1.10</th>\n",
       "      <td>0</td>\n",
       "      <td>0</td>\n",
       "      <td>0</td>\n",
       "    </tr>\n",
       "    <tr>\n",
       "      <th>1.25</th>\n",
       "      <td>0</td>\n",
       "      <td>0</td>\n",
       "      <td>0</td>\n",
       "    </tr>\n",
       "    <tr>\n",
       "      <th>1.50</th>\n",
       "      <td>1</td>\n",
       "      <td>16</td>\n",
       "      <td>2</td>\n",
       "    </tr>\n",
       "    <tr>\n",
       "      <th>1.75</th>\n",
       "      <td>0</td>\n",
       "      <td>0</td>\n",
       "      <td>0</td>\n",
       "    </tr>\n",
       "    <tr>\n",
       "      <th>2.00</th>\n",
       "      <td>1</td>\n",
       "      <td>66</td>\n",
       "      <td>69</td>\n",
       "    </tr>\n",
       "    <tr>\n",
       "      <th>2.25</th>\n",
       "      <td>0</td>\n",
       "      <td>0</td>\n",
       "      <td>0</td>\n",
       "    </tr>\n",
       "    <tr>\n",
       "      <th>2.50</th>\n",
       "      <td>0</td>\n",
       "      <td>4</td>\n",
       "      <td>7</td>\n",
       "    </tr>\n",
       "    <tr>\n",
       "      <th>3.00</th>\n",
       "      <td>0</td>\n",
       "      <td>6</td>\n",
       "      <td>2</td>\n",
       "    </tr>\n",
       "    <tr>\n",
       "      <th>3.50</th>\n",
       "      <td>0</td>\n",
       "      <td>1</td>\n",
       "      <td>0</td>\n",
       "    </tr>\n",
       "    <tr>\n",
       "      <th>...</th>\n",
       "      <th>...</th>\n",
       "      <td>...</td>\n",
       "      <td>...</td>\n",
       "      <td>...</td>\n",
       "    </tr>\n",
       "    <tr>\n",
       "      <th rowspan=\"10\" valign=\"top\">8.0</th>\n",
       "      <th>4.00</th>\n",
       "      <td>0</td>\n",
       "      <td>0</td>\n",
       "      <td>0</td>\n",
       "    </tr>\n",
       "    <tr>\n",
       "      <th>4.50</th>\n",
       "      <td>0</td>\n",
       "      <td>0</td>\n",
       "      <td>0</td>\n",
       "    </tr>\n",
       "    <tr>\n",
       "      <th>5.00</th>\n",
       "      <td>0</td>\n",
       "      <td>1</td>\n",
       "      <td>0</td>\n",
       "    </tr>\n",
       "    <tr>\n",
       "      <th>5.50</th>\n",
       "      <td>0</td>\n",
       "      <td>0</td>\n",
       "      <td>0</td>\n",
       "    </tr>\n",
       "    <tr>\n",
       "      <th>6.00</th>\n",
       "      <td>0</td>\n",
       "      <td>1</td>\n",
       "      <td>0</td>\n",
       "    </tr>\n",
       "    <tr>\n",
       "      <th>6.50</th>\n",
       "      <td>0</td>\n",
       "      <td>0</td>\n",
       "      <td>0</td>\n",
       "    </tr>\n",
       "    <tr>\n",
       "      <th>7.00</th>\n",
       "      <td>0</td>\n",
       "      <td>0</td>\n",
       "      <td>0</td>\n",
       "    </tr>\n",
       "    <tr>\n",
       "      <th>7.50</th>\n",
       "      <td>0</td>\n",
       "      <td>0</td>\n",
       "      <td>0</td>\n",
       "    </tr>\n",
       "    <tr>\n",
       "      <th>8.00</th>\n",
       "      <td>0</td>\n",
       "      <td>0</td>\n",
       "      <td>0</td>\n",
       "    </tr>\n",
       "    <tr>\n",
       "      <th>14.00</th>\n",
       "      <td>0</td>\n",
       "      <td>0</td>\n",
       "      <td>0</td>\n",
       "    </tr>\n",
       "    <tr>\n",
       "      <th rowspan=\"20\" valign=\"top\">9.0</th>\n",
       "      <th>1.00</th>\n",
       "      <td>0</td>\n",
       "      <td>0</td>\n",
       "      <td>0</td>\n",
       "    </tr>\n",
       "    <tr>\n",
       "      <th>1.10</th>\n",
       "      <td>0</td>\n",
       "      <td>0</td>\n",
       "      <td>0</td>\n",
       "    </tr>\n",
       "    <tr>\n",
       "      <th>1.25</th>\n",
       "      <td>0</td>\n",
       "      <td>0</td>\n",
       "      <td>0</td>\n",
       "    </tr>\n",
       "    <tr>\n",
       "      <th>1.50</th>\n",
       "      <td>0</td>\n",
       "      <td>0</td>\n",
       "      <td>0</td>\n",
       "    </tr>\n",
       "    <tr>\n",
       "      <th>1.75</th>\n",
       "      <td>0</td>\n",
       "      <td>0</td>\n",
       "      <td>0</td>\n",
       "    </tr>\n",
       "    <tr>\n",
       "      <th>2.00</th>\n",
       "      <td>0</td>\n",
       "      <td>0</td>\n",
       "      <td>0</td>\n",
       "    </tr>\n",
       "    <tr>\n",
       "      <th>2.25</th>\n",
       "      <td>0</td>\n",
       "      <td>0</td>\n",
       "      <td>0</td>\n",
       "    </tr>\n",
       "    <tr>\n",
       "      <th>2.50</th>\n",
       "      <td>0</td>\n",
       "      <td>0</td>\n",
       "      <td>0</td>\n",
       "    </tr>\n",
       "    <tr>\n",
       "      <th>3.00</th>\n",
       "      <td>0</td>\n",
       "      <td>1</td>\n",
       "      <td>0</td>\n",
       "    </tr>\n",
       "    <tr>\n",
       "      <th>3.50</th>\n",
       "      <td>0</td>\n",
       "      <td>0</td>\n",
       "      <td>0</td>\n",
       "    </tr>\n",
       "    <tr>\n",
       "      <th>4.00</th>\n",
       "      <td>0</td>\n",
       "      <td>0</td>\n",
       "      <td>0</td>\n",
       "    </tr>\n",
       "    <tr>\n",
       "      <th>4.50</th>\n",
       "      <td>0</td>\n",
       "      <td>0</td>\n",
       "      <td>0</td>\n",
       "    </tr>\n",
       "    <tr>\n",
       "      <th>5.00</th>\n",
       "      <td>0</td>\n",
       "      <td>0</td>\n",
       "      <td>0</td>\n",
       "    </tr>\n",
       "    <tr>\n",
       "      <th>5.50</th>\n",
       "      <td>0</td>\n",
       "      <td>0</td>\n",
       "      <td>0</td>\n",
       "    </tr>\n",
       "    <tr>\n",
       "      <th>6.00</th>\n",
       "      <td>0</td>\n",
       "      <td>2</td>\n",
       "      <td>0</td>\n",
       "    </tr>\n",
       "    <tr>\n",
       "      <th>6.50</th>\n",
       "      <td>0</td>\n",
       "      <td>0</td>\n",
       "      <td>0</td>\n",
       "    </tr>\n",
       "    <tr>\n",
       "      <th>7.00</th>\n",
       "      <td>0</td>\n",
       "      <td>0</td>\n",
       "      <td>0</td>\n",
       "    </tr>\n",
       "    <tr>\n",
       "      <th>7.50</th>\n",
       "      <td>0</td>\n",
       "      <td>0</td>\n",
       "      <td>0</td>\n",
       "    </tr>\n",
       "    <tr>\n",
       "      <th>8.00</th>\n",
       "      <td>0</td>\n",
       "      <td>0</td>\n",
       "      <td>0</td>\n",
       "    </tr>\n",
       "    <tr>\n",
       "      <th>14.00</th>\n",
       "      <td>0</td>\n",
       "      <td>0</td>\n",
       "      <td>0</td>\n",
       "    </tr>\n",
       "  </tbody>\n",
       "</table>\n",
       "<p>180 rows × 3 columns</p>\n",
       "</div>"
      ],
      "text/plain": [
       "BuiltInYear  1800.0  1900.0  2000.0\n",
       "Beds Baths                         \n",
       "1.0  1.00         3      67      43\n",
       "     1.10         0       0       1\n",
       "     1.25         0       0       0\n",
       "     1.50         0       3       4\n",
       "     1.75         0       0       0\n",
       "     2.00         1       4      12\n",
       "     2.25         0       0       0\n",
       "     2.50         0       0       0\n",
       "     3.00         0       0       0\n",
       "     3.50         0       0       0\n",
       "     4.00         0       0       0\n",
       "     4.50         0       0       0\n",
       "     5.00         0       0       0\n",
       "     5.50         0       0       0\n",
       "     6.00         0       0       0\n",
       "     6.50         0       0       0\n",
       "     7.00         0       0       0\n",
       "     7.50         0       0       0\n",
       "     8.00         0       0       0\n",
       "     14.00        0       0       0\n",
       "2.0  1.00         2     123       2\n",
       "     1.10         0       0       0\n",
       "     1.25         0       0       0\n",
       "     1.50         1      16       2\n",
       "     1.75         0       0       0\n",
       "     2.00         1      66      69\n",
       "     2.25         0       0       0\n",
       "     2.50         0       4       7\n",
       "     3.00         0       6       2\n",
       "     3.50         0       1       0\n",
       "...             ...     ...     ...\n",
       "8.0  4.00         0       0       0\n",
       "     4.50         0       0       0\n",
       "     5.00         0       1       0\n",
       "     5.50         0       0       0\n",
       "     6.00         0       1       0\n",
       "     6.50         0       0       0\n",
       "     7.00         0       0       0\n",
       "     7.50         0       0       0\n",
       "     8.00         0       0       0\n",
       "     14.00        0       0       0\n",
       "9.0  1.00         0       0       0\n",
       "     1.10         0       0       0\n",
       "     1.25         0       0       0\n",
       "     1.50         0       0       0\n",
       "     1.75         0       0       0\n",
       "     2.00         0       0       0\n",
       "     2.25         0       0       0\n",
       "     2.50         0       0       0\n",
       "     3.00         0       1       0\n",
       "     3.50         0       0       0\n",
       "     4.00         0       0       0\n",
       "     4.50         0       0       0\n",
       "     5.00         0       0       0\n",
       "     5.50         0       0       0\n",
       "     6.00         0       2       0\n",
       "     6.50         0       0       0\n",
       "     7.00         0       0       0\n",
       "     7.50         0       0       0\n",
       "     8.00         0       0       0\n",
       "     14.00        0       0       0\n",
       "\n",
       "[180 rows x 3 columns]"
      ]
     },
     "execution_count": 93,
     "metadata": {},
     "output_type": "execute_result"
    }
   ],
   "source": [
    "pd.crosstab([df.Beds, df.Baths], df.BuiltInYear.apply(lambda year: np.floor(year / 100) * 100), dropna = False)"
   ]
  }
 ],
 "metadata": {
  "kernelspec": {
   "display_name": "Python 2",
   "language": "python",
   "name": "python2"
  },
  "language_info": {
   "codemirror_mode": {
    "name": "ipython",
    "version": 2
   },
   "file_extension": ".py",
   "mimetype": "text/x-python",
   "name": "python",
   "nbconvert_exporter": "python",
   "pygments_lexer": "ipython2",
   "version": "2.7.14"
  }
 },
 "nbformat": 4,
 "nbformat_minor": 1
}
